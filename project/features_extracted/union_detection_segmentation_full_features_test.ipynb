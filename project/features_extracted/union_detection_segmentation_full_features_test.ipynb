{
 "cells": [
  {
   "cell_type": "code",
   "execution_count": 28,
   "id": "4d9d1cec",
   "metadata": {},
   "outputs": [],
   "source": [
    "import pandas as pd\n",
    "import ast\n",
    "import json\n",
    "import base64\n",
    "import numpy as np\n",
    "import os\n",
    "import cv2, random\n",
    "np.set_printoptions(suppress=True, precision=4)\n",
    "from scipy import spatial\n",
    "import numpy as np\n",
    "import yaml\n",
    "import os.path as op\n",
    "from tqdm import tqdm\n",
    "import nltk\n",
    "from nltk.corpus import wordnet\n",
    "tqdm.pandas()"
   ]
  },
  {
   "cell_type": "markdown",
   "id": "99c10e0a",
   "metadata": {},
   "source": [
    "Detection"
   ]
  },
  {
   "cell_type": "code",
   "execution_count": 29,
   "id": "665cd508",
   "metadata": {},
   "outputs": [],
   "source": [
    "sg_tsv = './features_detection/training/test.feature.tsv'\n",
    "df_feature_detection = pd.read_csv(sg_tsv,sep='\\t',header = None, converters={1:json.loads})\n",
    "df_feature_detection = df_feature_detection.rename(columns={0: \"id\", 1: \"features\"})"
   ]
  },
  {
   "cell_type": "code",
   "execution_count": 30,
   "id": "92e3ee93",
   "metadata": {},
   "outputs": [],
   "source": [
    "sg_tsv = './features_detection/training/test2.label.tsv'\n",
    "df_label_detection = pd.read_csv(sg_tsv,sep='\\t',header = None, converters={1:json.loads})\n",
    "df_label_detection=df_label_detection.rename(columns={0: \"id\", 1: \"label\"})\n",
    "#df_label_detection"
   ]
  },
  {
   "cell_type": "code",
   "execution_count": 31,
   "id": "c03e3afa",
   "metadata": {},
   "outputs": [],
   "source": [
    "full_detection = pd.merge(df_feature_detection, df_label_detection, on=\"id\")\n",
    "#full_detection"
   ]
  },
  {
   "cell_type": "code",
   "execution_count": 32,
   "id": "16d2f0f0",
   "metadata": {},
   "outputs": [
    {
     "name": "stderr",
     "output_type": "stream",
     "text": [
      "1000it [00:03, 301.15it/s]\n"
     ]
    }
   ],
   "source": [
    "from tqdm import tqdm\n",
    "bbox_id = 0\n",
    "for index, row in tqdm(full_detection.iterrows()):\n",
    "    list_features = np.split(np.frombuffer(base64.b64decode(row[\"features\"][\"features\"]), np.float32), row[\"features\"][\"num_boxes\"])\n",
    "    for i in range(row[\"features\"][\"num_boxes\"]):\n",
    "        row[\"label\"][i][\"feature\"] = list_features[i]\n",
    "        row[\"label\"][i][\"bbox_id\"] = bbox_id\n",
    "        bbox_id+=1"
   ]
  },
  {
   "cell_type": "markdown",
   "id": "1e6c84ab",
   "metadata": {},
   "source": [
    "Segmentation"
   ]
  },
  {
   "cell_type": "code",
   "execution_count": 33,
   "id": "c4884ddc",
   "metadata": {},
   "outputs": [],
   "source": [
    "sg_tsv = './features_test1/training/test.feature.tsv'\n",
    "df_feature_segmentation = pd.read_csv(sg_tsv,sep='\\t',header = None, converters={1:json.loads})\n",
    "df_feature_segmentation = df_feature_segmentation.rename(columns={0: \"id\", 1: \"features\"})"
   ]
  },
  {
   "cell_type": "code",
   "execution_count": 34,
   "id": "0a05cc41",
   "metadata": {},
   "outputs": [],
   "source": [
    "sg_tsv = './features_test1/training/test.label.tsv'\n",
    "df_label_segmentation = pd.read_csv(sg_tsv,sep='\\t',header = None, converters={1:json.loads})\n",
    "df_label_segmentation = df_label_segmentation.rename(columns={0: \"id\", 1: \"label\"})\n",
    "#df_label_segmentation"
   ]
  },
  {
   "cell_type": "code",
   "execution_count": 35,
   "id": "af96e30e",
   "metadata": {},
   "outputs": [
    {
     "data": {
      "text/html": [
       "<div>\n",
       "<style scoped>\n",
       "    .dataframe tbody tr th:only-of-type {\n",
       "        vertical-align: middle;\n",
       "    }\n",
       "\n",
       "    .dataframe tbody tr th {\n",
       "        vertical-align: top;\n",
       "    }\n",
       "\n",
       "    .dataframe thead th {\n",
       "        text-align: right;\n",
       "    }\n",
       "</style>\n",
       "<table border=\"1\" class=\"dataframe\">\n",
       "  <thead>\n",
       "    <tr style=\"text-align: right;\">\n",
       "      <th></th>\n",
       "      <th>id</th>\n",
       "      <th>features</th>\n",
       "      <th>label</th>\n",
       "    </tr>\n",
       "  </thead>\n",
       "  <tbody>\n",
       "    <tr>\n",
       "      <th>0</th>\n",
       "      <td>1007129816</td>\n",
       "      <td>{'features': 'D+2rPwAAAAByKB1AAAAAACOOk0DcLitA...</td>\n",
       "      <td>[{'class': 'Earring', 'conf': 0.97952914237976...</td>\n",
       "    </tr>\n",
       "    <tr>\n",
       "      <th>1</th>\n",
       "      <td>1009434119</td>\n",
       "      <td>{'features': 'aGc8P/Mi9kBJpBFAlrPsQChxVUF4gRU/...</td>\n",
       "      <td>[{'class': 'Dog', 'conf': 0.9183911085128784, ...</td>\n",
       "    </tr>\n",
       "    <tr>\n",
       "      <th>2</th>\n",
       "      <td>101362133</td>\n",
       "      <td>{'features': 'tFivQIUShUHoiMs/A8UmQd2MLkButQBB...</td>\n",
       "      <td>[{'class': 'Belt', 'conf': 0.6726886630058289,...</td>\n",
       "    </tr>\n",
       "    <tr>\n",
       "      <th>3</th>\n",
       "      <td>102617084</td>\n",
       "      <td>{'features': '7VLJP8X5eUEAAAAAldc0QcF6lUBuVblA...</td>\n",
       "      <td>[{'class': 'Goggles', 'conf': 0.94563788175582...</td>\n",
       "    </tr>\n",
       "    <tr>\n",
       "      <th>4</th>\n",
       "      <td>10287332</td>\n",
       "      <td>{'features': 'XBGdQMwJeUCZbihBEsRYQQi8E0GhFac/...</td>\n",
       "      <td>[{'class': 'Jean', 'conf': 0.7828388214111328,...</td>\n",
       "    </tr>\n",
       "    <tr>\n",
       "      <th>...</th>\n",
       "      <td>...</td>\n",
       "      <td>...</td>\n",
       "      <td>...</td>\n",
       "    </tr>\n",
       "    <tr>\n",
       "      <th>995</th>\n",
       "      <td>900144365</td>\n",
       "      <td>{'features': 'G6MZQfE+2kBO/11AAAAAALLO6EAy3Qs/...</td>\n",
       "      <td>[{'class': 'Tennis racket', 'conf': 0.73602569...</td>\n",
       "    </tr>\n",
       "    <tr>\n",
       "      <th>996</th>\n",
       "      <td>94024624</td>\n",
       "      <td>{'features': 'l8BAQWJRbEDyLptA5drSQG50rkC6hQFA...</td>\n",
       "      <td>[{'class': 'Hat', 'conf': 0.7257902026176453, ...</td>\n",
       "    </tr>\n",
       "    <tr>\n",
       "      <th>997</th>\n",
       "      <td>95758790</td>\n",
       "      <td>{'features': 'kBFhQSA+90BQ7A5A+nPgQImNxz8AAAAA...</td>\n",
       "      <td>[{'class': 'Skirt', 'conf': 0.9404543042182922...</td>\n",
       "    </tr>\n",
       "    <tr>\n",
       "      <th>998</th>\n",
       "      <td>97233789</td>\n",
       "      <td>{'features': 'AAAAAAAAAAAAAAAAAAAAAAAAAADmi9c/...</td>\n",
       "      <td>[{'class': 'Ring', 'conf': 0.5740575194358826,...</td>\n",
       "    </tr>\n",
       "    <tr>\n",
       "      <th>999</th>\n",
       "      <td>97234558</td>\n",
       "      <td>{'features': 'oWfhQXDM1z8AIe898neGQCAnhkAAAAAA...</td>\n",
       "      <td>[{'class': 'Surfboard', 'conf': 0.933466017246...</td>\n",
       "    </tr>\n",
       "  </tbody>\n",
       "</table>\n",
       "<p>1000 rows × 3 columns</p>\n",
       "</div>"
      ],
      "text/plain": [
       "             id                                           features  \\\n",
       "0    1007129816  {'features': 'D+2rPwAAAAByKB1AAAAAACOOk0DcLitA...   \n",
       "1    1009434119  {'features': 'aGc8P/Mi9kBJpBFAlrPsQChxVUF4gRU/...   \n",
       "2     101362133  {'features': 'tFivQIUShUHoiMs/A8UmQd2MLkButQBB...   \n",
       "3     102617084  {'features': '7VLJP8X5eUEAAAAAldc0QcF6lUBuVblA...   \n",
       "4      10287332  {'features': 'XBGdQMwJeUCZbihBEsRYQQi8E0GhFac/...   \n",
       "..          ...                                                ...   \n",
       "995   900144365  {'features': 'G6MZQfE+2kBO/11AAAAAALLO6EAy3Qs/...   \n",
       "996    94024624  {'features': 'l8BAQWJRbEDyLptA5drSQG50rkC6hQFA...   \n",
       "997    95758790  {'features': 'kBFhQSA+90BQ7A5A+nPgQImNxz8AAAAA...   \n",
       "998    97233789  {'features': 'AAAAAAAAAAAAAAAAAAAAAAAAAADmi9c/...   \n",
       "999    97234558  {'features': 'oWfhQXDM1z8AIe898neGQCAnhkAAAAAA...   \n",
       "\n",
       "                                                 label  \n",
       "0    [{'class': 'Earring', 'conf': 0.97952914237976...  \n",
       "1    [{'class': 'Dog', 'conf': 0.9183911085128784, ...  \n",
       "2    [{'class': 'Belt', 'conf': 0.6726886630058289,...  \n",
       "3    [{'class': 'Goggles', 'conf': 0.94563788175582...  \n",
       "4    [{'class': 'Jean', 'conf': 0.7828388214111328,...  \n",
       "..                                                 ...  \n",
       "995  [{'class': 'Tennis racket', 'conf': 0.73602569...  \n",
       "996  [{'class': 'Hat', 'conf': 0.7257902026176453, ...  \n",
       "997  [{'class': 'Skirt', 'conf': 0.9404543042182922...  \n",
       "998  [{'class': 'Ring', 'conf': 0.5740575194358826,...  \n",
       "999  [{'class': 'Surfboard', 'conf': 0.933466017246...  \n",
       "\n",
       "[1000 rows x 3 columns]"
      ]
     },
     "execution_count": 35,
     "metadata": {},
     "output_type": "execute_result"
    }
   ],
   "source": [
    "full_segmentation = pd.merge(df_feature_segmentation, df_label_segmentation, on=\"id\")\n",
    "full_segmentation"
   ]
  },
  {
   "cell_type": "code",
   "execution_count": 36,
   "id": "6b5f4c99",
   "metadata": {},
   "outputs": [
    {
     "name": "stderr",
     "output_type": "stream",
     "text": [
      "1000it [00:01, 695.96it/s]\n"
     ]
    }
   ],
   "source": [
    "from tqdm import tqdm\n",
    "bbox_id = 0\n",
    "for index, row in tqdm(full_segmentation.iterrows()):\n",
    "    list_features = np.split(np.frombuffer(base64.b64decode(row[\"features\"][\"features\"]), np.float32), row[\"features\"][\"num_boxes\"])\n",
    "    for i in range(row[\"features\"][\"num_boxes\"]):\n",
    "        row[\"label\"][i][\"feature\"] = list_features[i]\n",
    "        row[\"label\"][i][\"bbox_id\"] = bbox_id\n",
    "        bbox_id+=1"
   ]
  },
  {
   "cell_type": "markdown",
   "id": "2b31dd44",
   "metadata": {},
   "source": [
    "Union"
   ]
  },
  {
   "cell_type": "code",
   "execution_count": 37,
   "id": "144a2fbe",
   "metadata": {},
   "outputs": [
    {
     "data": {
      "text/html": [
       "<div>\n",
       "<style scoped>\n",
       "    .dataframe tbody tr th:only-of-type {\n",
       "        vertical-align: middle;\n",
       "    }\n",
       "\n",
       "    .dataframe tbody tr th {\n",
       "        vertical-align: top;\n",
       "    }\n",
       "\n",
       "    .dataframe thead th {\n",
       "        text-align: right;\n",
       "    }\n",
       "</style>\n",
       "<table border=\"1\" class=\"dataframe\">\n",
       "  <thead>\n",
       "    <tr style=\"text-align: right;\">\n",
       "      <th></th>\n",
       "      <th>id</th>\n",
       "      <th>features</th>\n",
       "      <th>label</th>\n",
       "      <th>union</th>\n",
       "    </tr>\n",
       "  </thead>\n",
       "  <tbody>\n",
       "    <tr>\n",
       "      <th>0</th>\n",
       "      <td>1007129816</td>\n",
       "      <td>{'features': 'D+2rPwAAAAByKB1AAAAAACOOk0DcLitA...</td>\n",
       "      <td>[{'class': 'Earring', 'conf': 0.97952914237976...</td>\n",
       "      <td>[{'class': 'Earring', 'conf': 0.97952914237976...</td>\n",
       "    </tr>\n",
       "    <tr>\n",
       "      <th>1</th>\n",
       "      <td>1009434119</td>\n",
       "      <td>{'features': 'aGc8P/Mi9kBJpBFAlrPsQChxVUF4gRU/...</td>\n",
       "      <td>[{'class': 'Dog', 'conf': 0.9183911085128784, ...</td>\n",
       "      <td>[{'class': 'Dog', 'conf': 0.9183911085128784, ...</td>\n",
       "    </tr>\n",
       "    <tr>\n",
       "      <th>2</th>\n",
       "      <td>101362133</td>\n",
       "      <td>{'features': 'tFivQIUShUHoiMs/A8UmQd2MLkButQBB...</td>\n",
       "      <td>[{'class': 'Belt', 'conf': 0.6726886630058289,...</td>\n",
       "      <td>[{'class': 'Belt', 'conf': 0.6726886630058289,...</td>\n",
       "    </tr>\n",
       "    <tr>\n",
       "      <th>3</th>\n",
       "      <td>102617084</td>\n",
       "      <td>{'features': '7VLJP8X5eUEAAAAAldc0QcF6lUBuVblA...</td>\n",
       "      <td>[{'class': 'Goggles', 'conf': 0.94563788175582...</td>\n",
       "      <td>[{'class': 'Goggles', 'conf': 0.94563788175582...</td>\n",
       "    </tr>\n",
       "    <tr>\n",
       "      <th>4</th>\n",
       "      <td>10287332</td>\n",
       "      <td>{'features': 'XBGdQMwJeUCZbihBEsRYQQi8E0GhFac/...</td>\n",
       "      <td>[{'class': 'Jean', 'conf': 0.7828388214111328,...</td>\n",
       "      <td>[{'class': 'Jean', 'conf': 0.7828388214111328,...</td>\n",
       "    </tr>\n",
       "    <tr>\n",
       "      <th>...</th>\n",
       "      <td>...</td>\n",
       "      <td>...</td>\n",
       "      <td>...</td>\n",
       "      <td>...</td>\n",
       "    </tr>\n",
       "    <tr>\n",
       "      <th>995</th>\n",
       "      <td>900144365</td>\n",
       "      <td>{'features': 'G6MZQfE+2kBO/11AAAAAALLO6EAy3Qs/...</td>\n",
       "      <td>[{'class': 'Tennis racket', 'conf': 0.73602569...</td>\n",
       "      <td>[{'class': 'Tennis racket', 'conf': 0.73602569...</td>\n",
       "    </tr>\n",
       "    <tr>\n",
       "      <th>996</th>\n",
       "      <td>94024624</td>\n",
       "      <td>{'features': 'l8BAQWJRbEDyLptA5drSQG50rkC6hQFA...</td>\n",
       "      <td>[{'class': 'Hat', 'conf': 0.7257902026176453, ...</td>\n",
       "      <td>[{'class': 'Hat', 'conf': 0.7257902026176453, ...</td>\n",
       "    </tr>\n",
       "    <tr>\n",
       "      <th>997</th>\n",
       "      <td>95758790</td>\n",
       "      <td>{'features': 'kBFhQSA+90BQ7A5A+nPgQImNxz8AAAAA...</td>\n",
       "      <td>[{'class': 'Skirt', 'conf': 0.9404543042182922...</td>\n",
       "      <td>[{'class': 'Skirt', 'conf': 0.9404543042182922...</td>\n",
       "    </tr>\n",
       "    <tr>\n",
       "      <th>998</th>\n",
       "      <td>97233789</td>\n",
       "      <td>{'features': 'AAAAAAAAAAAAAAAAAAAAAAAAAADmi9c/...</td>\n",
       "      <td>[{'class': 'Ring', 'conf': 0.5740575194358826,...</td>\n",
       "      <td>[{'class': 'Ring', 'conf': 0.5740575194358826,...</td>\n",
       "    </tr>\n",
       "    <tr>\n",
       "      <th>999</th>\n",
       "      <td>97234558</td>\n",
       "      <td>{'features': 'oWfhQXDM1z8AIe898neGQCAnhkAAAAAA...</td>\n",
       "      <td>[{'class': 'Surfboard', 'conf': 0.933466017246...</td>\n",
       "      <td>[{'class': 'Surfboard', 'conf': 0.933466017246...</td>\n",
       "    </tr>\n",
       "  </tbody>\n",
       "</table>\n",
       "<p>1000 rows × 4 columns</p>\n",
       "</div>"
      ],
      "text/plain": [
       "             id                                           features  \\\n",
       "0    1007129816  {'features': 'D+2rPwAAAAByKB1AAAAAACOOk0DcLitA...   \n",
       "1    1009434119  {'features': 'aGc8P/Mi9kBJpBFAlrPsQChxVUF4gRU/...   \n",
       "2     101362133  {'features': 'tFivQIUShUHoiMs/A8UmQd2MLkButQBB...   \n",
       "3     102617084  {'features': '7VLJP8X5eUEAAAAAldc0QcF6lUBuVblA...   \n",
       "4      10287332  {'features': 'XBGdQMwJeUCZbihBEsRYQQi8E0GhFac/...   \n",
       "..          ...                                                ...   \n",
       "995   900144365  {'features': 'G6MZQfE+2kBO/11AAAAAALLO6EAy3Qs/...   \n",
       "996    94024624  {'features': 'l8BAQWJRbEDyLptA5drSQG50rkC6hQFA...   \n",
       "997    95758790  {'features': 'kBFhQSA+90BQ7A5A+nPgQImNxz8AAAAA...   \n",
       "998    97233789  {'features': 'AAAAAAAAAAAAAAAAAAAAAAAAAADmi9c/...   \n",
       "999    97234558  {'features': 'oWfhQXDM1z8AIe898neGQCAnhkAAAAAA...   \n",
       "\n",
       "                                                 label  \\\n",
       "0    [{'class': 'Earring', 'conf': 0.97952914237976...   \n",
       "1    [{'class': 'Dog', 'conf': 0.9183911085128784, ...   \n",
       "2    [{'class': 'Belt', 'conf': 0.6726886630058289,...   \n",
       "3    [{'class': 'Goggles', 'conf': 0.94563788175582...   \n",
       "4    [{'class': 'Jean', 'conf': 0.7828388214111328,...   \n",
       "..                                                 ...   \n",
       "995  [{'class': 'Tennis racket', 'conf': 0.73602569...   \n",
       "996  [{'class': 'Hat', 'conf': 0.7257902026176453, ...   \n",
       "997  [{'class': 'Skirt', 'conf': 0.9404543042182922...   \n",
       "998  [{'class': 'Ring', 'conf': 0.5740575194358826,...   \n",
       "999  [{'class': 'Surfboard', 'conf': 0.933466017246...   \n",
       "\n",
       "                                                 union  \n",
       "0    [{'class': 'Earring', 'conf': 0.97952914237976...  \n",
       "1    [{'class': 'Dog', 'conf': 0.9183911085128784, ...  \n",
       "2    [{'class': 'Belt', 'conf': 0.6726886630058289,...  \n",
       "3    [{'class': 'Goggles', 'conf': 0.94563788175582...  \n",
       "4    [{'class': 'Jean', 'conf': 0.7828388214111328,...  \n",
       "..                                                 ...  \n",
       "995  [{'class': 'Tennis racket', 'conf': 0.73602569...  \n",
       "996  [{'class': 'Hat', 'conf': 0.7257902026176453, ...  \n",
       "997  [{'class': 'Skirt', 'conf': 0.9404543042182922...  \n",
       "998  [{'class': 'Ring', 'conf': 0.5740575194358826,...  \n",
       "999  [{'class': 'Surfboard', 'conf': 0.933466017246...  \n",
       "\n",
       "[1000 rows x 4 columns]"
      ]
     },
     "execution_count": 37,
     "metadata": {},
     "output_type": "execute_result"
    }
   ],
   "source": [
    "full_segmentation[\"union\"] = full_segmentation[\"label\"] + full_detection[\"label\"]\n",
    "full_segmentation "
   ]
  },
  {
   "cell_type": "code",
   "execution_count": 38,
   "id": "3a20dccd",
   "metadata": {},
   "outputs": [
    {
     "name": "stderr",
     "output_type": "stream",
     "text": [
      "100%|███████████████████████████████████████████████████████████████████████████| 1000/1000 [00:00<00:00, 20831.12it/s]\n"
     ]
    }
   ],
   "source": [
    "for i in tqdm(range(len(full_segmentation))):\n",
    "    if(len(full_segmentation[\"label\"].iloc[i]) + len(full_detection[\"label\"].iloc[i]) != len(full_segmentation[\"union\"].iloc[i])):\n",
    "        print(\"!!!!!!!!!!!!!!!\")"
   ]
  },
  {
   "cell_type": "code",
   "execution_count": 39,
   "id": "35f3c008",
   "metadata": {},
   "outputs": [],
   "source": [
    "def generate_features(x):\n",
    "    idx, data, num_boxes = x[\"id\"],x[\"union\"],len(x[\"union\"])\n",
    "    features_arr = []\n",
    "    for i in range(num_boxes):\n",
    "        features = data[i]['feature']\n",
    "        features_arr.append(features.astype(np.float32))\n",
    "    \n",
    "    features = np.vstack(tuple(features_arr))\n",
    "    features = base64.b64encode(features).decode(\"utf-8\")\n",
    "    return {\"features\":features, \"num_boxes\":num_boxes}"
   ]
  },
  {
   "cell_type": "code",
   "execution_count": 40,
   "id": "b4b2795f",
   "metadata": {},
   "outputs": [],
   "source": [
    "def generate_labels(x):\n",
    "    data = x[\"union\"]\n",
    "    res = [{\"class\":el['class'].capitalize(),\"conf\":el['conf'], \"rect\": el['rect']} for el in data] \n",
    "    return res"
   ]
  },
  {
   "cell_type": "code",
   "execution_count": 41,
   "id": "26a2a25b",
   "metadata": {},
   "outputs": [
    {
     "name": "stderr",
     "output_type": "stream",
     "text": [
      "100%|█████████████████████████████████████████████████████████████████████████████| 1000/1000 [00:04<00:00, 240.67it/s]\n",
      "100%|█████████████████████████████████████████████████████████████████████████████| 1000/1000 [00:04<00:00, 229.81it/s]\n"
     ]
    }
   ],
   "source": [
    "full_segmentation['feature_union'] = full_segmentation.progress_apply(generate_features,axis=1)\n",
    "full_segmentation['feature_union'] = full_segmentation['feature_union'].progress_apply(json.dumps)"
   ]
  },
  {
   "cell_type": "code",
   "execution_count": 42,
   "id": "7536ffd7",
   "metadata": {},
   "outputs": [
    {
     "name": "stderr",
     "output_type": "stream",
     "text": [
      "100%|████████████████████████████████████████████████████████████████████████████| 1000/1000 [00:00<00:00, 3808.89it/s]\n",
      "100%|████████████████████████████████████████████████████████████████████████████| 1000/1000 [00:00<00:00, 2542.17it/s]\n"
     ]
    }
   ],
   "source": [
    "full_segmentation['label_union'] = full_segmentation.progress_apply(generate_labels,axis=1)\n",
    "full_segmentation['label_union'] = full_segmentation['label_union'].progress_apply(json.dumps)"
   ]
  },
  {
   "cell_type": "code",
   "execution_count": 43,
   "id": "a1c56611",
   "metadata": {},
   "outputs": [],
   "source": [
    "from features_detection.maskrcnn_benchmark.structures.tsv_file_ops import tsv_reader, tsv_writer\n",
    "\n",
    "OUTPUT_DIR = './training_union_full/'\n",
    "LABEL_FILE = os.path.join(OUTPUT_DIR,'test.label.tsv')\n",
    "FEATURE_FILE = os.path.join(OUTPUT_DIR,'test.feature.tsv')\n",
    "if not os.path.exists(OUTPUT_DIR):\n",
    "    os.makedirs(OUTPUT_DIR)\n",
    "    print(f\"path to {OUTPUT_DIR} created\")"
   ]
  },
  {
   "cell_type": "code",
   "execution_count": 44,
   "id": "be075ead",
   "metadata": {},
   "outputs": [
    {
     "data": {
      "text/html": [
       "<div>\n",
       "<style scoped>\n",
       "    .dataframe tbody tr th:only-of-type {\n",
       "        vertical-align: middle;\n",
       "    }\n",
       "\n",
       "    .dataframe tbody tr th {\n",
       "        vertical-align: top;\n",
       "    }\n",
       "\n",
       "    .dataframe thead th {\n",
       "        text-align: right;\n",
       "    }\n",
       "</style>\n",
       "<table border=\"1\" class=\"dataframe\">\n",
       "  <thead>\n",
       "    <tr style=\"text-align: right;\">\n",
       "      <th></th>\n",
       "      <th>id</th>\n",
       "      <th>dim</th>\n",
       "    </tr>\n",
       "  </thead>\n",
       "  <tbody>\n",
       "    <tr>\n",
       "      <th>0</th>\n",
       "      <td>1007129816</td>\n",
       "      <td>[{'height': 461, 'width': 500}]</td>\n",
       "    </tr>\n",
       "    <tr>\n",
       "      <th>1</th>\n",
       "      <td>1009434119</td>\n",
       "      <td>[{'height': 333, 'width': 500}]</td>\n",
       "    </tr>\n",
       "    <tr>\n",
       "      <th>2</th>\n",
       "      <td>101362133</td>\n",
       "      <td>[{'height': 500, 'width': 347}]</td>\n",
       "    </tr>\n",
       "    <tr>\n",
       "      <th>3</th>\n",
       "      <td>102617084</td>\n",
       "      <td>[{'height': 375, 'width': 500}]</td>\n",
       "    </tr>\n",
       "    <tr>\n",
       "      <th>4</th>\n",
       "      <td>10287332</td>\n",
       "      <td>[{'height': 375, 'width': 500}]</td>\n",
       "    </tr>\n",
       "    <tr>\n",
       "      <th>...</th>\n",
       "      <td>...</td>\n",
       "      <td>...</td>\n",
       "    </tr>\n",
       "    <tr>\n",
       "      <th>995</th>\n",
       "      <td>900144365</td>\n",
       "      <td>[{'height': 385, 'width': 500}]</td>\n",
       "    </tr>\n",
       "    <tr>\n",
       "      <th>996</th>\n",
       "      <td>94024624</td>\n",
       "      <td>[{'height': 332, 'width': 500}]</td>\n",
       "    </tr>\n",
       "    <tr>\n",
       "      <th>997</th>\n",
       "      <td>95758790</td>\n",
       "      <td>[{'height': 333, 'width': 500}]</td>\n",
       "    </tr>\n",
       "    <tr>\n",
       "      <th>998</th>\n",
       "      <td>97233789</td>\n",
       "      <td>[{'height': 333, 'width': 500}]</td>\n",
       "    </tr>\n",
       "    <tr>\n",
       "      <th>999</th>\n",
       "      <td>97234558</td>\n",
       "      <td>[{'height': 322, 'width': 500}]</td>\n",
       "    </tr>\n",
       "  </tbody>\n",
       "</table>\n",
       "<p>1000 rows × 2 columns</p>\n",
       "</div>"
      ],
      "text/plain": [
       "             id                              dim\n",
       "0    1007129816  [{'height': 461, 'width': 500}]\n",
       "1    1009434119  [{'height': 333, 'width': 500}]\n",
       "2     101362133  [{'height': 500, 'width': 347}]\n",
       "3     102617084  [{'height': 375, 'width': 500}]\n",
       "4      10287332  [{'height': 375, 'width': 500}]\n",
       "..          ...                              ...\n",
       "995   900144365  [{'height': 385, 'width': 500}]\n",
       "996    94024624  [{'height': 332, 'width': 500}]\n",
       "997    95758790  [{'height': 333, 'width': 500}]\n",
       "998    97233789  [{'height': 333, 'width': 500}]\n",
       "999    97234558  [{'height': 322, 'width': 500}]\n",
       "\n",
       "[1000 rows x 2 columns]"
      ]
     },
     "execution_count": 44,
     "metadata": {},
     "output_type": "execute_result"
    }
   ],
   "source": [
    "sg_tsv = './training_union_full/test.hw.tsv'\n",
    "\n",
    "df_train_hw = pd.read_csv(sg_tsv,sep='\\t',header = None,converters={1:json.loads})#converters={1:ast.literal_eval})\n",
    "df_train_hw = df_train_hw.rename(columns={0: \"id\", 1: \"dim\"})\n",
    "\n",
    "df_train_hw"
   ]
  },
  {
   "cell_type": "code",
   "execution_count": 45,
   "id": "6cbfcbfa",
   "metadata": {},
   "outputs": [],
   "source": [
    "tsv_writer(df_train_hw.merge(full_segmentation, on=[\"id\"])[[\"id\",\"feature_union\"]].values.tolist(), FEATURE_FILE)"
   ]
  },
  {
   "cell_type": "code",
   "execution_count": 46,
   "id": "42e86645",
   "metadata": {},
   "outputs": [],
   "source": [
    "tsv_writer(df_train_hw.merge(full_segmentation, on=[\"id\"])[[\"id\",\"label_union\"]].values.tolist(), LABEL_FILE)"
   ]
  },
  {
   "cell_type": "code",
   "execution_count": null,
   "id": "7e826b41",
   "metadata": {},
   "outputs": [],
   "source": [
    "# test"
   ]
  },
  {
   "cell_type": "code",
   "execution_count": 52,
   "id": "ca944c3d",
   "metadata": {},
   "outputs": [
    {
     "data": {
      "text/html": [
       "<div>\n",
       "<style scoped>\n",
       "    .dataframe tbody tr th:only-of-type {\n",
       "        vertical-align: middle;\n",
       "    }\n",
       "\n",
       "    .dataframe tbody tr th {\n",
       "        vertical-align: top;\n",
       "    }\n",
       "\n",
       "    .dataframe thead th {\n",
       "        text-align: right;\n",
       "    }\n",
       "</style>\n",
       "<table border=\"1\" class=\"dataframe\">\n",
       "  <thead>\n",
       "    <tr style=\"text-align: right;\">\n",
       "      <th></th>\n",
       "      <th>id</th>\n",
       "      <th>feature</th>\n",
       "    </tr>\n",
       "  </thead>\n",
       "  <tbody>\n",
       "    <tr>\n",
       "      <th>0</th>\n",
       "      <td>1007129816</td>\n",
       "      <td>{'features': 'D+2rPwAAAAByKB1AAAAAACOOk0DcLitA...</td>\n",
       "    </tr>\n",
       "    <tr>\n",
       "      <th>1</th>\n",
       "      <td>1009434119</td>\n",
       "      <td>{'features': 'aGc8P/Mi9kBJpBFAlrPsQChxVUF4gRU/...</td>\n",
       "    </tr>\n",
       "    <tr>\n",
       "      <th>2</th>\n",
       "      <td>101362133</td>\n",
       "      <td>{'features': 'tFivQIUShUHoiMs/A8UmQd2MLkButQBB...</td>\n",
       "    </tr>\n",
       "    <tr>\n",
       "      <th>3</th>\n",
       "      <td>102617084</td>\n",
       "      <td>{'features': '7VLJP8X5eUEAAAAAldc0QcF6lUBuVblA...</td>\n",
       "    </tr>\n",
       "    <tr>\n",
       "      <th>4</th>\n",
       "      <td>10287332</td>\n",
       "      <td>{'features': 'XBGdQMwJeUCZbihBEsRYQQi8E0GhFac/...</td>\n",
       "    </tr>\n",
       "    <tr>\n",
       "      <th>...</th>\n",
       "      <td>...</td>\n",
       "      <td>...</td>\n",
       "    </tr>\n",
       "    <tr>\n",
       "      <th>995</th>\n",
       "      <td>900144365</td>\n",
       "      <td>{'features': 'G6MZQfE+2kBO/11AAAAAALLO6EAy3Qs/...</td>\n",
       "    </tr>\n",
       "    <tr>\n",
       "      <th>996</th>\n",
       "      <td>94024624</td>\n",
       "      <td>{'features': 'l8BAQWJRbEDyLptA5drSQG50rkC6hQFA...</td>\n",
       "    </tr>\n",
       "    <tr>\n",
       "      <th>997</th>\n",
       "      <td>95758790</td>\n",
       "      <td>{'features': 'kBFhQSA+90BQ7A5A+nPgQImNxz8AAAAA...</td>\n",
       "    </tr>\n",
       "    <tr>\n",
       "      <th>998</th>\n",
       "      <td>97233789</td>\n",
       "      <td>{'features': 'AAAAAAAAAAAAAAAAAAAAAAAAAADmi9c/...</td>\n",
       "    </tr>\n",
       "    <tr>\n",
       "      <th>999</th>\n",
       "      <td>97234558</td>\n",
       "      <td>{'features': 'oWfhQXDM1z8AIe898neGQCAnhkAAAAAA...</td>\n",
       "    </tr>\n",
       "  </tbody>\n",
       "</table>\n",
       "<p>1000 rows × 2 columns</p>\n",
       "</div>"
      ],
      "text/plain": [
       "             id                                            feature\n",
       "0    1007129816  {'features': 'D+2rPwAAAAByKB1AAAAAACOOk0DcLitA...\n",
       "1    1009434119  {'features': 'aGc8P/Mi9kBJpBFAlrPsQChxVUF4gRU/...\n",
       "2     101362133  {'features': 'tFivQIUShUHoiMs/A8UmQd2MLkButQBB...\n",
       "3     102617084  {'features': '7VLJP8X5eUEAAAAAldc0QcF6lUBuVblA...\n",
       "4      10287332  {'features': 'XBGdQMwJeUCZbihBEsRYQQi8E0GhFac/...\n",
       "..          ...                                                ...\n",
       "995   900144365  {'features': 'G6MZQfE+2kBO/11AAAAAALLO6EAy3Qs/...\n",
       "996    94024624  {'features': 'l8BAQWJRbEDyLptA5drSQG50rkC6hQFA...\n",
       "997    95758790  {'features': 'kBFhQSA+90BQ7A5A+nPgQImNxz8AAAAA...\n",
       "998    97233789  {'features': 'AAAAAAAAAAAAAAAAAAAAAAAAAADmi9c/...\n",
       "999    97234558  {'features': 'oWfhQXDM1z8AIe898neGQCAnhkAAAAAA...\n",
       "\n",
       "[1000 rows x 2 columns]"
      ]
     },
     "execution_count": 52,
     "metadata": {},
     "output_type": "execute_result"
    }
   ],
   "source": [
    "sg_tsv = './training_union_full/test.feature.tsv'\n",
    "df_features = pd.read_csv(sg_tsv,sep='\\t',header = None, converters={1:json.loads})\n",
    "df_features = df_features.rename(columns={0: \"id\", 1: \"feature\"})\n",
    "df_features"
   ]
  },
  {
   "cell_type": "code",
   "execution_count": 53,
   "id": "90c82429",
   "metadata": {},
   "outputs": [
    {
     "data": {
      "text/html": [
       "<div>\n",
       "<style scoped>\n",
       "    .dataframe tbody tr th:only-of-type {\n",
       "        vertical-align: middle;\n",
       "    }\n",
       "\n",
       "    .dataframe tbody tr th {\n",
       "        vertical-align: top;\n",
       "    }\n",
       "\n",
       "    .dataframe thead th {\n",
       "        text-align: right;\n",
       "    }\n",
       "</style>\n",
       "<table border=\"1\" class=\"dataframe\">\n",
       "  <thead>\n",
       "    <tr style=\"text-align: right;\">\n",
       "      <th></th>\n",
       "      <th>id</th>\n",
       "      <th>label</th>\n",
       "    </tr>\n",
       "  </thead>\n",
       "  <tbody>\n",
       "    <tr>\n",
       "      <th>0</th>\n",
       "      <td>1007129816</td>\n",
       "      <td>[{'class': 'Earring', 'conf': 0.97952914237976...</td>\n",
       "    </tr>\n",
       "    <tr>\n",
       "      <th>1</th>\n",
       "      <td>1009434119</td>\n",
       "      <td>[{'class': 'Dog', 'conf': 0.9183911085128784, ...</td>\n",
       "    </tr>\n",
       "    <tr>\n",
       "      <th>2</th>\n",
       "      <td>101362133</td>\n",
       "      <td>[{'class': 'Belt', 'conf': 0.6726886630058289,...</td>\n",
       "    </tr>\n",
       "    <tr>\n",
       "      <th>3</th>\n",
       "      <td>102617084</td>\n",
       "      <td>[{'class': 'Goggles', 'conf': 0.94563788175582...</td>\n",
       "    </tr>\n",
       "    <tr>\n",
       "      <th>4</th>\n",
       "      <td>10287332</td>\n",
       "      <td>[{'class': 'Jean', 'conf': 0.7828388214111328,...</td>\n",
       "    </tr>\n",
       "    <tr>\n",
       "      <th>...</th>\n",
       "      <td>...</td>\n",
       "      <td>...</td>\n",
       "    </tr>\n",
       "    <tr>\n",
       "      <th>995</th>\n",
       "      <td>900144365</td>\n",
       "      <td>[{'class': 'Tennis racket', 'conf': 0.73602569...</td>\n",
       "    </tr>\n",
       "    <tr>\n",
       "      <th>996</th>\n",
       "      <td>94024624</td>\n",
       "      <td>[{'class': 'Hat', 'conf': 0.7257902026176453, ...</td>\n",
       "    </tr>\n",
       "    <tr>\n",
       "      <th>997</th>\n",
       "      <td>95758790</td>\n",
       "      <td>[{'class': 'Skirt', 'conf': 0.9404543042182922...</td>\n",
       "    </tr>\n",
       "    <tr>\n",
       "      <th>998</th>\n",
       "      <td>97233789</td>\n",
       "      <td>[{'class': 'Ring', 'conf': 0.5740575194358826,...</td>\n",
       "    </tr>\n",
       "    <tr>\n",
       "      <th>999</th>\n",
       "      <td>97234558</td>\n",
       "      <td>[{'class': 'Surfboard', 'conf': 0.933466017246...</td>\n",
       "    </tr>\n",
       "  </tbody>\n",
       "</table>\n",
       "<p>1000 rows × 2 columns</p>\n",
       "</div>"
      ],
      "text/plain": [
       "             id                                              label\n",
       "0    1007129816  [{'class': 'Earring', 'conf': 0.97952914237976...\n",
       "1    1009434119  [{'class': 'Dog', 'conf': 0.9183911085128784, ...\n",
       "2     101362133  [{'class': 'Belt', 'conf': 0.6726886630058289,...\n",
       "3     102617084  [{'class': 'Goggles', 'conf': 0.94563788175582...\n",
       "4      10287332  [{'class': 'Jean', 'conf': 0.7828388214111328,...\n",
       "..          ...                                                ...\n",
       "995   900144365  [{'class': 'Tennis racket', 'conf': 0.73602569...\n",
       "996    94024624  [{'class': 'Hat', 'conf': 0.7257902026176453, ...\n",
       "997    95758790  [{'class': 'Skirt', 'conf': 0.9404543042182922...\n",
       "998    97233789  [{'class': 'Ring', 'conf': 0.5740575194358826,...\n",
       "999    97234558  [{'class': 'Surfboard', 'conf': 0.933466017246...\n",
       "\n",
       "[1000 rows x 2 columns]"
      ]
     },
     "execution_count": 53,
     "metadata": {},
     "output_type": "execute_result"
    }
   ],
   "source": [
    "sg_tsv = './training_union_full/test.label.tsv'\n",
    "df_labels = pd.read_csv(sg_tsv,sep='\\t',header = None, converters={1:json.loads})\n",
    "df_labels = df_labels.rename(columns={0: \"id\", 1: \"label\"})\n",
    "df_labels"
   ]
  },
  {
   "cell_type": "code",
   "execution_count": 54,
   "id": "38641748",
   "metadata": {},
   "outputs": [
    {
     "name": "stderr",
     "output_type": "stream",
     "text": [
      "100%|█████████████████████████████████████████████████████████████████████████████| 1000/1000 [00:03<00:00, 326.47it/s]\n"
     ]
    }
   ],
   "source": [
    "for elem in tqdm(df_features[\"feature\"].values): # check\n",
    "    if len(np.frombuffer(base64.b64decode(elem[\"features\"]), np.float32)) / elem[\"num_boxes\"] != 2054:\n",
    "        print(\"noooooooooooooooo!!!!!!!\")"
   ]
  },
  {
   "cell_type": "code",
   "execution_count": 55,
   "id": "039911ab",
   "metadata": {},
   "outputs": [
    {
     "name": "stderr",
     "output_type": "stream",
     "text": [
      "1000it [00:00, ?it/s]\n"
     ]
    }
   ],
   "source": [
    "#df_labels.merge(df_features, on=[\"id\"])[\"feature\"].iloc[0]\n",
    "for elem, label in tqdm(zip(df_labels.merge(df_features, on=[\"id\"])[\"feature\"].values, df_labels.merge(df_features, on=[\"id\"])[\"label\"].values)): # check\n",
    "    if elem[\"num_boxes\"] != len(label):\n",
    "        print(\"noooooooooooooooo!!!!!!!\")#num_boxes"
   ]
  },
  {
   "cell_type": "code",
   "execution_count": 56,
   "id": "41bb8604",
   "metadata": {},
   "outputs": [
    {
     "data": {
      "text/plain": [
       "True"
      ]
     },
     "execution_count": 56,
     "metadata": {},
     "output_type": "execute_result"
    }
   ],
   "source": [
    "df_labels.merge(df_features, on=[\"id\"])[\"feature\"].iloc[0][\"num_boxes\"] == len(df_labels.merge(df_features, on=[\"id\"])[\"label\"].iloc[0])"
   ]
  }
 ],
 "metadata": {
  "kernelspec": {
   "display_name": "Python 3 (ipykernel)",
   "language": "python",
   "name": "python3"
  },
  "language_info": {
   "codemirror_mode": {
    "name": "ipython",
    "version": 3
   },
   "file_extension": ".py",
   "mimetype": "text/x-python",
   "name": "python",
   "nbconvert_exporter": "python",
   "pygments_lexer": "ipython3",
   "version": "3.9.4"
  }
 },
 "nbformat": 4,
 "nbformat_minor": 5
}
