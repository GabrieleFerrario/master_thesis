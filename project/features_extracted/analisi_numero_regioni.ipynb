{
 "cells": [
  {
   "cell_type": "code",
   "execution_count": 1,
   "id": "751fd236",
   "metadata": {},
   "outputs": [],
   "source": [
    "import pandas as pd\n",
    "import ast\n",
    "import json\n",
    "import base64\n",
    "import numpy as np\n",
    "import os\n",
    "import cv2, random\n",
    "np.set_printoptions(suppress=True, precision=4)\n",
    "from scipy import spatial\n",
    "import numpy as np\n",
    "import yaml\n",
    "import os.path as op\n",
    "from tqdm import tqdm\n",
    "import nltk\n",
    "from nltk.corpus import wordnet\n",
    "tqdm.pandas()"
   ]
  },
  {
   "cell_type": "code",
   "execution_count": 6,
   "id": "7785d053",
   "metadata": {},
   "outputs": [
    {
     "data": {
      "text/html": [
       "<div>\n",
       "<style scoped>\n",
       "    .dataframe tbody tr th:only-of-type {\n",
       "        vertical-align: middle;\n",
       "    }\n",
       "\n",
       "    .dataframe tbody tr th {\n",
       "        vertical-align: top;\n",
       "    }\n",
       "\n",
       "    .dataframe thead th {\n",
       "        text-align: right;\n",
       "    }\n",
       "</style>\n",
       "<table border=\"1\" class=\"dataframe\">\n",
       "  <thead>\n",
       "    <tr style=\"text-align: right;\">\n",
       "      <th></th>\n",
       "      <th>id</th>\n",
       "      <th>label</th>\n",
       "    </tr>\n",
       "  </thead>\n",
       "  <tbody>\n",
       "    <tr>\n",
       "      <th>0</th>\n",
       "      <td>1000092795</td>\n",
       "      <td>[{'class': 'Bush', 'conf': 0.8409668207168579,...</td>\n",
       "    </tr>\n",
       "    <tr>\n",
       "      <th>1</th>\n",
       "      <td>10002456</td>\n",
       "      <td>[{'class': 'Sky', 'conf': 0.7663399577140808, ...</td>\n",
       "    </tr>\n",
       "    <tr>\n",
       "      <th>2</th>\n",
       "      <td>1000268201</td>\n",
       "      <td>[{'class': 'Dress', 'conf': 0.9922232031822205...</td>\n",
       "    </tr>\n",
       "    <tr>\n",
       "      <th>3</th>\n",
       "      <td>1000344755</td>\n",
       "      <td>[{'class': 'Man', 'conf': 0.9483818411827087, ...</td>\n",
       "    </tr>\n",
       "    <tr>\n",
       "      <th>4</th>\n",
       "      <td>1000366164</td>\n",
       "      <td>[{'class': 'Glasses', 'conf': 0.96930736303329...</td>\n",
       "    </tr>\n",
       "    <tr>\n",
       "      <th>...</th>\n",
       "      <td>...</td>\n",
       "      <td>...</td>\n",
       "    </tr>\n",
       "    <tr>\n",
       "      <th>28995</th>\n",
       "      <td>997338199</td>\n",
       "      <td>[{'class': 'Hair', 'conf': 0.7632176876068115,...</td>\n",
       "    </tr>\n",
       "    <tr>\n",
       "      <th>28996</th>\n",
       "      <td>997722733</td>\n",
       "      <td>[{'class': 'Man', 'conf': 0.9461695551872253, ...</td>\n",
       "    </tr>\n",
       "    <tr>\n",
       "      <th>28997</th>\n",
       "      <td>997876722</td>\n",
       "      <td>[{'class': 'Tomato', 'conf': 0.910000860691070...</td>\n",
       "    </tr>\n",
       "    <tr>\n",
       "      <th>28998</th>\n",
       "      <td>99804383</td>\n",
       "      <td>[{'class': 'Shirt', 'conf': 0.9361402988433838...</td>\n",
       "    </tr>\n",
       "    <tr>\n",
       "      <th>28999</th>\n",
       "      <td>998845445</td>\n",
       "      <td>[{'class': 'Boat', 'conf': 0.9751038551330566,...</td>\n",
       "    </tr>\n",
       "  </tbody>\n",
       "</table>\n",
       "<p>29000 rows × 2 columns</p>\n",
       "</div>"
      ],
      "text/plain": [
       "               id                                              label\n",
       "0      1000092795  [{'class': 'Bush', 'conf': 0.8409668207168579,...\n",
       "1        10002456  [{'class': 'Sky', 'conf': 0.7663399577140808, ...\n",
       "2      1000268201  [{'class': 'Dress', 'conf': 0.9922232031822205...\n",
       "3      1000344755  [{'class': 'Man', 'conf': 0.9483818411827087, ...\n",
       "4      1000366164  [{'class': 'Glasses', 'conf': 0.96930736303329...\n",
       "...           ...                                                ...\n",
       "28995   997338199  [{'class': 'Hair', 'conf': 0.7632176876068115,...\n",
       "28996   997722733  [{'class': 'Man', 'conf': 0.9461695551872253, ...\n",
       "28997   997876722  [{'class': 'Tomato', 'conf': 0.910000860691070...\n",
       "28998    99804383  [{'class': 'Shirt', 'conf': 0.9361402988433838...\n",
       "28999   998845445  [{'class': 'Boat', 'conf': 0.9751038551330566,...\n",
       "\n",
       "[29000 rows x 2 columns]"
      ]
     },
     "execution_count": 6,
     "metadata": {},
     "output_type": "execute_result"
    }
   ],
   "source": [
    "sg_tsv = './training_detection/train.label.tsv'\n",
    "df_label_detection = pd.read_csv(sg_tsv,sep='\\t',header = None, converters={1:json.loads})\n",
    "df_label_detection=df_label_detection.rename(columns={0: \"id\", 1: \"label\"})\n",
    "df_label_detection"
   ]
  },
  {
   "cell_type": "code",
   "execution_count": 13,
   "id": "4ee368f3",
   "metadata": {},
   "outputs": [],
   "source": [
    "df_label_detection[\"num_boxes\"] = df_label_detection[\"label\"].apply(len)"
   ]
  },
  {
   "cell_type": "code",
   "execution_count": 14,
   "id": "a24e2511",
   "metadata": {},
   "outputs": [
    {
     "name": "stderr",
     "output_type": "stream",
     "text": [
      "29000it [00:03, 8811.78it/s] \n"
     ]
    }
   ],
   "source": [
    "for index, row in tqdm(df_label_detection.iterrows()):\n",
    "    if row[\"num_boxes\"] != len(row[\"label\"]):\n",
    "        print(\"error\")"
   ]
  },
  {
   "cell_type": "code",
   "execution_count": 18,
   "id": "a6853ea2",
   "metadata": {},
   "outputs": [
    {
     "data": {
      "text/plain": [
       "100"
      ]
     },
     "execution_count": 18,
     "metadata": {},
     "output_type": "execute_result"
    }
   ],
   "source": [
    "df_label_detection[\"num_boxes\"].max()"
   ]
  },
  {
   "cell_type": "code",
   "execution_count": 19,
   "id": "ef2d2dc8",
   "metadata": {},
   "outputs": [
    {
     "data": {
      "text/plain": [
       "10"
      ]
     },
     "execution_count": 19,
     "metadata": {},
     "output_type": "execute_result"
    }
   ],
   "source": [
    "df_label_detection[\"num_boxes\"].min()"
   ]
  },
  {
   "cell_type": "code",
   "execution_count": 20,
   "id": "961a1362",
   "metadata": {},
   "outputs": [
    {
     "data": {
      "text/plain": [
       "43.65975862068966"
      ]
     },
     "execution_count": 20,
     "metadata": {},
     "output_type": "execute_result"
    }
   ],
   "source": [
    "df_label_detection[\"num_boxes\"].mean()"
   ]
  },
  {
   "cell_type": "code",
   "execution_count": 5,
   "id": "65b92e07",
   "metadata": {},
   "outputs": [
    {
     "data": {
      "text/html": [
       "<div>\n",
       "<style scoped>\n",
       "    .dataframe tbody tr th:only-of-type {\n",
       "        vertical-align: middle;\n",
       "    }\n",
       "\n",
       "    .dataframe tbody tr th {\n",
       "        vertical-align: top;\n",
       "    }\n",
       "\n",
       "    .dataframe thead th {\n",
       "        text-align: right;\n",
       "    }\n",
       "</style>\n",
       "<table border=\"1\" class=\"dataframe\">\n",
       "  <thead>\n",
       "    <tr style=\"text-align: right;\">\n",
       "      <th></th>\n",
       "      <th>id</th>\n",
       "      <th>label</th>\n",
       "    </tr>\n",
       "  </thead>\n",
       "  <tbody>\n",
       "    <tr>\n",
       "      <th>0</th>\n",
       "      <td>1000092795</td>\n",
       "      <td>[{'class': 'Belt buckle', 'conf': 0.5350186228...</td>\n",
       "    </tr>\n",
       "    <tr>\n",
       "      <th>1</th>\n",
       "      <td>10002456</td>\n",
       "      <td>[{'class': 'Traffic light', 'conf': 0.51291126...</td>\n",
       "    </tr>\n",
       "    <tr>\n",
       "      <th>2</th>\n",
       "      <td>1000268201</td>\n",
       "      <td>[{'class': 'Dress', 'conf': 0.9662193059921265...</td>\n",
       "    </tr>\n",
       "    <tr>\n",
       "      <th>3</th>\n",
       "      <td>1000344755</td>\n",
       "      <td>[{'class': 'Rubber band', 'conf': 0.7075430750...</td>\n",
       "    </tr>\n",
       "    <tr>\n",
       "      <th>4</th>\n",
       "      <td>1000366164</td>\n",
       "      <td>[{'class': 'Drum (musical instrument)', 'conf'...</td>\n",
       "    </tr>\n",
       "    <tr>\n",
       "      <th>...</th>\n",
       "      <td>...</td>\n",
       "      <td>...</td>\n",
       "    </tr>\n",
       "    <tr>\n",
       "      <th>28995</th>\n",
       "      <td>997338199</td>\n",
       "      <td>[{'class': 'Curtain', 'conf': 0.80887413024902...</td>\n",
       "    </tr>\n",
       "    <tr>\n",
       "      <th>28996</th>\n",
       "      <td>997722733</td>\n",
       "      <td>[{'class': 'Sandal', 'conf': 0.717478156089782...</td>\n",
       "    </tr>\n",
       "    <tr>\n",
       "      <th>28997</th>\n",
       "      <td>997876722</td>\n",
       "      <td>[{'class': 'Apple', 'conf': 0.9743674397468567...</td>\n",
       "    </tr>\n",
       "    <tr>\n",
       "      <th>28998</th>\n",
       "      <td>99804383</td>\n",
       "      <td>[{'class': 'Signboard', 'conf': 0.706024229526...</td>\n",
       "    </tr>\n",
       "    <tr>\n",
       "      <th>28999</th>\n",
       "      <td>998845445</td>\n",
       "      <td>[{'class': 'Ladder', 'conf': 0.995799362659454...</td>\n",
       "    </tr>\n",
       "  </tbody>\n",
       "</table>\n",
       "<p>29000 rows × 2 columns</p>\n",
       "</div>"
      ],
      "text/plain": [
       "               id                                              label\n",
       "0      1000092795  [{'class': 'Belt buckle', 'conf': 0.5350186228...\n",
       "1        10002456  [{'class': 'Traffic light', 'conf': 0.51291126...\n",
       "2      1000268201  [{'class': 'Dress', 'conf': 0.9662193059921265...\n",
       "3      1000344755  [{'class': 'Rubber band', 'conf': 0.7075430750...\n",
       "4      1000366164  [{'class': 'Drum (musical instrument)', 'conf'...\n",
       "...           ...                                                ...\n",
       "28995   997338199  [{'class': 'Curtain', 'conf': 0.80887413024902...\n",
       "28996   997722733  [{'class': 'Sandal', 'conf': 0.717478156089782...\n",
       "28997   997876722  [{'class': 'Apple', 'conf': 0.9743674397468567...\n",
       "28998    99804383  [{'class': 'Signboard', 'conf': 0.706024229526...\n",
       "28999   998845445  [{'class': 'Ladder', 'conf': 0.995799362659454...\n",
       "\n",
       "[29000 rows x 2 columns]"
      ]
     },
     "execution_count": 5,
     "metadata": {},
     "output_type": "execute_result"
    }
   ],
   "source": [
    "sg_tsv = './features_test1/training/train.label.tsv'\n",
    "df_label_segmentation = pd.read_csv(sg_tsv,sep='\\t',header = None, converters={1:json.loads})\n",
    "df_label_segmentation = df_label_segmentation.rename(columns={0: \"id\", 1: \"label\"})\n",
    "df_label_segmentation"
   ]
  },
  {
   "cell_type": "code",
   "execution_count": 10,
   "id": "964a9f1d",
   "metadata": {},
   "outputs": [],
   "source": [
    "df_label_segmentation[\"num_boxes\"] = df_label_segmentation[\"label\"].apply(len)"
   ]
  },
  {
   "cell_type": "code",
   "execution_count": 12,
   "id": "c271dd42",
   "metadata": {},
   "outputs": [
    {
     "name": "stderr",
     "output_type": "stream",
     "text": [
      "29000it [00:02, 10537.76it/s]\n"
     ]
    }
   ],
   "source": [
    "for index, row in tqdm(df_label_segmentation.iterrows()):\n",
    "    if row[\"num_boxes\"] != len(row[\"label\"]):\n",
    "        print(\"error\")"
   ]
  },
  {
   "cell_type": "code",
   "execution_count": 15,
   "id": "d5582ba5",
   "metadata": {},
   "outputs": [
    {
     "data": {
      "text/plain": [
       "71"
      ]
     },
     "execution_count": 15,
     "metadata": {},
     "output_type": "execute_result"
    }
   ],
   "source": [
    "df_label_segmentation[\"num_boxes\"].max()"
   ]
  },
  {
   "cell_type": "code",
   "execution_count": 16,
   "id": "4b88fd78",
   "metadata": {},
   "outputs": [
    {
     "data": {
      "text/plain": [
       "1"
      ]
     },
     "execution_count": 16,
     "metadata": {},
     "output_type": "execute_result"
    }
   ],
   "source": [
    "df_label_segmentation[\"num_boxes\"].min()"
   ]
  },
  {
   "cell_type": "code",
   "execution_count": 17,
   "id": "a0a37525",
   "metadata": {},
   "outputs": [
    {
     "data": {
      "text/plain": [
       "14.162862068965516"
      ]
     },
     "execution_count": 17,
     "metadata": {},
     "output_type": "execute_result"
    }
   ],
   "source": [
    "df_label_segmentation[\"num_boxes\"].mean()"
   ]
  }
 ],
 "metadata": {
  "kernelspec": {
   "display_name": "Python 3 (ipykernel)",
   "language": "python",
   "name": "python3"
  },
  "language_info": {
   "codemirror_mode": {
    "name": "ipython",
    "version": 3
   },
   "file_extension": ".py",
   "mimetype": "text/x-python",
   "name": "python",
   "nbconvert_exporter": "python",
   "pygments_lexer": "ipython3",
   "version": "3.9.4"
  }
 },
 "nbformat": 4,
 "nbformat_minor": 5
}
