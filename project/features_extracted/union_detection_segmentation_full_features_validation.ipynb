{
 "cells": [
  {
   "cell_type": "code",
   "execution_count": 1,
   "id": "4d9d1cec",
   "metadata": {},
   "outputs": [],
   "source": [
    "import pandas as pd\n",
    "import ast\n",
    "import json\n",
    "import base64\n",
    "import numpy as np\n",
    "import os\n",
    "import cv2, random\n",
    "np.set_printoptions(suppress=True, precision=4)\n",
    "from scipy import spatial\n",
    "import numpy as np\n",
    "import yaml\n",
    "import os.path as op\n",
    "from tqdm import tqdm\n",
    "import nltk\n",
    "from nltk.corpus import wordnet\n",
    "tqdm.pandas()"
   ]
  },
  {
   "cell_type": "markdown",
   "id": "99c10e0a",
   "metadata": {},
   "source": [
    "Detection"
   ]
  },
  {
   "cell_type": "code",
   "execution_count": 2,
   "id": "665cd508",
   "metadata": {},
   "outputs": [],
   "source": [
    "sg_tsv = './features_detection/training/validation.feature.tsv'\n",
    "df_feature_detection = pd.read_csv(sg_tsv,sep='\\t',header = None, converters={1:json.loads})\n",
    "df_feature_detection = df_feature_detection.rename(columns={0: \"id\", 1: \"features\"})"
   ]
  },
  {
   "cell_type": "code",
   "execution_count": 3,
   "id": "92e3ee93",
   "metadata": {},
   "outputs": [],
   "source": [
    "sg_tsv = './features_detection/training/validation2.label.tsv'\n",
    "df_label_detection = pd.read_csv(sg_tsv,sep='\\t',header = None, converters={1:json.loads})\n",
    "df_label_detection=df_label_detection.rename(columns={0: \"id\", 1: \"label\"})\n",
    "#df_label_detection"
   ]
  },
  {
   "cell_type": "code",
   "execution_count": 4,
   "id": "c03e3afa",
   "metadata": {},
   "outputs": [],
   "source": [
    "full_detection = pd.merge(df_feature_detection, df_label_detection, on=\"id\")\n",
    "#full_detection"
   ]
  },
  {
   "cell_type": "code",
   "execution_count": 5,
   "id": "16d2f0f0",
   "metadata": {},
   "outputs": [
    {
     "name": "stderr",
     "output_type": "stream",
     "text": [
      "1014it [00:04, 247.69it/s]\n"
     ]
    }
   ],
   "source": [
    "from tqdm import tqdm\n",
    "bbox_id = 0\n",
    "for index, row in tqdm(full_detection.iterrows()):\n",
    "    list_features = np.split(np.frombuffer(base64.b64decode(row[\"features\"][\"features\"]), np.float32), row[\"features\"][\"num_boxes\"])\n",
    "    for i in range(row[\"features\"][\"num_boxes\"]):\n",
    "        row[\"label\"][i][\"feature\"] = list_features[i]\n",
    "        row[\"label\"][i][\"bbox_id\"] = bbox_id\n",
    "        bbox_id+=1"
   ]
  },
  {
   "cell_type": "markdown",
   "id": "1e6c84ab",
   "metadata": {},
   "source": [
    "Segmentation"
   ]
  },
  {
   "cell_type": "code",
   "execution_count": 7,
   "id": "c4884ddc",
   "metadata": {},
   "outputs": [],
   "source": [
    "sg_tsv = './features_test1/training/val.feature.tsv'\n",
    "df_feature_segmentation = pd.read_csv(sg_tsv,sep='\\t',header = None, converters={1:json.loads})\n",
    "df_feature_segmentation = df_feature_segmentation.rename(columns={0: \"id\", 1: \"features\"})"
   ]
  },
  {
   "cell_type": "code",
   "execution_count": 8,
   "id": "0a05cc41",
   "metadata": {},
   "outputs": [],
   "source": [
    "sg_tsv = './features_test1/training/val.label.tsv'\n",
    "df_label_segmentation = pd.read_csv(sg_tsv,sep='\\t',header = None, converters={1:json.loads})\n",
    "df_label_segmentation = df_label_segmentation.rename(columns={0: \"id\", 1: \"label\"})\n",
    "#df_label_segmentation"
   ]
  },
  {
   "cell_type": "code",
   "execution_count": 9,
   "id": "af96e30e",
   "metadata": {},
   "outputs": [
    {
     "data": {
      "text/html": [
       "<div>\n",
       "<style scoped>\n",
       "    .dataframe tbody tr th:only-of-type {\n",
       "        vertical-align: middle;\n",
       "    }\n",
       "\n",
       "    .dataframe tbody tr th {\n",
       "        vertical-align: top;\n",
       "    }\n",
       "\n",
       "    .dataframe thead th {\n",
       "        text-align: right;\n",
       "    }\n",
       "</style>\n",
       "<table border=\"1\" class=\"dataframe\">\n",
       "  <thead>\n",
       "    <tr style=\"text-align: right;\">\n",
       "      <th></th>\n",
       "      <th>id</th>\n",
       "      <th>features</th>\n",
       "      <th>label</th>\n",
       "    </tr>\n",
       "  </thead>\n",
       "  <tbody>\n",
       "    <tr>\n",
       "      <th>0</th>\n",
       "      <td>1018148011</td>\n",
       "      <td>{'features': 'cGlYQIDImT92q/g+AAAAABiRbEAAAAAA...</td>\n",
       "      <td>[{'class': 'Truck', 'conf': 0.7444072961807251...</td>\n",
       "    </tr>\n",
       "    <tr>\n",
       "      <th>1</th>\n",
       "      <td>1029450589</td>\n",
       "      <td>{'features': 'gq/4QCXKgEHrTThA9AsYQE5O2ED46AhA...</td>\n",
       "      <td>[{'class': 'Sofa', 'conf': 0.9327452182769775,...</td>\n",
       "    </tr>\n",
       "    <tr>\n",
       "      <th>2</th>\n",
       "      <td>1029737941</td>\n",
       "      <td>{'features': 'DGcgQcgjw0AoKupAyl+pQFG9JEEAAAAA...</td>\n",
       "      <td>[{'class': 'Earphone', 'conf': 0.8826538324356...</td>\n",
       "    </tr>\n",
       "    <tr>\n",
       "      <th>3</th>\n",
       "      <td>103205630</td>\n",
       "      <td>{'features': 'UgJZQf+q4T9LzTFAG2mFQG2ynkAAAAAA...</td>\n",
       "      <td>[{'class': 'Tarp', 'conf': 0.7222883701324463,...</td>\n",
       "    </tr>\n",
       "    <tr>\n",
       "      <th>4</th>\n",
       "      <td>10350842</td>\n",
       "      <td>{'features': 'PwGfQQAAAADDeSJAhJ0WQZboTz8oBPhA...</td>\n",
       "      <td>[{'class': 'Life jacket', 'conf': 0.6269076466...</td>\n",
       "    </tr>\n",
       "    <tr>\n",
       "      <th>...</th>\n",
       "      <td>...</td>\n",
       "      <td>...</td>\n",
       "      <td>...</td>\n",
       "    </tr>\n",
       "    <tr>\n",
       "      <th>1009</th>\n",
       "      <td>86120374</td>\n",
       "      <td>{'features': 'AAAAAAAAAAAAAAAA+C5ZPgAAAAASarlA...</td>\n",
       "      <td>[{'class': 'Button', 'conf': 0.965646862983703...</td>\n",
       "    </tr>\n",
       "    <tr>\n",
       "      <th>1010</th>\n",
       "      <td>86131989</td>\n",
       "      <td>{'features': '8jCEQABCxj+8tXw/NyoQQWanZT9qnYtB...</td>\n",
       "      <td>[{'class': 'Water bottle', 'conf': 0.978633344...</td>\n",
       "    </tr>\n",
       "    <tr>\n",
       "      <th>1011</th>\n",
       "      <td>91875542</td>\n",
       "      <td>{'features': 'AAAAAKQ9C0AAAAAAupY3QIHlGkGckq0/...</td>\n",
       "      <td>[{'class': 'Hinge', 'conf': 0.9092732071876526...</td>\n",
       "    </tr>\n",
       "    <tr>\n",
       "      <th>1012</th>\n",
       "      <td>981727078</td>\n",
       "      <td>{'features': 'CtMZQLFWnEHs45Q/5DnaP4V9V0BDH8FA...</td>\n",
       "      <td>[{'class': 'Pavement', 'conf': 0.9030830860137...</td>\n",
       "    </tr>\n",
       "    <tr>\n",
       "      <th>1013</th>\n",
       "      <td>991459823</td>\n",
       "      <td>{'features': 'AAAAAAAAAAAAAAAAAAAAAAAAAAAAAAAA...</td>\n",
       "      <td>[{'class': 'Cone', 'conf': 0.9938160181045532,...</td>\n",
       "    </tr>\n",
       "  </tbody>\n",
       "</table>\n",
       "<p>1014 rows × 3 columns</p>\n",
       "</div>"
      ],
      "text/plain": [
       "              id                                           features  \\\n",
       "0     1018148011  {'features': 'cGlYQIDImT92q/g+AAAAABiRbEAAAAAA...   \n",
       "1     1029450589  {'features': 'gq/4QCXKgEHrTThA9AsYQE5O2ED46AhA...   \n",
       "2     1029737941  {'features': 'DGcgQcgjw0AoKupAyl+pQFG9JEEAAAAA...   \n",
       "3      103205630  {'features': 'UgJZQf+q4T9LzTFAG2mFQG2ynkAAAAAA...   \n",
       "4       10350842  {'features': 'PwGfQQAAAADDeSJAhJ0WQZboTz8oBPhA...   \n",
       "...          ...                                                ...   \n",
       "1009    86120374  {'features': 'AAAAAAAAAAAAAAAA+C5ZPgAAAAASarlA...   \n",
       "1010    86131989  {'features': '8jCEQABCxj+8tXw/NyoQQWanZT9qnYtB...   \n",
       "1011    91875542  {'features': 'AAAAAKQ9C0AAAAAAupY3QIHlGkGckq0/...   \n",
       "1012   981727078  {'features': 'CtMZQLFWnEHs45Q/5DnaP4V9V0BDH8FA...   \n",
       "1013   991459823  {'features': 'AAAAAAAAAAAAAAAAAAAAAAAAAAAAAAAA...   \n",
       "\n",
       "                                                  label  \n",
       "0     [{'class': 'Truck', 'conf': 0.7444072961807251...  \n",
       "1     [{'class': 'Sofa', 'conf': 0.9327452182769775,...  \n",
       "2     [{'class': 'Earphone', 'conf': 0.8826538324356...  \n",
       "3     [{'class': 'Tarp', 'conf': 0.7222883701324463,...  \n",
       "4     [{'class': 'Life jacket', 'conf': 0.6269076466...  \n",
       "...                                                 ...  \n",
       "1009  [{'class': 'Button', 'conf': 0.965646862983703...  \n",
       "1010  [{'class': 'Water bottle', 'conf': 0.978633344...  \n",
       "1011  [{'class': 'Hinge', 'conf': 0.9092732071876526...  \n",
       "1012  [{'class': 'Pavement', 'conf': 0.9030830860137...  \n",
       "1013  [{'class': 'Cone', 'conf': 0.9938160181045532,...  \n",
       "\n",
       "[1014 rows x 3 columns]"
      ]
     },
     "execution_count": 9,
     "metadata": {},
     "output_type": "execute_result"
    }
   ],
   "source": [
    "full_segmentation = pd.merge(df_feature_segmentation, df_label_segmentation, on=\"id\")\n",
    "full_segmentation"
   ]
  },
  {
   "cell_type": "code",
   "execution_count": 10,
   "id": "6b5f4c99",
   "metadata": {},
   "outputs": [
    {
     "name": "stderr",
     "output_type": "stream",
     "text": [
      "1014it [00:01, 882.81it/s]\n"
     ]
    }
   ],
   "source": [
    "from tqdm import tqdm\n",
    "bbox_id = 0\n",
    "for index, row in tqdm(full_segmentation.iterrows()):\n",
    "    list_features = np.split(np.frombuffer(base64.b64decode(row[\"features\"][\"features\"]), np.float32), row[\"features\"][\"num_boxes\"])\n",
    "    for i in range(row[\"features\"][\"num_boxes\"]):\n",
    "        row[\"label\"][i][\"feature\"] = list_features[i]\n",
    "        row[\"label\"][i][\"bbox_id\"] = bbox_id\n",
    "        bbox_id+=1"
   ]
  },
  {
   "cell_type": "markdown",
   "id": "2b31dd44",
   "metadata": {},
   "source": [
    "Union"
   ]
  },
  {
   "cell_type": "code",
   "execution_count": 11,
   "id": "144a2fbe",
   "metadata": {},
   "outputs": [
    {
     "data": {
      "text/html": [
       "<div>\n",
       "<style scoped>\n",
       "    .dataframe tbody tr th:only-of-type {\n",
       "        vertical-align: middle;\n",
       "    }\n",
       "\n",
       "    .dataframe tbody tr th {\n",
       "        vertical-align: top;\n",
       "    }\n",
       "\n",
       "    .dataframe thead th {\n",
       "        text-align: right;\n",
       "    }\n",
       "</style>\n",
       "<table border=\"1\" class=\"dataframe\">\n",
       "  <thead>\n",
       "    <tr style=\"text-align: right;\">\n",
       "      <th></th>\n",
       "      <th>id</th>\n",
       "      <th>features</th>\n",
       "      <th>label</th>\n",
       "      <th>union</th>\n",
       "    </tr>\n",
       "  </thead>\n",
       "  <tbody>\n",
       "    <tr>\n",
       "      <th>0</th>\n",
       "      <td>1018148011</td>\n",
       "      <td>{'features': 'cGlYQIDImT92q/g+AAAAABiRbEAAAAAA...</td>\n",
       "      <td>[{'class': 'Truck', 'conf': 0.7444072961807251...</td>\n",
       "      <td>[{'class': 'Truck', 'conf': 0.7444072961807251...</td>\n",
       "    </tr>\n",
       "    <tr>\n",
       "      <th>1</th>\n",
       "      <td>1029450589</td>\n",
       "      <td>{'features': 'gq/4QCXKgEHrTThA9AsYQE5O2ED46AhA...</td>\n",
       "      <td>[{'class': 'Sofa', 'conf': 0.9327452182769775,...</td>\n",
       "      <td>[{'class': 'Sofa', 'conf': 0.9327452182769775,...</td>\n",
       "    </tr>\n",
       "    <tr>\n",
       "      <th>2</th>\n",
       "      <td>1029737941</td>\n",
       "      <td>{'features': 'DGcgQcgjw0AoKupAyl+pQFG9JEEAAAAA...</td>\n",
       "      <td>[{'class': 'Earphone', 'conf': 0.8826538324356...</td>\n",
       "      <td>[{'class': 'Earphone', 'conf': 0.8826538324356...</td>\n",
       "    </tr>\n",
       "    <tr>\n",
       "      <th>3</th>\n",
       "      <td>103205630</td>\n",
       "      <td>{'features': 'UgJZQf+q4T9LzTFAG2mFQG2ynkAAAAAA...</td>\n",
       "      <td>[{'class': 'Tarp', 'conf': 0.7222883701324463,...</td>\n",
       "      <td>[{'class': 'Tarp', 'conf': 0.7222883701324463,...</td>\n",
       "    </tr>\n",
       "    <tr>\n",
       "      <th>4</th>\n",
       "      <td>10350842</td>\n",
       "      <td>{'features': 'PwGfQQAAAADDeSJAhJ0WQZboTz8oBPhA...</td>\n",
       "      <td>[{'class': 'Life jacket', 'conf': 0.6269076466...</td>\n",
       "      <td>[{'class': 'Life jacket', 'conf': 0.6269076466...</td>\n",
       "    </tr>\n",
       "    <tr>\n",
       "      <th>...</th>\n",
       "      <td>...</td>\n",
       "      <td>...</td>\n",
       "      <td>...</td>\n",
       "      <td>...</td>\n",
       "    </tr>\n",
       "    <tr>\n",
       "      <th>1009</th>\n",
       "      <td>86120374</td>\n",
       "      <td>{'features': 'AAAAAAAAAAAAAAAA+C5ZPgAAAAASarlA...</td>\n",
       "      <td>[{'class': 'Button', 'conf': 0.965646862983703...</td>\n",
       "      <td>[{'class': 'Button', 'conf': 0.965646862983703...</td>\n",
       "    </tr>\n",
       "    <tr>\n",
       "      <th>1010</th>\n",
       "      <td>86131989</td>\n",
       "      <td>{'features': '8jCEQABCxj+8tXw/NyoQQWanZT9qnYtB...</td>\n",
       "      <td>[{'class': 'Water bottle', 'conf': 0.978633344...</td>\n",
       "      <td>[{'class': 'Water bottle', 'conf': 0.978633344...</td>\n",
       "    </tr>\n",
       "    <tr>\n",
       "      <th>1011</th>\n",
       "      <td>91875542</td>\n",
       "      <td>{'features': 'AAAAAKQ9C0AAAAAAupY3QIHlGkGckq0/...</td>\n",
       "      <td>[{'class': 'Hinge', 'conf': 0.9092732071876526...</td>\n",
       "      <td>[{'class': 'Hinge', 'conf': 0.9092732071876526...</td>\n",
       "    </tr>\n",
       "    <tr>\n",
       "      <th>1012</th>\n",
       "      <td>981727078</td>\n",
       "      <td>{'features': 'CtMZQLFWnEHs45Q/5DnaP4V9V0BDH8FA...</td>\n",
       "      <td>[{'class': 'Pavement', 'conf': 0.9030830860137...</td>\n",
       "      <td>[{'class': 'Pavement', 'conf': 0.9030830860137...</td>\n",
       "    </tr>\n",
       "    <tr>\n",
       "      <th>1013</th>\n",
       "      <td>991459823</td>\n",
       "      <td>{'features': 'AAAAAAAAAAAAAAAAAAAAAAAAAAAAAAAA...</td>\n",
       "      <td>[{'class': 'Cone', 'conf': 0.9938160181045532,...</td>\n",
       "      <td>[{'class': 'Cone', 'conf': 0.9938160181045532,...</td>\n",
       "    </tr>\n",
       "  </tbody>\n",
       "</table>\n",
       "<p>1014 rows × 4 columns</p>\n",
       "</div>"
      ],
      "text/plain": [
       "              id                                           features  \\\n",
       "0     1018148011  {'features': 'cGlYQIDImT92q/g+AAAAABiRbEAAAAAA...   \n",
       "1     1029450589  {'features': 'gq/4QCXKgEHrTThA9AsYQE5O2ED46AhA...   \n",
       "2     1029737941  {'features': 'DGcgQcgjw0AoKupAyl+pQFG9JEEAAAAA...   \n",
       "3      103205630  {'features': 'UgJZQf+q4T9LzTFAG2mFQG2ynkAAAAAA...   \n",
       "4       10350842  {'features': 'PwGfQQAAAADDeSJAhJ0WQZboTz8oBPhA...   \n",
       "...          ...                                                ...   \n",
       "1009    86120374  {'features': 'AAAAAAAAAAAAAAAA+C5ZPgAAAAASarlA...   \n",
       "1010    86131989  {'features': '8jCEQABCxj+8tXw/NyoQQWanZT9qnYtB...   \n",
       "1011    91875542  {'features': 'AAAAAKQ9C0AAAAAAupY3QIHlGkGckq0/...   \n",
       "1012   981727078  {'features': 'CtMZQLFWnEHs45Q/5DnaP4V9V0BDH8FA...   \n",
       "1013   991459823  {'features': 'AAAAAAAAAAAAAAAAAAAAAAAAAAAAAAAA...   \n",
       "\n",
       "                                                  label  \\\n",
       "0     [{'class': 'Truck', 'conf': 0.7444072961807251...   \n",
       "1     [{'class': 'Sofa', 'conf': 0.9327452182769775,...   \n",
       "2     [{'class': 'Earphone', 'conf': 0.8826538324356...   \n",
       "3     [{'class': 'Tarp', 'conf': 0.7222883701324463,...   \n",
       "4     [{'class': 'Life jacket', 'conf': 0.6269076466...   \n",
       "...                                                 ...   \n",
       "1009  [{'class': 'Button', 'conf': 0.965646862983703...   \n",
       "1010  [{'class': 'Water bottle', 'conf': 0.978633344...   \n",
       "1011  [{'class': 'Hinge', 'conf': 0.9092732071876526...   \n",
       "1012  [{'class': 'Pavement', 'conf': 0.9030830860137...   \n",
       "1013  [{'class': 'Cone', 'conf': 0.9938160181045532,...   \n",
       "\n",
       "                                                  union  \n",
       "0     [{'class': 'Truck', 'conf': 0.7444072961807251...  \n",
       "1     [{'class': 'Sofa', 'conf': 0.9327452182769775,...  \n",
       "2     [{'class': 'Earphone', 'conf': 0.8826538324356...  \n",
       "3     [{'class': 'Tarp', 'conf': 0.7222883701324463,...  \n",
       "4     [{'class': 'Life jacket', 'conf': 0.6269076466...  \n",
       "...                                                 ...  \n",
       "1009  [{'class': 'Button', 'conf': 0.965646862983703...  \n",
       "1010  [{'class': 'Water bottle', 'conf': 0.978633344...  \n",
       "1011  [{'class': 'Hinge', 'conf': 0.9092732071876526...  \n",
       "1012  [{'class': 'Pavement', 'conf': 0.9030830860137...  \n",
       "1013  [{'class': 'Cone', 'conf': 0.9938160181045532,...  \n",
       "\n",
       "[1014 rows x 4 columns]"
      ]
     },
     "execution_count": 11,
     "metadata": {},
     "output_type": "execute_result"
    }
   ],
   "source": [
    "full_segmentation[\"union\"] = full_segmentation[\"label\"] + full_detection[\"label\"]\n",
    "full_segmentation "
   ]
  },
  {
   "cell_type": "code",
   "execution_count": 12,
   "id": "3a20dccd",
   "metadata": {},
   "outputs": [
    {
     "name": "stderr",
     "output_type": "stream",
     "text": [
      "100%|███████████████████████████████████████████████████████████████████████████| 1014/1014 [00:00<00:00, 21169.75it/s]\n"
     ]
    }
   ],
   "source": [
    "for i in tqdm(range(len(full_segmentation))):\n",
    "    if(len(full_segmentation[\"label\"].iloc[i]) + len(full_detection[\"label\"].iloc[i]) != len(full_segmentation[\"union\"].iloc[i])):\n",
    "        print(\"!!!!!!!!!!!!!!!\")"
   ]
  },
  {
   "cell_type": "code",
   "execution_count": 13,
   "id": "35f3c008",
   "metadata": {},
   "outputs": [],
   "source": [
    "def generate_features(x):\n",
    "    idx, data, num_boxes = x[\"id\"],x[\"union\"],len(x[\"union\"])\n",
    "    features_arr = []\n",
    "    for i in range(num_boxes):\n",
    "        features = data[i]['feature']\n",
    "        features_arr.append(features.astype(np.float32))\n",
    "    \n",
    "    features = np.vstack(tuple(features_arr))\n",
    "    features = base64.b64encode(features).decode(\"utf-8\")\n",
    "    return {\"features\":features, \"num_boxes\":num_boxes}"
   ]
  },
  {
   "cell_type": "code",
   "execution_count": 14,
   "id": "b4b2795f",
   "metadata": {},
   "outputs": [],
   "source": [
    "def generate_labels(x):\n",
    "    data = x[\"union\"]\n",
    "    res = [{\"class\":el['class'].capitalize(),\"conf\":el['conf'], \"rect\": el['rect']} for el in data] \n",
    "    return res"
   ]
  },
  {
   "cell_type": "code",
   "execution_count": 15,
   "id": "26a2a25b",
   "metadata": {},
   "outputs": [
    {
     "name": "stderr",
     "output_type": "stream",
     "text": [
      "100%|█████████████████████████████████████████████████████████████████████████████| 1014/1014 [00:03<00:00, 264.73it/s]\n",
      "100%|█████████████████████████████████████████████████████████████████████████████| 1014/1014 [00:04<00:00, 233.87it/s]\n"
     ]
    }
   ],
   "source": [
    "full_segmentation['feature_union'] = full_segmentation.progress_apply(generate_features,axis=1)\n",
    "full_segmentation['feature_union'] = full_segmentation['feature_union'].progress_apply(json.dumps)"
   ]
  },
  {
   "cell_type": "code",
   "execution_count": 16,
   "id": "7536ffd7",
   "metadata": {},
   "outputs": [
    {
     "name": "stderr",
     "output_type": "stream",
     "text": [
      "100%|████████████████████████████████████████████████████████████████████████████| 1014/1014 [00:00<00:00, 5440.94it/s]\n",
      "100%|████████████████████████████████████████████████████████████████████████████| 1014/1014 [00:00<00:00, 2493.04it/s]\n"
     ]
    }
   ],
   "source": [
    "full_segmentation['label_union'] = full_segmentation.progress_apply(generate_labels,axis=1)\n",
    "full_segmentation['label_union'] = full_segmentation['label_union'].progress_apply(json.dumps)"
   ]
  },
  {
   "cell_type": "code",
   "execution_count": 17,
   "id": "a1c56611",
   "metadata": {},
   "outputs": [],
   "source": [
    "from features_detection.maskrcnn_benchmark.structures.tsv_file_ops import tsv_reader, tsv_writer\n",
    "\n",
    "OUTPUT_DIR = './training_union_full/'\n",
    "LABEL_FILE = os.path.join(OUTPUT_DIR,'validation.label.tsv')\n",
    "FEATURE_FILE = os.path.join(OUTPUT_DIR,'validation.feature.tsv')\n",
    "if not os.path.exists(OUTPUT_DIR):\n",
    "    os.makedirs(OUTPUT_DIR)\n",
    "    print(f\"path to {OUTPUT_DIR} created\")"
   ]
  },
  {
   "cell_type": "code",
   "execution_count": 18,
   "id": "be075ead",
   "metadata": {},
   "outputs": [
    {
     "data": {
      "text/html": [
       "<div>\n",
       "<style scoped>\n",
       "    .dataframe tbody tr th:only-of-type {\n",
       "        vertical-align: middle;\n",
       "    }\n",
       "\n",
       "    .dataframe tbody tr th {\n",
       "        vertical-align: top;\n",
       "    }\n",
       "\n",
       "    .dataframe thead th {\n",
       "        text-align: right;\n",
       "    }\n",
       "</style>\n",
       "<table border=\"1\" class=\"dataframe\">\n",
       "  <thead>\n",
       "    <tr style=\"text-align: right;\">\n",
       "      <th></th>\n",
       "      <th>id</th>\n",
       "      <th>dim</th>\n",
       "    </tr>\n",
       "  </thead>\n",
       "  <tbody>\n",
       "    <tr>\n",
       "      <th>0</th>\n",
       "      <td>1018148011</td>\n",
       "      <td>[{'height': 333, 'width': 500}]</td>\n",
       "    </tr>\n",
       "    <tr>\n",
       "      <th>1</th>\n",
       "      <td>1029450589</td>\n",
       "      <td>[{'height': 334, 'width': 500}]</td>\n",
       "    </tr>\n",
       "    <tr>\n",
       "      <th>2</th>\n",
       "      <td>1029737941</td>\n",
       "      <td>[{'height': 500, 'width': 375}]</td>\n",
       "    </tr>\n",
       "    <tr>\n",
       "      <th>3</th>\n",
       "      <td>103205630</td>\n",
       "      <td>[{'height': 215, 'width': 500}]</td>\n",
       "    </tr>\n",
       "    <tr>\n",
       "      <th>4</th>\n",
       "      <td>10350842</td>\n",
       "      <td>[{'height': 375, 'width': 500}]</td>\n",
       "    </tr>\n",
       "    <tr>\n",
       "      <th>...</th>\n",
       "      <td>...</td>\n",
       "      <td>...</td>\n",
       "    </tr>\n",
       "    <tr>\n",
       "      <th>1009</th>\n",
       "      <td>86120374</td>\n",
       "      <td>[{'height': 500, 'width': 464}]</td>\n",
       "    </tr>\n",
       "    <tr>\n",
       "      <th>1010</th>\n",
       "      <td>86131989</td>\n",
       "      <td>[{'height': 464, 'width': 500}]</td>\n",
       "    </tr>\n",
       "    <tr>\n",
       "      <th>1011</th>\n",
       "      <td>91875542</td>\n",
       "      <td>[{'height': 375, 'width': 500}]</td>\n",
       "    </tr>\n",
       "    <tr>\n",
       "      <th>1012</th>\n",
       "      <td>981727078</td>\n",
       "      <td>[{'height': 500, 'width': 375}]</td>\n",
       "    </tr>\n",
       "    <tr>\n",
       "      <th>1013</th>\n",
       "      <td>991459823</td>\n",
       "      <td>[{'height': 329, 'width': 500}]</td>\n",
       "    </tr>\n",
       "  </tbody>\n",
       "</table>\n",
       "<p>1014 rows × 2 columns</p>\n",
       "</div>"
      ],
      "text/plain": [
       "              id                              dim\n",
       "0     1018148011  [{'height': 333, 'width': 500}]\n",
       "1     1029450589  [{'height': 334, 'width': 500}]\n",
       "2     1029737941  [{'height': 500, 'width': 375}]\n",
       "3      103205630  [{'height': 215, 'width': 500}]\n",
       "4       10350842  [{'height': 375, 'width': 500}]\n",
       "...          ...                              ...\n",
       "1009    86120374  [{'height': 500, 'width': 464}]\n",
       "1010    86131989  [{'height': 464, 'width': 500}]\n",
       "1011    91875542  [{'height': 375, 'width': 500}]\n",
       "1012   981727078  [{'height': 500, 'width': 375}]\n",
       "1013   991459823  [{'height': 329, 'width': 500}]\n",
       "\n",
       "[1014 rows x 2 columns]"
      ]
     },
     "execution_count": 18,
     "metadata": {},
     "output_type": "execute_result"
    }
   ],
   "source": [
    "sg_tsv = './training_union_full/validation.hw.tsv'\n",
    "\n",
    "df_train_hw = pd.read_csv(sg_tsv,sep='\\t',header = None,converters={1:json.loads})#converters={1:ast.literal_eval})\n",
    "df_train_hw = df_train_hw.rename(columns={0: \"id\", 1: \"dim\"})\n",
    "\n",
    "df_train_hw"
   ]
  },
  {
   "cell_type": "code",
   "execution_count": 19,
   "id": "6cbfcbfa",
   "metadata": {},
   "outputs": [],
   "source": [
    "tsv_writer(df_train_hw.merge(full_segmentation, on=[\"id\"])[[\"id\",\"feature_union\"]].values.tolist(), FEATURE_FILE)"
   ]
  },
  {
   "cell_type": "code",
   "execution_count": 20,
   "id": "42e86645",
   "metadata": {},
   "outputs": [],
   "source": [
    "tsv_writer(df_train_hw.merge(full_segmentation, on=[\"id\"])[[\"id\",\"label_union\"]].values.tolist(), LABEL_FILE)"
   ]
  },
  {
   "cell_type": "code",
   "execution_count": null,
   "id": "7e826b41",
   "metadata": {},
   "outputs": [],
   "source": [
    "# test"
   ]
  },
  {
   "cell_type": "code",
   "execution_count": 21,
   "id": "ca944c3d",
   "metadata": {},
   "outputs": [
    {
     "data": {
      "text/html": [
       "<div>\n",
       "<style scoped>\n",
       "    .dataframe tbody tr th:only-of-type {\n",
       "        vertical-align: middle;\n",
       "    }\n",
       "\n",
       "    .dataframe tbody tr th {\n",
       "        vertical-align: top;\n",
       "    }\n",
       "\n",
       "    .dataframe thead th {\n",
       "        text-align: right;\n",
       "    }\n",
       "</style>\n",
       "<table border=\"1\" class=\"dataframe\">\n",
       "  <thead>\n",
       "    <tr style=\"text-align: right;\">\n",
       "      <th></th>\n",
       "      <th>id</th>\n",
       "      <th>feature</th>\n",
       "    </tr>\n",
       "  </thead>\n",
       "  <tbody>\n",
       "    <tr>\n",
       "      <th>0</th>\n",
       "      <td>1018148011</td>\n",
       "      <td>{'features': 'cGlYQIDImT92q/g+AAAAABiRbEAAAAAA...</td>\n",
       "    </tr>\n",
       "    <tr>\n",
       "      <th>1</th>\n",
       "      <td>1029450589</td>\n",
       "      <td>{'features': 'gq/4QCXKgEHrTThA9AsYQE5O2ED46AhA...</td>\n",
       "    </tr>\n",
       "    <tr>\n",
       "      <th>2</th>\n",
       "      <td>1029737941</td>\n",
       "      <td>{'features': 'DGcgQcgjw0AoKupAyl+pQFG9JEEAAAAA...</td>\n",
       "    </tr>\n",
       "    <tr>\n",
       "      <th>3</th>\n",
       "      <td>103205630</td>\n",
       "      <td>{'features': 'UgJZQf+q4T9LzTFAG2mFQG2ynkAAAAAA...</td>\n",
       "    </tr>\n",
       "    <tr>\n",
       "      <th>4</th>\n",
       "      <td>10350842</td>\n",
       "      <td>{'features': 'PwGfQQAAAADDeSJAhJ0WQZboTz8oBPhA...</td>\n",
       "    </tr>\n",
       "    <tr>\n",
       "      <th>...</th>\n",
       "      <td>...</td>\n",
       "      <td>...</td>\n",
       "    </tr>\n",
       "    <tr>\n",
       "      <th>1009</th>\n",
       "      <td>86120374</td>\n",
       "      <td>{'features': 'AAAAAAAAAAAAAAAA+C5ZPgAAAAASarlA...</td>\n",
       "    </tr>\n",
       "    <tr>\n",
       "      <th>1010</th>\n",
       "      <td>86131989</td>\n",
       "      <td>{'features': '8jCEQABCxj+8tXw/NyoQQWanZT9qnYtB...</td>\n",
       "    </tr>\n",
       "    <tr>\n",
       "      <th>1011</th>\n",
       "      <td>91875542</td>\n",
       "      <td>{'features': 'AAAAAKQ9C0AAAAAAupY3QIHlGkGckq0/...</td>\n",
       "    </tr>\n",
       "    <tr>\n",
       "      <th>1012</th>\n",
       "      <td>981727078</td>\n",
       "      <td>{'features': 'CtMZQLFWnEHs45Q/5DnaP4V9V0BDH8FA...</td>\n",
       "    </tr>\n",
       "    <tr>\n",
       "      <th>1013</th>\n",
       "      <td>991459823</td>\n",
       "      <td>{'features': 'AAAAAAAAAAAAAAAAAAAAAAAAAAAAAAAA...</td>\n",
       "    </tr>\n",
       "  </tbody>\n",
       "</table>\n",
       "<p>1014 rows × 2 columns</p>\n",
       "</div>"
      ],
      "text/plain": [
       "              id                                            feature\n",
       "0     1018148011  {'features': 'cGlYQIDImT92q/g+AAAAABiRbEAAAAAA...\n",
       "1     1029450589  {'features': 'gq/4QCXKgEHrTThA9AsYQE5O2ED46AhA...\n",
       "2     1029737941  {'features': 'DGcgQcgjw0AoKupAyl+pQFG9JEEAAAAA...\n",
       "3      103205630  {'features': 'UgJZQf+q4T9LzTFAG2mFQG2ynkAAAAAA...\n",
       "4       10350842  {'features': 'PwGfQQAAAADDeSJAhJ0WQZboTz8oBPhA...\n",
       "...          ...                                                ...\n",
       "1009    86120374  {'features': 'AAAAAAAAAAAAAAAA+C5ZPgAAAAASarlA...\n",
       "1010    86131989  {'features': '8jCEQABCxj+8tXw/NyoQQWanZT9qnYtB...\n",
       "1011    91875542  {'features': 'AAAAAKQ9C0AAAAAAupY3QIHlGkGckq0/...\n",
       "1012   981727078  {'features': 'CtMZQLFWnEHs45Q/5DnaP4V9V0BDH8FA...\n",
       "1013   991459823  {'features': 'AAAAAAAAAAAAAAAAAAAAAAAAAAAAAAAA...\n",
       "\n",
       "[1014 rows x 2 columns]"
      ]
     },
     "execution_count": 21,
     "metadata": {},
     "output_type": "execute_result"
    }
   ],
   "source": [
    "sg_tsv = './training_union_full/validation.feature.tsv'\n",
    "df_features = pd.read_csv(sg_tsv,sep='\\t',header = None, converters={1:json.loads})\n",
    "df_features = df_features.rename(columns={0: \"id\", 1: \"feature\"})\n",
    "df_features"
   ]
  },
  {
   "cell_type": "code",
   "execution_count": 22,
   "id": "90c82429",
   "metadata": {},
   "outputs": [
    {
     "data": {
      "text/html": [
       "<div>\n",
       "<style scoped>\n",
       "    .dataframe tbody tr th:only-of-type {\n",
       "        vertical-align: middle;\n",
       "    }\n",
       "\n",
       "    .dataframe tbody tr th {\n",
       "        vertical-align: top;\n",
       "    }\n",
       "\n",
       "    .dataframe thead th {\n",
       "        text-align: right;\n",
       "    }\n",
       "</style>\n",
       "<table border=\"1\" class=\"dataframe\">\n",
       "  <thead>\n",
       "    <tr style=\"text-align: right;\">\n",
       "      <th></th>\n",
       "      <th>id</th>\n",
       "      <th>label</th>\n",
       "    </tr>\n",
       "  </thead>\n",
       "  <tbody>\n",
       "    <tr>\n",
       "      <th>0</th>\n",
       "      <td>1018148011</td>\n",
       "      <td>[{'class': 'Truck', 'conf': 0.7444072961807251...</td>\n",
       "    </tr>\n",
       "    <tr>\n",
       "      <th>1</th>\n",
       "      <td>1029450589</td>\n",
       "      <td>[{'class': 'Sofa', 'conf': 0.9327452182769775,...</td>\n",
       "    </tr>\n",
       "    <tr>\n",
       "      <th>2</th>\n",
       "      <td>1029737941</td>\n",
       "      <td>[{'class': 'Earphone', 'conf': 0.8826538324356...</td>\n",
       "    </tr>\n",
       "    <tr>\n",
       "      <th>3</th>\n",
       "      <td>103205630</td>\n",
       "      <td>[{'class': 'Tarp', 'conf': 0.7222883701324463,...</td>\n",
       "    </tr>\n",
       "    <tr>\n",
       "      <th>4</th>\n",
       "      <td>10350842</td>\n",
       "      <td>[{'class': 'Life jacket', 'conf': 0.6269076466...</td>\n",
       "    </tr>\n",
       "    <tr>\n",
       "      <th>...</th>\n",
       "      <td>...</td>\n",
       "      <td>...</td>\n",
       "    </tr>\n",
       "    <tr>\n",
       "      <th>1009</th>\n",
       "      <td>86120374</td>\n",
       "      <td>[{'class': 'Button', 'conf': 0.965646862983703...</td>\n",
       "    </tr>\n",
       "    <tr>\n",
       "      <th>1010</th>\n",
       "      <td>86131989</td>\n",
       "      <td>[{'class': 'Water bottle', 'conf': 0.978633344...</td>\n",
       "    </tr>\n",
       "    <tr>\n",
       "      <th>1011</th>\n",
       "      <td>91875542</td>\n",
       "      <td>[{'class': 'Hinge', 'conf': 0.9092732071876526...</td>\n",
       "    </tr>\n",
       "    <tr>\n",
       "      <th>1012</th>\n",
       "      <td>981727078</td>\n",
       "      <td>[{'class': 'Pavement', 'conf': 0.9030830860137...</td>\n",
       "    </tr>\n",
       "    <tr>\n",
       "      <th>1013</th>\n",
       "      <td>991459823</td>\n",
       "      <td>[{'class': 'Cone', 'conf': 0.9938160181045532,...</td>\n",
       "    </tr>\n",
       "  </tbody>\n",
       "</table>\n",
       "<p>1014 rows × 2 columns</p>\n",
       "</div>"
      ],
      "text/plain": [
       "              id                                              label\n",
       "0     1018148011  [{'class': 'Truck', 'conf': 0.7444072961807251...\n",
       "1     1029450589  [{'class': 'Sofa', 'conf': 0.9327452182769775,...\n",
       "2     1029737941  [{'class': 'Earphone', 'conf': 0.8826538324356...\n",
       "3      103205630  [{'class': 'Tarp', 'conf': 0.7222883701324463,...\n",
       "4       10350842  [{'class': 'Life jacket', 'conf': 0.6269076466...\n",
       "...          ...                                                ...\n",
       "1009    86120374  [{'class': 'Button', 'conf': 0.965646862983703...\n",
       "1010    86131989  [{'class': 'Water bottle', 'conf': 0.978633344...\n",
       "1011    91875542  [{'class': 'Hinge', 'conf': 0.9092732071876526...\n",
       "1012   981727078  [{'class': 'Pavement', 'conf': 0.9030830860137...\n",
       "1013   991459823  [{'class': 'Cone', 'conf': 0.9938160181045532,...\n",
       "\n",
       "[1014 rows x 2 columns]"
      ]
     },
     "execution_count": 22,
     "metadata": {},
     "output_type": "execute_result"
    }
   ],
   "source": [
    "sg_tsv = './training_union_full/validation.label.tsv'\n",
    "df_labels = pd.read_csv(sg_tsv,sep='\\t',header = None, converters={1:json.loads})\n",
    "df_labels = df_labels.rename(columns={0: \"id\", 1: \"label\"})\n",
    "df_labels"
   ]
  },
  {
   "cell_type": "code",
   "execution_count": 23,
   "id": "38641748",
   "metadata": {},
   "outputs": [
    {
     "name": "stderr",
     "output_type": "stream",
     "text": [
      "100%|█████████████████████████████████████████████████████████████████████████████| 1014/1014 [00:03<00:00, 326.34it/s]\n"
     ]
    }
   ],
   "source": [
    "for elem in tqdm(df_features[\"feature\"].values): # check\n",
    "    if len(np.frombuffer(base64.b64decode(elem[\"features\"]), np.float32)) / elem[\"num_boxes\"] != 2054:\n",
    "        print(\"noooooooooooooooo!!!!!!!\")"
   ]
  },
  {
   "cell_type": "code",
   "execution_count": 24,
   "id": "039911ab",
   "metadata": {},
   "outputs": [
    {
     "name": "stderr",
     "output_type": "stream",
     "text": [
      "1014it [00:00, ?it/s]\n"
     ]
    }
   ],
   "source": [
    "#df_labels.merge(df_features, on=[\"id\"])[\"feature\"].iloc[0]\n",
    "for elem, label in tqdm(zip(df_labels.merge(df_features, on=[\"id\"])[\"feature\"].values, df_labels.merge(df_features, on=[\"id\"])[\"label\"].values)): # check\n",
    "    if elem[\"num_boxes\"] != len(label):\n",
    "        print(\"noooooooooooooooo!!!!!!!\")#num_boxes"
   ]
  },
  {
   "cell_type": "code",
   "execution_count": 25,
   "id": "41bb8604",
   "metadata": {},
   "outputs": [
    {
     "data": {
      "text/plain": [
       "True"
      ]
     },
     "execution_count": 25,
     "metadata": {},
     "output_type": "execute_result"
    }
   ],
   "source": [
    "df_labels.merge(df_features, on=[\"id\"])[\"feature\"].iloc[0][\"num_boxes\"] == len(df_labels.merge(df_features, on=[\"id\"])[\"label\"].iloc[0])"
   ]
  }
 ],
 "metadata": {
  "kernelspec": {
   "display_name": "Python 3 (ipykernel)",
   "language": "python",
   "name": "python3"
  },
  "language_info": {
   "codemirror_mode": {
    "name": "ipython",
    "version": 3
   },
   "file_extension": ".py",
   "mimetype": "text/x-python",
   "name": "python",
   "nbconvert_exporter": "python",
   "pygments_lexer": "ipython3",
   "version": "3.9.4"
  }
 },
 "nbformat": 4,
 "nbformat_minor": 5
}
