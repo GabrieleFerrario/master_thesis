{
 "cells": [
  {
   "cell_type": "code",
   "execution_count": 1,
   "id": "e7c94438",
   "metadata": {},
   "outputs": [],
   "source": [
    "import pandas as pd\n",
    "import ast\n",
    "import json\n",
    "import base64\n",
    "import numpy as np\n",
    "import os\n",
    "np.set_printoptions(suppress=True, precision=4)\n",
    "from scipy import spatial\n",
    "\n",
    "import yaml\n",
    "import os.path as op\n",
    "from tqdm import tqdm\n",
    "\n",
    "tqdm.pandas()"
   ]
  },
  {
   "cell_type": "markdown",
   "id": "eb0f35ac",
   "metadata": {},
   "source": [
    "### Features Detection"
   ]
  },
  {
   "cell_type": "code",
   "execution_count": 2,
   "id": "06553ca1",
   "metadata": {},
   "outputs": [],
   "source": [
    "mylist = []\n",
    "sg_tsv = './features_detection/training/train.feature.tsv'\n",
    "for chunk in pd.read_csv(sg_tsv, sep='\\t', header = None, converters={1:json.loads}, chunksize=20000):\n",
    "    mylist.append(chunk)\n",
    "\n",
    "df_feature_detection = pd.concat(mylist, axis= 0)\n",
    "del mylist\n",
    "df_feature_detection=df_feature_detection.rename(columns={0: \"id\", 1: \"features\"})\n",
    "#df_feature_detection"
   ]
  },
  {
   "cell_type": "code",
   "execution_count": 3,
   "id": "4f27d965",
   "metadata": {},
   "outputs": [],
   "source": [
    "sg_tsv = './features_detection/training/train.label.tsv'\n",
    "df_label_detection = pd.read_csv(sg_tsv,sep='\\t',header = None, converters={1:json.loads})\n",
    "df_label_detection=df_label_detection.rename(columns={0: \"id\", 1: \"label\"})\n",
    "#df_label_detection"
   ]
  },
  {
   "cell_type": "code",
   "execution_count": 4,
   "id": "78a8d2ac",
   "metadata": {},
   "outputs": [
    {
     "data": {
      "text/html": [
       "<div>\n",
       "<style scoped>\n",
       "    .dataframe tbody tr th:only-of-type {\n",
       "        vertical-align: middle;\n",
       "    }\n",
       "\n",
       "    .dataframe tbody tr th {\n",
       "        vertical-align: top;\n",
       "    }\n",
       "\n",
       "    .dataframe thead th {\n",
       "        text-align: right;\n",
       "    }\n",
       "</style>\n",
       "<table border=\"1\" class=\"dataframe\">\n",
       "  <thead>\n",
       "    <tr style=\"text-align: right;\">\n",
       "      <th></th>\n",
       "      <th>id</th>\n",
       "      <th>features</th>\n",
       "      <th>label</th>\n",
       "    </tr>\n",
       "  </thead>\n",
       "  <tbody>\n",
       "    <tr>\n",
       "      <th>0</th>\n",
       "      <td>1000092795</td>\n",
       "      <td>{'features': 'FUTwPG3ezD8AAAAAAAAAAKR5DEAAAAAA...</td>\n",
       "      <td>[{'class': 'Bush', 'conf': 0.8409668207168579,...</td>\n",
       "    </tr>\n",
       "    <tr>\n",
       "      <th>1</th>\n",
       "      <td>10002456</td>\n",
       "      <td>{'features': 'AAAAAGPqez4AAAAACHhsPigtHz/J+MI/...</td>\n",
       "      <td>[{'class': 'Sky', 'conf': 0.7663399577140808, ...</td>\n",
       "    </tr>\n",
       "    <tr>\n",
       "      <th>2</th>\n",
       "      <td>1000268201</td>\n",
       "      <td>{'features': 'RcyMPgAAAAAAAAAAIrObQAAAAAAAAAAA...</td>\n",
       "      <td>[{'class': 'Dress', 'conf': 0.9922232031822205...</td>\n",
       "    </tr>\n",
       "    <tr>\n",
       "      <th>3</th>\n",
       "      <td>1000344755</td>\n",
       "      <td>{'features': 'R/6JPkusXj/A7KA/AAAAAAAAAAAAAAAA...</td>\n",
       "      <td>[{'class': 'Man', 'conf': 0.9483818411827087, ...</td>\n",
       "    </tr>\n",
       "    <tr>\n",
       "      <th>4</th>\n",
       "      <td>1000366164</td>\n",
       "      <td>{'features': 'AAAAAAAAAAAAAAAAAAAAABVWmz0AAAAA...</td>\n",
       "      <td>[{'class': 'Glasses', 'conf': 0.96930736303329...</td>\n",
       "    </tr>\n",
       "    <tr>\n",
       "      <th>...</th>\n",
       "      <td>...</td>\n",
       "      <td>...</td>\n",
       "      <td>...</td>\n",
       "    </tr>\n",
       "    <tr>\n",
       "      <th>28995</th>\n",
       "      <td>997338199</td>\n",
       "      <td>{'features': 's9yMPgAAAAAAAAAAWzh9P5uqOEAAAAAA...</td>\n",
       "      <td>[{'class': 'Hair', 'conf': 0.7632176876068115,...</td>\n",
       "    </tr>\n",
       "    <tr>\n",
       "      <th>28996</th>\n",
       "      <td>997722733</td>\n",
       "      <td>{'features': 'N7IGQElTrj0AAAAAxUgmPkTlSD8AAAAA...</td>\n",
       "      <td>[{'class': 'Man', 'conf': 0.9461695551872253, ...</td>\n",
       "    </tr>\n",
       "    <tr>\n",
       "      <th>28997</th>\n",
       "      <td>997876722</td>\n",
       "      <td>{'features': 'AAAAAF9gpD8AAAAAubgjPQAAAAAAAAAA...</td>\n",
       "      <td>[{'class': 'Tomato', 'conf': 0.910000860691070...</td>\n",
       "    </tr>\n",
       "    <tr>\n",
       "      <th>28998</th>\n",
       "      <td>99804383</td>\n",
       "      <td>{'features': 'iGkyPi+yeT0AAAAAMgceQHxPhDwAAAAA...</td>\n",
       "      <td>[{'class': 'Shirt', 'conf': 0.9361402988433838...</td>\n",
       "    </tr>\n",
       "    <tr>\n",
       "      <th>28999</th>\n",
       "      <td>998845445</td>\n",
       "      <td>{'features': 'Cb6/PQAAAAAAAAAAAAAAAHNGfDsAAAAA...</td>\n",
       "      <td>[{'class': 'Boat', 'conf': 0.9751038551330566,...</td>\n",
       "    </tr>\n",
       "  </tbody>\n",
       "</table>\n",
       "<p>29000 rows × 3 columns</p>\n",
       "</div>"
      ],
      "text/plain": [
       "               id                                           features  \\\n",
       "0      1000092795  {'features': 'FUTwPG3ezD8AAAAAAAAAAKR5DEAAAAAA...   \n",
       "1        10002456  {'features': 'AAAAAGPqez4AAAAACHhsPigtHz/J+MI/...   \n",
       "2      1000268201  {'features': 'RcyMPgAAAAAAAAAAIrObQAAAAAAAAAAA...   \n",
       "3      1000344755  {'features': 'R/6JPkusXj/A7KA/AAAAAAAAAAAAAAAA...   \n",
       "4      1000366164  {'features': 'AAAAAAAAAAAAAAAAAAAAABVWmz0AAAAA...   \n",
       "...           ...                                                ...   \n",
       "28995   997338199  {'features': 's9yMPgAAAAAAAAAAWzh9P5uqOEAAAAAA...   \n",
       "28996   997722733  {'features': 'N7IGQElTrj0AAAAAxUgmPkTlSD8AAAAA...   \n",
       "28997   997876722  {'features': 'AAAAAF9gpD8AAAAAubgjPQAAAAAAAAAA...   \n",
       "28998    99804383  {'features': 'iGkyPi+yeT0AAAAAMgceQHxPhDwAAAAA...   \n",
       "28999   998845445  {'features': 'Cb6/PQAAAAAAAAAAAAAAAHNGfDsAAAAA...   \n",
       "\n",
       "                                                   label  \n",
       "0      [{'class': 'Bush', 'conf': 0.8409668207168579,...  \n",
       "1      [{'class': 'Sky', 'conf': 0.7663399577140808, ...  \n",
       "2      [{'class': 'Dress', 'conf': 0.9922232031822205...  \n",
       "3      [{'class': 'Man', 'conf': 0.9483818411827087, ...  \n",
       "4      [{'class': 'Glasses', 'conf': 0.96930736303329...  \n",
       "...                                                  ...  \n",
       "28995  [{'class': 'Hair', 'conf': 0.7632176876068115,...  \n",
       "28996  [{'class': 'Man', 'conf': 0.9461695551872253, ...  \n",
       "28997  [{'class': 'Tomato', 'conf': 0.910000860691070...  \n",
       "28998  [{'class': 'Shirt', 'conf': 0.9361402988433838...  \n",
       "28999  [{'class': 'Boat', 'conf': 0.9751038551330566,...  \n",
       "\n",
       "[29000 rows x 3 columns]"
      ]
     },
     "execution_count": 4,
     "metadata": {},
     "output_type": "execute_result"
    }
   ],
   "source": [
    "full_detection = pd.merge(df_feature_detection, df_label_detection, on=\"id\")\n",
    "full_detection"
   ]
  },
  {
   "cell_type": "code",
   "execution_count": 5,
   "id": "e42c5f28",
   "metadata": {},
   "outputs": [
    {
     "name": "stderr",
     "output_type": "stream",
     "text": [
      "29000it [05:57, 81.13it/s] \n"
     ]
    }
   ],
   "source": [
    "from tqdm import tqdm\n",
    "bbox_id = 0\n",
    "for index, row in tqdm(full_detection.iterrows()):\n",
    "    list_features = np.split(np.frombuffer(base64.b64decode(row[\"features\"][\"features\"]), np.float32), row[\"features\"][\"num_boxes\"])\n",
    "    for i in range(row[\"features\"][\"num_boxes\"]):\n",
    "        row[\"label\"][i][\"feature\"] = list_features[i]\n",
    "        row[\"label\"][i][\"bbox_id\"] = bbox_id\n",
    "        bbox_id+=1"
   ]
  },
  {
   "cell_type": "code",
   "execution_count": 6,
   "id": "a78f88f1",
   "metadata": {
    "collapsed": true
   },
   "outputs": [
    {
     "data": {
      "text/plain": [
       "[{'class': 'Bush',\n",
       "  'conf': 0.8409668207168579,\n",
       "  'rect': [0.0, 216.70770263671875, 151.86502075195312, 387.5498046875],\n",
       "  'feature': array([0.0293, 1.6005, 0.    , ..., 0.7751, 0.3417, 0.4561], dtype=float32),\n",
       "  'bbox_id': 0},\n",
       " {'class': 'Shirt',\n",
       "  'conf': 0.828758955001831,\n",
       "  'rect': [175.1328887939453,\n",
       "   158.813232421875,\n",
       "   207.6816864013672,\n",
       "   223.3404541015625],\n",
       "  'feature': array([0.6272, 0.    , 0.    , ..., 0.4467, 0.1291, 0.0977], dtype=float32),\n",
       "  'bbox_id': 1},\n",
       " {'class': 'Shirt',\n",
       "  'conf': 0.8219393491744995,\n",
       "  'rect': [206.0119171142578,\n",
       "   146.23992919921875,\n",
       "   257.36871337890625,\n",
       "   242.8354034423828],\n",
       "  'feature': array([0.0042, 0.    , 0.    , ..., 0.4857, 0.1932, 0.1542], dtype=float32),\n",
       "  'bbox_id': 2},\n",
       " {'class': 'Man',\n",
       "  'conf': 0.8003118634223938,\n",
       "  'rect': [155.7000274658203,\n",
       "   187.9111328125,\n",
       "   253.99468994140625,\n",
       "   374.9774475097656],\n",
       "  'feature': array([7.0939, 0.    , 0.0528, ..., 0.75  , 0.3741, 0.2952], dtype=float32),\n",
       "  'bbox_id': 3},\n",
       " {'class': 'Sky',\n",
       "  'conf': 0.7635351419448853,\n",
       "  'rect': [135.11192321777344, 0.0, 331.4334716796875, 69.4588394165039],\n",
       "  'feature': array([0.    , 0.    , 0.    , ..., 0.1389, 0.1389, 0.5896], dtype=float32),\n",
       "  'bbox_id': 4},\n",
       " {'class': 'Hair',\n",
       "  'conf': 0.7583618760108948,\n",
       "  'rect': [197.89041137695312,\n",
       "   111.39276123046875,\n",
       "   236.45010375976562,\n",
       "   145.28573608398438],\n",
       "  'feature': array([0.074 , 0.    , 0.    , ..., 0.2906, 0.0678, 0.1158], dtype=float32),\n",
       "  'bbox_id': 5},\n",
       " {'class': 'Pant',\n",
       "  'conf': 0.7419025897979736,\n",
       "  'rect': [175.57742309570312,\n",
       "   231.07327270507812,\n",
       "   216.1589813232422,\n",
       "   326.6249084472656],\n",
       "  'feature': array([2.8108, 0.    , 2.1763, ..., 0.6532, 0.1911, 0.1219], dtype=float32),\n",
       "  'bbox_id': 6},\n",
       " {'class': 'Tree',\n",
       "  'conf': 0.677837610244751,\n",
       "  'rect': [2.6326255798339844, 0.0, 181.0104522705078, 290.3567199707031],\n",
       "  'feature': array([0.2819, 0.    , 0.0043, ..., 0.5807, 0.5807, 0.5357], dtype=float32),\n",
       "  'bbox_id': 7},\n",
       " {'class': 'Bush',\n",
       "  'conf': 0.6685299277305603,\n",
       "  'rect': [259.5850830078125,\n",
       "   212.35826110839844,\n",
       "   332.44500732421875,\n",
       "   349.40606689453125],\n",
       "  'feature': array([1.9411, 3.1399, 0.    , ..., 0.6988, 0.2741, 0.2188], dtype=float32),\n",
       "  'bbox_id': 8},\n",
       " {'class': 'Staircase',\n",
       "  'conf': 0.6353965401649475,\n",
       "  'rect': [136.8717498779297,\n",
       "   108.58080291748047,\n",
       "   206.7377166748047,\n",
       "   326.7862854003906],\n",
       "  'feature': array([1.1291, 0.6972, 0.8086, ..., 0.6536, 0.4364, 0.2098], dtype=float32),\n",
       "  'bbox_id': 9},\n",
       " {'class': 'Grass',\n",
       "  'conf': 0.6013863682746887,\n",
       "  'rect': [0.9849861264228821,\n",
       "   357.9863586425781,\n",
       "   269.23663330078125,\n",
       "   486.8345031738281],\n",
       "  'feature': array([0.6912, 0.    , 0.    , ..., 0.9737, 0.2577, 0.8056], dtype=float32),\n",
       "  'bbox_id': 10},\n",
       " {'class': 'Ground',\n",
       "  'conf': 0.5690973997116089,\n",
       "  'rect': [98.46355438232422,\n",
       "   271.18524169921875,\n",
       "   332.44500732421875,\n",
       "   499.4444580078125],\n",
       "  'feature': array([4.1868, 0.0782, 0.3479, ..., 0.9989, 0.4565, 0.7026], dtype=float32),\n",
       "  'bbox_id': 11},\n",
       " {'class': 'Man',\n",
       "  'conf': 0.5469056367874146,\n",
       "  'rect': [164.22988891601562,\n",
       "   85.76680755615234,\n",
       "   263.0932312011719,\n",
       "   273.51300048828125],\n",
       "  'feature': array([1.1395, 0.    , 0.0749, ..., 0.547 , 0.3755, 0.2969], dtype=float32),\n",
       "  'bbox_id': 12},\n",
       " {'class': 'Shoe',\n",
       "  'conf': 0.5456228852272034,\n",
       "  'rect': [231.49331665039062,\n",
       "   343.15576171875,\n",
       "   257.3102111816406,\n",
       "   364.5482482910156],\n",
       "  'feature': array([0.4957, 0.    , 0.    , ..., 0.7291, 0.0428, 0.0775], dtype=float32),\n",
       "  'bbox_id': 13},\n",
       " {'class': 'Jean',\n",
       "  'conf': 0.5427528023719788,\n",
       "  'rect': [214.11398315429688,\n",
       "   238.756591796875,\n",
       "   263.0588684082031,\n",
       "   355.1350402832031],\n",
       "  'feature': array([1.3849, 0.    , 0.    , ..., 0.7103, 0.2328, 0.147 ], dtype=float32),\n",
       "  'bbox_id': 14},\n",
       " {'class': 'Building',\n",
       "  'conf': 0.533687174320221,\n",
       "  'rect': [134.47369384765625,\n",
       "   46.07209396362305,\n",
       "   234.8800506591797,\n",
       "   269.232421875],\n",
       "  'feature': array([0.1523, 1.3181, 0.    , ..., 0.5385, 0.4463, 0.3015], dtype=float32),\n",
       "  'bbox_id': 15},\n",
       " {'class': 'Can',\n",
       "  'conf': 0.513809084892273,\n",
       "  'rect': [152.66952514648438,\n",
       "   313.8071594238281,\n",
       "   161.44960021972656,\n",
       "   331.7379150390625],\n",
       "  'feature': array([1.1426, 0.    , 0.    , ..., 0.6635, 0.0359, 0.0264], dtype=float32),\n",
       "  'bbox_id': 16},\n",
       " {'class': 'Hand',\n",
       "  'conf': 0.5108685493469238,\n",
       "  'rect': [158.72329711914062,\n",
       "   200.48106384277344,\n",
       "   174.91934204101562,\n",
       "   216.08053588867188],\n",
       "  'feature': array([0.    , 0.    , 0.    , ..., 0.4322, 0.0312, 0.0486], dtype=float32),\n",
       "  'bbox_id': 17},\n",
       " {'class': 'Head',\n",
       "  'conf': 0.4631790518760681,\n",
       "  'rect': [196.42262268066406,\n",
       "   112.27932739257812,\n",
       "   235.4471893310547,\n",
       "   156.87283325195312],\n",
       "  'feature': array([0.0682, 0.    , 0.    , ..., 0.3137, 0.0892, 0.1172], dtype=float32),\n",
       "  'bbox_id': 18},\n",
       " {'class': 'Hair',\n",
       "  'conf': 0.4297909736633301,\n",
       "  'rect': [180.9910125732422,\n",
       "   122.28606414794922,\n",
       "   203.3503875732422,\n",
       "   158.57138061523438],\n",
       "  'feature': array([0.0315, 0.    , 0.    , ..., 0.3171, 0.0726, 0.0671], dtype=float32),\n",
       "  'bbox_id': 19},\n",
       " {'class': 'Shoe',\n",
       "  'conf': 0.42121729254722595,\n",
       "  'rect': [167.74868774414062,\n",
       "   314.35504150390625,\n",
       "   196.90078735351562,\n",
       "   328.8705749511719],\n",
       "  'feature': array([3.4059, 0.    , 0.0847, ..., 0.6577, 0.029 , 0.0875], dtype=float32),\n",
       "  'bbox_id': 20},\n",
       " {'class': 'Tree',\n",
       "  'conf': 0.39776843786239624,\n",
       "  'rect': [234.2777862548828,\n",
       "   11.29153823852539,\n",
       "   332.44500732421875,\n",
       "   325.1054382324219],\n",
       "  'feature': array([0.2351, 0.1789, 0.    , ..., 0.6502, 0.6276, 0.2948], dtype=float32),\n",
       "  'bbox_id': 21},\n",
       " {'class': 'Shoe',\n",
       "  'conf': 0.39539650082588196,\n",
       "  'rect': [213.4191436767578,\n",
       "   343.7758483886719,\n",
       "   236.96139526367188,\n",
       "   356.37445068359375],\n",
       "  'feature': array([0.9011, 0.    , 0.    , ..., 0.7127, 0.0252, 0.0707], dtype=float32),\n",
       "  'bbox_id': 22},\n",
       " {'class': 'Hand',\n",
       "  'conf': 0.3699958026409149,\n",
       "  'rect': [174.45065307617188,\n",
       "   185.1975860595703,\n",
       "   193.4960174560547,\n",
       "   202.16998291015625],\n",
       "  'feature': array([0.    , 0.    , 0.    , ..., 0.4043, 0.0339, 0.0572], dtype=float32),\n",
       "  'bbox_id': 23},\n",
       " {'class': 'Pant',\n",
       "  'conf': 0.36623477935791016,\n",
       "  'rect': [193.79246520996094,\n",
       "   236.31381225585938,\n",
       "   248.49586486816406,\n",
       "   347.4967956542969],\n",
       "  'feature': array([2.3445, 0.    , 0.825 , ..., 0.695 , 0.2224, 0.1643], dtype=float32),\n",
       "  'bbox_id': 24},\n",
       " {'class': 'Shadow',\n",
       "  'conf': 0.36270594596862793,\n",
       "  'rect': [145.54055786132812,\n",
       "   340.91851806640625,\n",
       "   215.3068389892578,\n",
       "   366.3031311035156],\n",
       "  'feature': array([21.1777,  0.    ,  0.    , ...,  0.7326,  0.0508,  0.2095],\n",
       "        dtype=float32),\n",
       "  'bbox_id': 25},\n",
       " {'class': 'Arm',\n",
       "  'conf': 0.35652968287467957,\n",
       "  'rect': [167.90826416015625,\n",
       "   161.5697784423828,\n",
       "   255.6490478515625,\n",
       "   219.17872619628906],\n",
       "  'feature': array([1.9611, 0.    , 0.    , ..., 0.4384, 0.1152, 0.2635], dtype=float32),\n",
       "  'bbox_id': 26},\n",
       " {'class': 'Bush',\n",
       "  'conf': 0.2935190200805664,\n",
       "  'rect': [227.04649353027344, 0.0, 331.4367370605469, 252.98655700683594],\n",
       "  'feature': array([0.    , 0.0805, 0.    , ..., 0.506 , 0.506 , 0.3135], dtype=float32),\n",
       "  'bbox_id': 27},\n",
       " {'class': 'Shoe',\n",
       "  'conf': 0.2771088182926178,\n",
       "  'rect': [192.21168518066406,\n",
       "   319.7844543457031,\n",
       "   224.26280212402344,\n",
       "   347.6910095214844],\n",
       "  'feature': array([3.4713, 0.    , 0.0633, ..., 0.6954, 0.0558, 0.0962], dtype=float32),\n",
       "  'bbox_id': 28},\n",
       " {'class': 'Person',\n",
       "  'conf': 0.2437617927789688,\n",
       "  'rect': [169.5645751953125,\n",
       "   129.10842895507812,\n",
       "   212.25665283203125,\n",
       "   316.21453857421875],\n",
       "  'feature': array([1.3871, 0.    , 0.6134, ..., 0.6324, 0.3742, 0.1282], dtype=float32),\n",
       "  'bbox_id': 29},\n",
       " {'class': 'Sneaker',\n",
       "  'conf': 0.23725341260433197,\n",
       "  'rect': [228.98159790039062,\n",
       "   339.7567443847656,\n",
       "   258.6800537109375,\n",
       "   366.95721435546875],\n",
       "  'feature': array([1.0167, 0.    , 0.    , ..., 0.7339, 0.0544, 0.0892], dtype=float32),\n",
       "  'bbox_id': 30},\n",
       " {'class': 'Arm',\n",
       "  'conf': 0.23709285259246826,\n",
       "  'rect': [170.88873291015625,\n",
       "   184.97976684570312,\n",
       "   226.78517150878906,\n",
       "   209.92355346679688],\n",
       "  'feature': array([0.2834, 0.    , 0.    , ..., 0.4198, 0.0499, 0.1679], dtype=float32),\n",
       "  'bbox_id': 31},\n",
       " {'class': 'Cover',\n",
       "  'conf': 0.22222904860973358,\n",
       "  'rect': [257.8214416503906,\n",
       "   427.10980224609375,\n",
       "   322.0675964355469,\n",
       "   464.5697326660156],\n",
       "  'feature': array([0.0473, 0.    , 0.    , ..., 0.9291, 0.0749, 0.1929], dtype=float32),\n",
       "  'bbox_id': 32},\n",
       " {'class': 'Boy',\n",
       "  'conf': 0.22040419280529022,\n",
       "  'rect': [150.4026641845703,\n",
       "   98.98582458496094,\n",
       "   259.79150390625,\n",
       "   382.6158447265625],\n",
       "  'feature': array([4.432 , 0.2484, 0.    , ..., 0.7652, 0.5673, 0.3285], dtype=float32),\n",
       "  'bbox_id': 33},\n",
       " {'class': 'Rock',\n",
       "  'conf': 0.21444524824619293,\n",
       "  'rect': [213.27825927734375,\n",
       "   375.5159606933594,\n",
       "   280.2037048339844,\n",
       "   403.5498352050781],\n",
       "  'feature': array([0.6598, 0.    , 0.    , ..., 0.8071, 0.0561, 0.201 ], dtype=float32),\n",
       "  'bbox_id': 34},\n",
       " {'class': 'Tshirt',\n",
       "  'conf': 0.20642384886741638,\n",
       "  'rect': [184.83221435546875,\n",
       "   146.67568969726562,\n",
       "   256.769775390625,\n",
       "   235.5723876953125],\n",
       "  'feature': array([0.5534, 0.    , 0.    , ..., 0.4711, 0.1778, 0.216 ], dtype=float32),\n",
       "  'bbox_id': 35},\n",
       " {'class': 'House',\n",
       "  'conf': 0.20340241491794586,\n",
       "  'rect': [99.38433074951172,\n",
       "   65.45481872558594,\n",
       "   280.44390869140625,\n",
       "   428.5339660644531],\n",
       "  'feature': array([2.9375, 1.4254, 0.    , ..., 0.8571, 0.7262, 0.5437], dtype=float32),\n",
       "  'bbox_id': 36}]"
      ]
     },
     "execution_count": 6,
     "metadata": {},
     "output_type": "execute_result"
    }
   ],
   "source": [
    "full_detection.iloc[0][\"label\"]"
   ]
  },
  {
   "cell_type": "markdown",
   "id": "3df2c686",
   "metadata": {},
   "source": [
    "### Features Segmentation"
   ]
  },
  {
   "cell_type": "code",
   "execution_count": 6,
   "id": "a6adb706",
   "metadata": {},
   "outputs": [],
   "source": [
    "mylist = []\n",
    "sg_tsv = './features_test1/training/train.feature.tsv'\n",
    "for chunk in pd.read_csv(sg_tsv, sep='\\t', header = None, converters={1:json.loads}, chunksize=20000):\n",
    "    mylist.append(chunk)\n",
    "\n",
    "df_feature_segmentation = pd.concat(mylist, axis= 0)\n",
    "del mylist\n",
    "df_feature_segmentation = df_feature_segmentation.rename(columns={0: \"id\", 1: \"features\"})\n",
    "#df_feature_segmentation"
   ]
  },
  {
   "cell_type": "code",
   "execution_count": 7,
   "id": "3b44d9b2",
   "metadata": {},
   "outputs": [],
   "source": [
    "sg_tsv = './features_test1/training/train.label.tsv'\n",
    "df_label_segmentation = pd.read_csv(sg_tsv,sep='\\t',header = None, converters={1:json.loads})\n",
    "df_label_segmentation = df_label_segmentation.rename(columns={0: \"id\", 1: \"label\"})\n",
    "#df_label_segmentation"
   ]
  },
  {
   "cell_type": "code",
   "execution_count": 8,
   "id": "458326cc",
   "metadata": {},
   "outputs": [
    {
     "data": {
      "text/html": [
       "<div>\n",
       "<style scoped>\n",
       "    .dataframe tbody tr th:only-of-type {\n",
       "        vertical-align: middle;\n",
       "    }\n",
       "\n",
       "    .dataframe tbody tr th {\n",
       "        vertical-align: top;\n",
       "    }\n",
       "\n",
       "    .dataframe thead th {\n",
       "        text-align: right;\n",
       "    }\n",
       "</style>\n",
       "<table border=\"1\" class=\"dataframe\">\n",
       "  <thead>\n",
       "    <tr style=\"text-align: right;\">\n",
       "      <th></th>\n",
       "      <th>id</th>\n",
       "      <th>features</th>\n",
       "      <th>label</th>\n",
       "    </tr>\n",
       "  </thead>\n",
       "  <tbody>\n",
       "    <tr>\n",
       "      <th>0</th>\n",
       "      <td>1000092795</td>\n",
       "      <td>{'features': 'ki89QAAAAAAAAAAAFvs8P3NUhz/ght1A...</td>\n",
       "      <td>[{'class': 'Belt buckle', 'conf': 0.5350186228...</td>\n",
       "    </tr>\n",
       "    <tr>\n",
       "      <th>1</th>\n",
       "      <td>10002456</td>\n",
       "      <td>{'features': 'Ta8CQRDNxD81+ZRAPhfGQOb8wkCgvb5A...</td>\n",
       "      <td>[{'class': 'Traffic light', 'conf': 0.51291126...</td>\n",
       "    </tr>\n",
       "    <tr>\n",
       "      <th>2</th>\n",
       "      <td>1000268201</td>\n",
       "      <td>{'features': 'fKqDQQAAAAA8P44/WHkaQfywkEAAAAAA...</td>\n",
       "      <td>[{'class': 'Dress', 'conf': 0.9662193059921265...</td>\n",
       "    </tr>\n",
       "    <tr>\n",
       "      <th>3</th>\n",
       "      <td>1000344755</td>\n",
       "      <td>{'features': 'u24FQFOHokAAAAAACkI9QBn70T8kwudA...</td>\n",
       "      <td>[{'class': 'Rubber band', 'conf': 0.7075430750...</td>\n",
       "    </tr>\n",
       "    <tr>\n",
       "      <th>4</th>\n",
       "      <td>1000366164</td>\n",
       "      <td>{'features': 'lJYiQV6dlT9WZDlAXJmOQL94t0AAshc8...</td>\n",
       "      <td>[{'class': 'Drum (musical instrument)', 'conf'...</td>\n",
       "    </tr>\n",
       "    <tr>\n",
       "      <th>...</th>\n",
       "      <td>...</td>\n",
       "      <td>...</td>\n",
       "      <td>...</td>\n",
       "    </tr>\n",
       "    <tr>\n",
       "      <th>28995</th>\n",
       "      <td>997338199</td>\n",
       "      <td>{'features': 'aPgEQQAAAAAAAAAAJX5TQAAAAADvJSY+...</td>\n",
       "      <td>[{'class': 'Curtain', 'conf': 0.80887413024902...</td>\n",
       "    </tr>\n",
       "    <tr>\n",
       "      <th>28996</th>\n",
       "      <td>997722733</td>\n",
       "      <td>{'features': '9pzPP7/XVUEAAAAAnGWUPuE1T0H3ks1A...</td>\n",
       "      <td>[{'class': 'Sandal', 'conf': 0.717478156089782...</td>\n",
       "    </tr>\n",
       "    <tr>\n",
       "      <th>28997</th>\n",
       "      <td>997876722</td>\n",
       "      <td>{'features': 'mPJwQAAAAAAAAAAAuo71PzYZgkAaSe5A...</td>\n",
       "      <td>[{'class': 'Apple', 'conf': 0.9743674397468567...</td>\n",
       "    </tr>\n",
       "    <tr>\n",
       "      <th>28998</th>\n",
       "      <td>99804383</td>\n",
       "      <td>{'features': 'SwyYQBGga0A6YDY/AAAAAJCAgj8fi/s/...</td>\n",
       "      <td>[{'class': 'Signboard', 'conf': 0.706024229526...</td>\n",
       "    </tr>\n",
       "    <tr>\n",
       "      <th>28999</th>\n",
       "      <td>998845445</td>\n",
       "      <td>{'features': 'QovFQE59yj8RE+A/AAAAANu9KEAxWotA...</td>\n",
       "      <td>[{'class': 'Ladder', 'conf': 0.995799362659454...</td>\n",
       "    </tr>\n",
       "  </tbody>\n",
       "</table>\n",
       "<p>29000 rows × 3 columns</p>\n",
       "</div>"
      ],
      "text/plain": [
       "               id                                           features  \\\n",
       "0      1000092795  {'features': 'ki89QAAAAAAAAAAAFvs8P3NUhz/ght1A...   \n",
       "1        10002456  {'features': 'Ta8CQRDNxD81+ZRAPhfGQOb8wkCgvb5A...   \n",
       "2      1000268201  {'features': 'fKqDQQAAAAA8P44/WHkaQfywkEAAAAAA...   \n",
       "3      1000344755  {'features': 'u24FQFOHokAAAAAACkI9QBn70T8kwudA...   \n",
       "4      1000366164  {'features': 'lJYiQV6dlT9WZDlAXJmOQL94t0AAshc8...   \n",
       "...           ...                                                ...   \n",
       "28995   997338199  {'features': 'aPgEQQAAAAAAAAAAJX5TQAAAAADvJSY+...   \n",
       "28996   997722733  {'features': '9pzPP7/XVUEAAAAAnGWUPuE1T0H3ks1A...   \n",
       "28997   997876722  {'features': 'mPJwQAAAAAAAAAAAuo71PzYZgkAaSe5A...   \n",
       "28998    99804383  {'features': 'SwyYQBGga0A6YDY/AAAAAJCAgj8fi/s/...   \n",
       "28999   998845445  {'features': 'QovFQE59yj8RE+A/AAAAANu9KEAxWotA...   \n",
       "\n",
       "                                                   label  \n",
       "0      [{'class': 'Belt buckle', 'conf': 0.5350186228...  \n",
       "1      [{'class': 'Traffic light', 'conf': 0.51291126...  \n",
       "2      [{'class': 'Dress', 'conf': 0.9662193059921265...  \n",
       "3      [{'class': 'Rubber band', 'conf': 0.7075430750...  \n",
       "4      [{'class': 'Drum (musical instrument)', 'conf'...  \n",
       "...                                                  ...  \n",
       "28995  [{'class': 'Curtain', 'conf': 0.80887413024902...  \n",
       "28996  [{'class': 'Sandal', 'conf': 0.717478156089782...  \n",
       "28997  [{'class': 'Apple', 'conf': 0.9743674397468567...  \n",
       "28998  [{'class': 'Signboard', 'conf': 0.706024229526...  \n",
       "28999  [{'class': 'Ladder', 'conf': 0.995799362659454...  \n",
       "\n",
       "[29000 rows x 3 columns]"
      ]
     },
     "execution_count": 8,
     "metadata": {},
     "output_type": "execute_result"
    }
   ],
   "source": [
    "full_segmentation = pd.merge(df_feature_segmentation, df_label_segmentation, on=\"id\")\n",
    "full_segmentation"
   ]
  },
  {
   "cell_type": "code",
   "execution_count": 9,
   "id": "e87891e4",
   "metadata": {},
   "outputs": [
    {
     "name": "stderr",
     "output_type": "stream",
     "text": [
      "29000it [01:15, 382.06it/s]\n"
     ]
    }
   ],
   "source": [
    "from tqdm import tqdm\n",
    "bbox_id = 0\n",
    "for index, row in tqdm(full_segmentation.iterrows()):\n",
    "    list_features = np.split(np.frombuffer(base64.b64decode(row[\"features\"][\"features\"]), np.float32), row[\"features\"][\"num_boxes\"])\n",
    "    for i in range(row[\"features\"][\"num_boxes\"]):\n",
    "        row[\"label\"][i][\"feature\"] = list_features[i]\n",
    "        row[\"label\"][i][\"bbox_id\"] = bbox_id\n",
    "        bbox_id+=1"
   ]
  },
  {
   "cell_type": "code",
   "execution_count": 13,
   "id": "7fd5434f",
   "metadata": {
    "collapsed": true
   },
   "outputs": [
    {
     "data": {
      "text/plain": [
       "[{'class': 'Belt buckle',\n",
       "  'conf': 0.5350186228752136,\n",
       "  'rect': [217.0223846435547,\n",
       "   234.0861053466797,\n",
       "   223.67523193359375,\n",
       "   240.3889923095703],\n",
       "  'feature': array([2.956 , 0.    , 0.    , ..., 0.4808, 0.0126, 0.02  ], dtype=float32),\n",
       "  'bbox_id': 0},\n",
       " {'class': 'Tree',\n",
       "  'conf': 0.8952938318252563,\n",
       "  'rect': [0, 0, 332, 421],\n",
       "  'feature': array([5.4538, 4.0191, 0.    , ..., 0.842 , 0.842 , 0.997 ], dtype=float32),\n",
       "  'bbox_id': 1},\n",
       " {'class': 'Sky',\n",
       "  'conf': 0.9932218790054321,\n",
       "  'rect': [175, 0, 300, 57],\n",
       "  'feature': array([ 3.0832, 22.0566,  1.2089, ...,  0.114 ,  0.114 ,  0.3754],\n",
       "        dtype=float32),\n",
       "  'bbox_id': 2},\n",
       " {'class': 'Person',\n",
       "  'conf': 0.9997443556785583,\n",
       "  'rect': [162, 112, 257, 365],\n",
       "  'feature': array([0.735 , 1.7667, 5.8864, ..., 0.73  , 0.506 , 0.2853], dtype=float32),\n",
       "  'bbox_id': 3},\n",
       " {'class': 'Person',\n",
       "  'conf': 0.996145486831665,\n",
       "  'rect': [165, 123, 214, 333],\n",
       "  'feature': array([1.9702, 6.9486, 0.4648, ..., 0.666 , 0.42  , 0.1471], dtype=float32),\n",
       "  'bbox_id': 4},\n",
       " {'class': 'Grass',\n",
       "  'conf': 0.9679450988769531,\n",
       "  'rect': [0, 365, 332, 499],\n",
       "  'feature': array([0.3997, 8.8439, 7.3527, ..., 0.998 , 0.268 , 0.997 ], dtype=float32),\n",
       "  'bbox_id': 5},\n",
       " {'class': 'Dirt',\n",
       "  'conf': 0.9469869136810303,\n",
       "  'rect': [139, 301, 332, 412],\n",
       "  'feature': array([ 2.5159, 26.9286,  5.788 , ...,  0.824 ,  0.222 ,  0.5796],\n",
       "        dtype=float32),\n",
       "  'bbox_id': 6}]"
      ]
     },
     "execution_count": 13,
     "metadata": {},
     "output_type": "execute_result"
    }
   ],
   "source": [
    "full_segmentation.iloc[0][\"label\"]"
   ]
  },
  {
   "cell_type": "markdown",
   "id": "8975efb5",
   "metadata": {},
   "source": [
    "### comparison"
   ]
  },
  {
   "cell_type": "code",
   "execution_count": 101,
   "id": "e51ce9d6",
   "metadata": {},
   "outputs": [
    {
     "data": {
      "text/plain": [
       "{'class': 'Boy',\n",
       " 'conf': 0.22040419280529022,\n",
       " 'rect': [150.4026641845703,\n",
       "  98.98582458496094,\n",
       "  259.79150390625,\n",
       "  382.6158447265625],\n",
       " 'feature': array([4.432 , 0.2484, 0.    , ..., 0.7652, 0.5673, 0.3285], dtype=float32),\n",
       " 'bbox_id': 33}"
      ]
     },
     "execution_count": 101,
     "metadata": {},
     "output_type": "execute_result"
    }
   ],
   "source": [
    "full_detection.iloc[0][\"label\"][33]"
   ]
  },
  {
   "cell_type": "code",
   "execution_count": 40,
   "id": "f4429411",
   "metadata": {},
   "outputs": [
    {
     "data": {
      "text/plain": [
       "{'class': 'Person',\n",
       " 'conf': 0.9997443556785583,\n",
       " 'rect': [162, 112, 257, 365],\n",
       " 'feature': array([0.735 , 1.7667, 5.8864, ..., 0.73  , 0.506 , 0.2853], dtype=float32),\n",
       " 'bbox_id': 3}"
      ]
     },
     "execution_count": 40,
     "metadata": {},
     "output_type": "execute_result"
    }
   ],
   "source": [
    "full_segmentation.iloc[0][\"label\"][3]"
   ]
  },
  {
   "cell_type": "code",
   "execution_count": 111,
   "id": "1ec99be9",
   "metadata": {},
   "outputs": [
    {
     "data": {
      "text/plain": [
       "0.36352017521858215"
      ]
     },
     "execution_count": 111,
     "metadata": {},
     "output_type": "execute_result"
    }
   ],
   "source": [
    "1 - spatial.distance.cosine(full_segmentation.iloc[0][\"label\"][3][\"feature\"], full_detection.iloc[0][\"label\"][33][\"feature\"])# Boy vs Person"
   ]
  },
  {
   "cell_type": "code",
   "execution_count": 112,
   "id": "ddc5fe63",
   "metadata": {},
   "outputs": [
    {
     "data": {
      "text/plain": [
       "0.9988605741724652"
      ]
     },
     "execution_count": 112,
     "metadata": {},
     "output_type": "execute_result"
    }
   ],
   "source": [
    "1 - spatial.distance.cosine(full_segmentation.iloc[0][\"label\"][3][\"rect\"], full_detection.iloc[0][\"label\"][33][\"rect\"])# Boy vs Person"
   ]
  },
  {
   "cell_type": "code",
   "execution_count": 23,
   "id": "f78dc7ba",
   "metadata": {},
   "outputs": [
    {
     "data": {
      "text/plain": [
       "{'class': 'Grass',\n",
       " 'conf': 0.6013863682746887,\n",
       " 'rect': [0.9849861264228821,\n",
       "  357.9863586425781,\n",
       "  269.23663330078125,\n",
       "  486.8345031738281],\n",
       " 'feature': array([0.6912, 0.    , 0.    , ..., 0.9737, 0.2577, 0.8056], dtype=float32),\n",
       " 'bbox_id': 10}"
      ]
     },
     "execution_count": 23,
     "metadata": {},
     "output_type": "execute_result"
    }
   ],
   "source": [
    "full_detection.iloc[0][\"label\"][10]"
   ]
  },
  {
   "cell_type": "code",
   "execution_count": 22,
   "id": "4f7a4a8d",
   "metadata": {},
   "outputs": [
    {
     "data": {
      "text/plain": [
       "{'class': 'Grass',\n",
       " 'conf': 0.9679450988769531,\n",
       " 'rect': [0, 365, 332, 499],\n",
       " 'feature': array([0.3997, 8.8439, 7.3527, ..., 0.998 , 0.268 , 0.997 ], dtype=float32),\n",
       " 'bbox_id': 5}"
      ]
     },
     "execution_count": 22,
     "metadata": {},
     "output_type": "execute_result"
    }
   ],
   "source": [
    "full_segmentation.iloc[0][\"label\"][5]"
   ]
  },
  {
   "cell_type": "code",
   "execution_count": 24,
   "id": "98fa56d6",
   "metadata": {},
   "outputs": [
    {
     "data": {
      "text/plain": [
       "0.2504027187824249"
      ]
     },
     "execution_count": 24,
     "metadata": {},
     "output_type": "execute_result"
    }
   ],
   "source": [
    "1 - spatial.distance.cosine(full_segmentation.iloc[0][\"label\"][5][\"feature\"], full_detection.iloc[0][\"label\"][10][\"feature\"])# Man vs Person"
   ]
  },
  {
   "cell_type": "code",
   "execution_count": 26,
   "id": "207370e8",
   "metadata": {},
   "outputs": [
    {
     "data": {
      "text/plain": [
       "0.9972840524412586"
      ]
     },
     "execution_count": 26,
     "metadata": {},
     "output_type": "execute_result"
    }
   ],
   "source": [
    "1 - spatial.distance.cosine(full_segmentation.iloc[0][\"label\"][5][\"rect\"], full_detection.iloc[0][\"label\"][10][\"rect\"])# Man vs Person"
   ]
  },
  {
   "cell_type": "code",
   "execution_count": 127,
   "id": "322013f7",
   "metadata": {},
   "outputs": [
    {
     "data": {
      "text/plain": [
       "{'class': 'Belt buckle',\n",
       " 'conf': 0.5350186228752136,\n",
       " 'rect': [217.0223846435547,\n",
       "  234.0861053466797,\n",
       "  223.67523193359375,\n",
       "  240.3889923095703],\n",
       " 'feature': array([2.956 , 0.    , 0.    , ..., 0.4808, 0.0126, 0.02  ], dtype=float32),\n",
       " 'bbox_id': 0}"
      ]
     },
     "execution_count": 127,
     "metadata": {},
     "output_type": "execute_result"
    }
   ],
   "source": [
    "full_segmentation.iloc[0][\"label\"][0]"
   ]
  },
  {
   "cell_type": "code",
   "execution_count": 18,
   "id": "68a6efb5",
   "metadata": {},
   "outputs": [
    {
     "name": "stderr",
     "output_type": "stream",
     "text": [
      "100%|████████████████████████████████████████████████████████████████████████████████████████████████████████████████████████████████████| 100/100 [00:06<00:00, 16.49it/s]\n"
     ]
    }
   ],
   "source": [
    "tot_similarity = 0\n",
    "count_sim = 0\n",
    "for i in tqdm(range(len(full_segmentation[:100]))):\n",
    "    for row_seg in full_segmentation.iloc[i][\"label\"]:\n",
    "        for row_dect in full_detection.iloc[i][\"label\"]:\n",
    "            if 1 - spatial.distance.cosine(row_seg[\"rect\"], row_dect[\"rect\"]) > 0.998:\n",
    "                tot_similarity += 1 - spatial.distance.cosine(row_seg[\"feature\"][:2048], row_dect[\"feature\"][:2048])\n",
    "                count_sim += 1"
   ]
  },
  {
   "cell_type": "code",
   "execution_count": 19,
   "id": "2fd52031",
   "metadata": {},
   "outputs": [
    {
     "data": {
      "text/plain": [
       "0.2288026699999422"
      ]
     },
     "execution_count": 19,
     "metadata": {},
     "output_type": "execute_result"
    }
   ],
   "source": [
    "tot_similarity / count_sim"
   ]
  },
  {
   "cell_type": "code",
   "execution_count": 11,
   "id": "8f3fa2bf",
   "metadata": {},
   "outputs": [
    {
     "data": {
      "text/plain": [
       "166378.14504789747"
      ]
     },
     "execution_count": 11,
     "metadata": {},
     "output_type": "execute_result"
    }
   ],
   "source": [
    "tot_similarity"
   ]
  },
  {
   "cell_type": "code",
   "execution_count": 12,
   "id": "6870ff9b",
   "metadata": {},
   "outputs": [
    {
     "data": {
      "text/plain": [
       "727858"
      ]
     },
     "execution_count": 12,
     "metadata": {},
     "output_type": "execute_result"
    }
   ],
   "source": [
    "count_sim"
   ]
  },
  {
   "cell_type": "code",
   "execution_count": 13,
   "id": "a2e984b4",
   "metadata": {},
   "outputs": [
    {
     "data": {
      "text/plain": [
       "0.22858599486149425"
      ]
     },
     "execution_count": 13,
     "metadata": {},
     "output_type": "execute_result"
    }
   ],
   "source": [
    "tot_similarity / count_sim"
   ]
  },
  {
   "cell_type": "code",
   "execution_count": null,
   "id": "c36f6ac8",
   "metadata": {},
   "outputs": [],
   "source": [
    "# test con estrazione feautures direttamente dalla regione"
   ]
  },
  {
   "cell_type": "code",
   "execution_count": 14,
   "id": "3f4fd640",
   "metadata": {},
   "outputs": [],
   "source": [
    "import cv2, random"
   ]
  },
  {
   "cell_type": "code",
   "execution_count": 27,
   "id": "e6195bd9",
   "metadata": {},
   "outputs": [],
   "source": [
    "def get_size(image_size):\n",
    "    min_size = 600\n",
    "    max_size = 1000\n",
    "    if not isinstance(min_size, (list, tuple)):\n",
    "        min_size = (min_size,)\n",
    "    w, h = image_size\n",
    "    size = random.choice(min_size)\n",
    "    if max_size is not None:\n",
    "        min_original_size = float(min((w, h)))\n",
    "        max_original_size = float(max((w, h)))\n",
    "        if max_original_size / min_original_size * size > max_size:\n",
    "            size = int(round(max_size * min_original_size / max_original_size))\n",
    "\n",
    "    if (w <= h and w == size) or (h <= w and h == size):\n",
    "        return (h, w)\n",
    "\n",
    "    if w < h:\n",
    "        ow = size\n",
    "        oh = int(size * h / w)\n",
    "    else:\n",
    "        oh = size\n",
    "        ow = int(size * w / h)\n",
    "\n",
    "    return (oh, ow)"
   ]
  },
  {
   "cell_type": "code",
   "execution_count": 97,
   "id": "c98be694",
   "metadata": {},
   "outputs": [
    {
     "name": "stdout",
     "output_type": "stream",
     "text": [
      "img:  1000092795.jpg\n",
      "area:  24035\n"
     ]
    }
   ],
   "source": [
    "img = str(full_detection.iloc[0][\"id\"])+\".jpg\"\n",
    "print(\"img: \", img)\n",
    "im_cv2 = cv2.imread(\"../datasets/flickr30k_images/train/\"+img)\n",
    "#new_size = get_size((im_cv2.shape[1],im_cv2.shape[0]))\n",
    "#im_cv2 = cv2.resize(im_cv2, (new_size[1], new_size[0]), interpolation = cv2.INTER_AREA)\n",
    "\n",
    "x,y,w,h = tuple(full_segmentation.iloc[0][\"label\"][3][\"rect\"])\n",
    "#x,y,w,h = tuple(full_detection.iloc[0][\"label\"][33][\"rect\"])\n",
    "\n",
    "ROI = im_cv2[int(y):int(h), int(x):int(w)]\n",
    "print(\"area: \", ROI.shape[0]*ROI.shape[1])\n",
    "cv2.imshow(\"Man\",ROI)\n",
    "cv2.waitKey(0) \n",
    "cv2.destroyAllWindows() "
   ]
  },
  {
   "cell_type": "code",
   "execution_count": 15,
   "id": "999d7297",
   "metadata": {},
   "outputs": [],
   "source": [
    "from tensorflow.keras.applications.resnet import preprocess_input\n",
    "from tensorflow.keras.applications.resnet import ResNet101\n",
    "from tensorflow.keras.preprocessing import image\n",
    "\n",
    "resnet = ResNet101(weights='imagenet', include_top=False, pooling='max')"
   ]
  },
  {
   "cell_type": "code",
   "execution_count": 24,
   "id": "72927529",
   "metadata": {},
   "outputs": [
    {
     "name": "stderr",
     "output_type": "stream",
     "text": [
      "  0%|                                                                                                                                              | 0/100 [00:00<?, ?it/s]\n",
      "  0%|                                                                                                                                               | 0/37 [00:00<?, ?it/s]\u001b[A\n",
      "  3%|███▋                                                                                                                                   | 1/37 [00:10<06:18, 10.52s/it]\u001b[A\n",
      "  5%|███████▎                                                                                                                               | 2/37 [00:19<05:36,  9.61s/it]\u001b[A\n",
      "  8%|██████████▉                                                                                                                            | 3/37 [00:28<05:12,  9.20s/it]\u001b[A\n",
      " 11%|██████████████▌                                                                                                                        | 4/37 [00:37<04:59,  9.09s/it]\u001b[A\n",
      " 14%|██████████████████▏                                                                                                                    | 5/37 [00:45<04:47,  8.97s/it]\u001b[A\n",
      " 16%|█████████████████████▉                                                                                                                 | 6/37 [00:55<04:46,  9.24s/it]\u001b[A\n",
      " 19%|█████████████████████████▌                                                                                                             | 7/37 [01:05<04:39,  9.32s/it]\u001b[A\n",
      " 22%|█████████████████████████████▏                                                                                                         | 8/37 [01:13<04:25,  9.15s/it]\u001b[A\n",
      " 24%|████████████████████████████████▊                                                                                                      | 9/37 [01:22<04:14,  9.09s/it]\u001b[A\n",
      " 27%|████████████████████████████████████▏                                                                                                 | 10/37 [01:31<03:58,  8.83s/it]\u001b[A\n",
      " 30%|███████████████████████████████████████▊                                                                                              | 11/37 [01:39<03:47,  8.74s/it]\u001b[A\n",
      " 32%|███████████████████████████████████████████▍                                                                                          | 12/37 [01:48<03:37,  8.71s/it]\u001b[A\n",
      " 35%|███████████████████████████████████████████████                                                                                       | 13/37 [01:57<03:32,  8.84s/it]\u001b[A\n",
      " 38%|██████████████████████████████████████████████████▋                                                                                   | 14/37 [02:06<03:21,  8.78s/it]\u001b[A\n",
      " 41%|██████████████████████████████████████████████████████▎                                                                               | 15/37 [02:13<03:06,  8.46s/it]\u001b[A\n",
      " 43%|█████████████████████████████████████████████████████████▉                                                                            | 16/37 [02:21<02:54,  8.32s/it]\u001b[A\n",
      " 46%|█████████████████████████████████████████████████████████████▌                                                                        | 17/37 [02:30<02:47,  8.36s/it]\u001b[A\n",
      " 49%|█████████████████████████████████████████████████████████████████▏                                                                    | 18/37 [02:38<02:35,  8.18s/it]\u001b[A\n",
      " 51%|████████████████████████████████████████████████████████████████████▊                                                                 | 19/37 [02:45<02:25,  8.10s/it]\u001b[A\n",
      " 54%|████████████████████████████████████████████████████████████████████████▍                                                             | 20/37 [02:54<02:18,  8.14s/it]\u001b[A\n",
      " 57%|████████████████████████████████████████████████████████████████████████████                                                          | 21/37 [03:05<02:23,  8.98s/it]\u001b[A\n",
      " 59%|███████████████████████████████████████████████████████████████████████████████▋                                                      | 22/37 [03:15<02:20,  9.38s/it]\u001b[A\n",
      " 62%|███████████████████████████████████████████████████████████████████████████████████▎                                                  | 23/37 [03:23<02:07,  9.09s/it]\u001b[A\n",
      " 65%|██████████████████████████████████████████████████████████████████████████████████████▉                                               | 24/37 [03:32<01:55,  8.86s/it]\u001b[A\n",
      " 68%|██████████████████████████████████████████████████████████████████████████████████████████▌                                           | 25/37 [03:40<01:43,  8.67s/it]\u001b[A\n",
      " 70%|██████████████████████████████████████████████████████████████████████████████████████████████▏                                       | 26/37 [03:49<01:35,  8.68s/it]\u001b[A\n",
      " 73%|█████████████████████████████████████████████████████████████████████████████████████████████████▊                                    | 27/37 [03:57<01:25,  8.56s/it]\u001b[A\n",
      " 76%|█████████████████████████████████████████████████████████████████████████████████████████████████████▍                                | 28/37 [04:05<01:15,  8.42s/it]\u001b[A\n",
      " 78%|█████████████████████████████████████████████████████████████████████████████████████████████████████████                             | 29/37 [04:13<01:06,  8.26s/it]\u001b[A\n",
      " 81%|████████████████████████████████████████████████████████████████████████████████████████████████████████████▋                         | 30/37 [04:21<00:57,  8.18s/it]\u001b[A\n",
      " 84%|████████████████████████████████████████████████████████████████████████████████████████████████████████████████▎                     | 31/37 [04:29<00:49,  8.19s/it]\u001b[A\n",
      " 86%|███████████████████████████████████████████████████████████████████████████████████████████████████████████████████▉                  | 32/37 [04:37<00:40,  8.11s/it]\u001b[A\n",
      " 89%|███████████████████████████████████████████████████████████████████████████████████████████████████████████████████████▌              | 33/37 [04:45<00:32,  8.06s/it]\u001b[A\n",
      " 92%|███████████████████████████████████████████████████████████████████████████████████████████████████████████████████████████▏          | 34/37 [04:53<00:24,  8.00s/it]\u001b[A\n",
      " 95%|██████████████████████████████████████████████████████████████████████████████████████████████████████████████████████████████▊       | 35/37 [05:01<00:16,  8.01s/it]\u001b[A\n",
      " 97%|██████████████████████████████████████████████████████████████████████████████████████████████████████████████████████████████████▍   | 36/37 [05:09<00:08,  8.10s/it]\u001b[A\n",
      "100%|██████████████████████████████████████████████████████████████████████████████████████████████████████████████████████████████████████| 37/37 [05:17<00:00,  8.59s/it]\u001b[A\n",
      "  1%|█▎                                                                                                                                 | 1/100 [05:17<8:44:23, 317.81s/it]\n",
      "  0%|                                                                                                                                               | 0/31 [00:00<?, ?it/s]\u001b[A\n",
      "  3%|████▎                                                                                                                                  | 1/31 [00:08<04:17,  8.59s/it]\u001b[A\n",
      "  6%|████████▋                                                                                                                              | 2/31 [00:18<04:32,  9.39s/it]\u001b[A\n",
      " 10%|█████████████                                                                                                                          | 3/31 [00:26<04:06,  8.79s/it]\u001b[A\n",
      " 16%|█████████████████████▊                                                                                                                 | 5/31 [00:34<02:37,  6.07s/it]\u001b[A\n",
      " 19%|██████████████████████████▏                                                                                                            | 6/31 [00:42<02:47,  6.71s/it]\u001b[A\n"
     ]
    },
    {
     "name": "stderr",
     "output_type": "stream",
     "text": [
      " 26%|██████████████████████████████████▊                                                                                                    | 8/31 [00:50<02:05,  5.45s/it]\u001b[A\n",
      " 29%|███████████████████████████████████████▏                                                                                               | 9/31 [00:59<02:18,  6.28s/it]\u001b[A\n",
      " 32%|███████████████████████████████████████████▏                                                                                          | 10/31 [01:08<02:24,  6.90s/it]\u001b[A\n",
      " 35%|███████████████████████████████████████████████▌                                                                                      | 11/31 [01:16<02:25,  7.27s/it]\u001b[A\n",
      " 39%|███████████████████████████████████████████████████▊                                                                                  | 12/31 [01:24<02:22,  7.49s/it]\u001b[A\n",
      " 42%|████████████████████████████████████████████████████████▏                                                                             | 13/31 [01:32<02:17,  7.62s/it]\u001b[A\n",
      " 45%|████████████████████████████████████████████████████████████▌                                                                         | 14/31 [01:40<02:10,  7.68s/it]\u001b[A\n",
      " 48%|████████████████████████████████████████████████████████████████▊                                                                     | 15/31 [01:48<02:05,  7.86s/it]\u001b[A\n",
      " 52%|█████████████████████████████████████████████████████████████████████▏                                                                | 16/31 [01:57<02:02,  8.20s/it]\u001b[A\n",
      " 55%|█████████████████████████████████████████████████████████████████████████▍                                                            | 17/31 [02:06<01:55,  8.24s/it]\u001b[A\n",
      " 58%|█████████████████████████████████████████████████████████████████████████████▊                                                        | 18/31 [02:14<01:47,  8.27s/it]\u001b[A\n",
      " 61%|██████████████████████████████████████████████████████████████████████████████████▏                                                   | 19/31 [02:22<01:37,  8.15s/it]\u001b[A\n",
      " 65%|██████████████████████████████████████████████████████████████████████████████████████▍                                               | 20/31 [02:30<01:28,  8.06s/it]\u001b[A\n",
      " 68%|██████████████████████████████████████████████████████████████████████████████████████████▊                                           | 21/31 [02:38<01:20,  8.07s/it]\u001b[A\n",
      " 71%|███████████████████████████████████████████████████████████████████████████████████████████████                                       | 22/31 [02:46<01:12,  8.10s/it]\u001b[A\n",
      " 74%|███████████████████████████████████████████████████████████████████████████████████████████████████▍                                  | 23/31 [02:54<01:04,  8.12s/it]\u001b[A\n",
      " 77%|███████████████████████████████████████████████████████████████████████████████████████████████████████▋                              | 24/31 [03:02<00:56,  8.04s/it]\u001b[A\n",
      " 81%|████████████████████████████████████████████████████████████████████████████████████████████████████████████                          | 25/31 [03:10<00:47,  7.95s/it]\u001b[A\n",
      " 84%|████████████████████████████████████████████████████████████████████████████████████████████████████████████████▍                     | 26/31 [03:18<00:40,  8.01s/it]\u001b[A\n",
      " 90%|█████████████████████████████████████████████████████████████████████████████████████████████████████████████████████████             | 28/31 [03:25<00:18,  6.09s/it]\u001b[A\n",
      " 94%|█████████████████████████████████████████████████████████████████████████████████████████████████████████████████████████████▎        | 29/31 [03:34<00:13,  6.66s/it]\u001b[A\n",
      "100%|██████████████████████████████████████████████████████████████████████████████████████████████████████████████████████████████████████| 31/31 [03:42<00:00,  7.19s/it]\u001b[A\n",
      "  2%|██▌                                                                                                                                | 2/100 [09:00<7:07:49, 261.93s/it]\n",
      "  0%|                                                                                                                                               | 0/41 [00:00<?, ?it/s]\u001b[A\n",
      "  2%|███▎                                                                                                                                   | 1/41 [00:08<05:36,  8.41s/it]\u001b[A\n",
      "  5%|██████▌                                                                                                                                | 2/41 [00:18<05:57,  9.16s/it]\u001b[A\n",
      "  7%|█████████▉                                                                                                                             | 3/41 [00:27<05:52,  9.28s/it]\u001b[A\n",
      " 10%|█████████████▏                                                                                                                         | 4/41 [00:36<05:40,  9.21s/it]\u001b[A\n",
      " 12%|████████████████▍                                                                                                                      | 5/41 [00:45<05:21,  8.93s/it]\u001b[A\n",
      " 15%|███████████████████▊                                                                                                                   | 6/41 [00:53<05:04,  8.71s/it]\u001b[A\n",
      " 17%|███████████████████████                                                                                                                | 7/41 [01:02<04:58,  8.77s/it]\u001b[A\n",
      " 20%|██████████████████████████▎                                                                                                            | 8/41 [01:10<04:45,  8.66s/it]\u001b[A\n",
      " 24%|████████████████████████████████▋                                                                                                     | 10/41 [01:19<03:23,  6.57s/it]\u001b[A\n",
      " 27%|███████████████████████████████████▉                                                                                                  | 11/41 [01:27<03:33,  7.13s/it]\u001b[A\n",
      " 29%|███████████████████████████████████████▏                                                                                              | 12/41 [01:37<03:45,  7.76s/it]\u001b[A\n",
      " 32%|██████████████████████████████████████████▍                                                                                           | 13/41 [01:46<03:43,  8.00s/it]\u001b[A\n",
      " 34%|█████████████████████████████████████████████▊                                                                                        | 14/41 [01:57<03:59,  8.88s/it]\u001b[A\n",
      " 37%|█████████████████████████████████████████████████                                                                                     | 15/41 [02:06<03:53,  8.96s/it]\u001b[A\n",
      " 39%|████████████████████████████████████████████████████▎                                                                                 | 16/41 [02:14<03:40,  8.82s/it]\u001b[A\n",
      " 41%|███████████████████████████████████████████████████████▌                                                                              | 17/41 [02:23<03:32,  8.84s/it]\u001b[A\n",
      " 44%|██████████████████████████████████████████████████████████▊                                                                           | 18/41 [02:32<03:21,  8.74s/it]\u001b[A\n",
      " 46%|██████████████████████████████████████████████████████████████                                                                        | 19/41 [02:40<03:10,  8.67s/it]\u001b[A\n",
      " 49%|█████████████████████████████████████████████████████████████████▎                                                                    | 20/41 [02:48<02:58,  8.52s/it]\u001b[A\n",
      " 51%|████████████████████████████████████████████████████████████████████▋                                                                 | 21/41 [02:57<02:48,  8.43s/it]\u001b[A\n",
      " 54%|███████████████████████████████████████████████████████████████████████▉                                                              | 22/41 [03:05<02:40,  8.43s/it]\u001b[A\n",
      " 56%|███████████████████████████████████████████████████████████████████████████▏                                                          | 23/41 [03:14<02:33,  8.53s/it]\u001b[A\n"
     ]
    },
    {
     "name": "stderr",
     "output_type": "stream",
     "text": [
      " 59%|██████████████████████████████████████████████████████████████████████████████▍                                                       | 24/41 [03:22<02:25,  8.55s/it]\u001b[A\n",
      " 61%|█████████████████████████████████████████████████████████████████████████████████▋                                                    | 25/41 [03:31<02:15,  8.49s/it]\u001b[A\n",
      " 63%|████████████████████████████████████████████████████████████████████████████████████▉                                                 | 26/41 [03:39<02:07,  8.53s/it]\u001b[A\n",
      " 66%|████████████████████████████████████████████████████████████████████████████████████████▏                                             | 27/41 [03:48<01:58,  8.50s/it]\u001b[A\n",
      " 68%|███████████████████████████████████████████████████████████████████████████████████████████▌                                          | 28/41 [04:05<01:54,  8.78s/it]\u001b[A\n",
      "  2%|██▌                                                                                                                               | 2/100 [13:06<10:42:20, 393.27s/it]\n"
     ]
    },
    {
     "ename": "KeyboardInterrupt",
     "evalue": "",
     "output_type": "error",
     "traceback": [
      "\u001b[1;31m---------------------------------------------------------------------------\u001b[0m",
      "\u001b[1;31mKeyboardInterrupt\u001b[0m                         Traceback (most recent call last)",
      "\u001b[1;32mC:\\Users\\GABRIE~1.FER\\AppData\\Local\\Temp/ipykernel_12356/750424383.py\u001b[0m in \u001b[0;36m<module>\u001b[1;34m\u001b[0m\n\u001b[0;32m     14\u001b[0m             \u001b[0mimg_data\u001b[0m \u001b[1;33m=\u001b[0m \u001b[0mnp\u001b[0m\u001b[1;33m.\u001b[0m\u001b[0mexpand_dims\u001b[0m\u001b[1;33m(\u001b[0m\u001b[0mimg_data\u001b[0m\u001b[1;33m,\u001b[0m \u001b[0maxis\u001b[0m\u001b[1;33m=\u001b[0m\u001b[1;36m0\u001b[0m\u001b[1;33m)\u001b[0m\u001b[1;33m\u001b[0m\u001b[1;33m\u001b[0m\u001b[0m\n\u001b[0;32m     15\u001b[0m             \u001b[0mimg_data\u001b[0m \u001b[1;33m=\u001b[0m \u001b[0mpreprocess_input\u001b[0m\u001b[1;33m(\u001b[0m\u001b[0mimg_data\u001b[0m\u001b[1;33m)\u001b[0m\u001b[1;33m\u001b[0m\u001b[1;33m\u001b[0m\u001b[0m\n\u001b[1;32m---> 16\u001b[1;33m             \u001b[0mfeature\u001b[0m \u001b[1;33m=\u001b[0m \u001b[0mresnet\u001b[0m\u001b[1;33m.\u001b[0m\u001b[0mpredict\u001b[0m\u001b[1;33m(\u001b[0m\u001b[0mimg_data\u001b[0m\u001b[1;33m)\u001b[0m\u001b[1;33m\u001b[0m\u001b[1;33m\u001b[0m\u001b[0m\n\u001b[0m\u001b[0;32m     17\u001b[0m             \u001b[0mfeature\u001b[0m \u001b[1;33m=\u001b[0m \u001b[0mfeature\u001b[0m\u001b[1;33m.\u001b[0m\u001b[0mflatten\u001b[0m\u001b[1;33m(\u001b[0m\u001b[1;33m)\u001b[0m\u001b[1;33m\u001b[0m\u001b[1;33m\u001b[0m\u001b[0m\n\u001b[0;32m     18\u001b[0m             \u001b[0mrow\u001b[0m\u001b[1;33m[\u001b[0m\u001b[1;34m\"feature_test\"\u001b[0m\u001b[1;33m]\u001b[0m \u001b[1;33m=\u001b[0m \u001b[0mfeature\u001b[0m\u001b[1;33m\u001b[0m\u001b[1;33m\u001b[0m\u001b[0m\n",
      "\u001b[1;32mc:\\users\\gabriele.ferrario\\appdata\\local\\programs\\python\\python39\\lib\\site-packages\\keras\\utils\\traceback_utils.py\u001b[0m in \u001b[0;36merror_handler\u001b[1;34m(*args, **kwargs)\u001b[0m\n\u001b[0;32m     62\u001b[0m     \u001b[0mfiltered_tb\u001b[0m \u001b[1;33m=\u001b[0m \u001b[1;32mNone\u001b[0m\u001b[1;33m\u001b[0m\u001b[1;33m\u001b[0m\u001b[0m\n\u001b[0;32m     63\u001b[0m     \u001b[1;32mtry\u001b[0m\u001b[1;33m:\u001b[0m\u001b[1;33m\u001b[0m\u001b[1;33m\u001b[0m\u001b[0m\n\u001b[1;32m---> 64\u001b[1;33m       \u001b[1;32mreturn\u001b[0m \u001b[0mfn\u001b[0m\u001b[1;33m(\u001b[0m\u001b[1;33m*\u001b[0m\u001b[0margs\u001b[0m\u001b[1;33m,\u001b[0m \u001b[1;33m**\u001b[0m\u001b[0mkwargs\u001b[0m\u001b[1;33m)\u001b[0m\u001b[1;33m\u001b[0m\u001b[1;33m\u001b[0m\u001b[0m\n\u001b[0m\u001b[0;32m     65\u001b[0m     \u001b[1;32mexcept\u001b[0m \u001b[0mException\u001b[0m \u001b[1;32mas\u001b[0m \u001b[0me\u001b[0m\u001b[1;33m:\u001b[0m  \u001b[1;31m# pylint: disable=broad-except\u001b[0m\u001b[1;33m\u001b[0m\u001b[1;33m\u001b[0m\u001b[0m\n\u001b[0;32m     66\u001b[0m       \u001b[0mfiltered_tb\u001b[0m \u001b[1;33m=\u001b[0m \u001b[0m_process_traceback_frames\u001b[0m\u001b[1;33m(\u001b[0m\u001b[0me\u001b[0m\u001b[1;33m.\u001b[0m\u001b[0m__traceback__\u001b[0m\u001b[1;33m)\u001b[0m\u001b[1;33m\u001b[0m\u001b[1;33m\u001b[0m\u001b[0m\n",
      "\u001b[1;32mc:\\users\\gabriele.ferrario\\appdata\\local\\programs\\python\\python39\\lib\\site-packages\\keras\\engine\\training.py\u001b[0m in \u001b[0;36mpredict\u001b[1;34m(self, x, batch_size, verbose, steps, callbacks, max_queue_size, workers, use_multiprocessing)\u001b[0m\n\u001b[0;32m   1980\u001b[0m           \u001b[1;32mfor\u001b[0m \u001b[0mstep\u001b[0m \u001b[1;32min\u001b[0m \u001b[0mdata_handler\u001b[0m\u001b[1;33m.\u001b[0m\u001b[0msteps\u001b[0m\u001b[1;33m(\u001b[0m\u001b[1;33m)\u001b[0m\u001b[1;33m:\u001b[0m\u001b[1;33m\u001b[0m\u001b[1;33m\u001b[0m\u001b[0m\n\u001b[0;32m   1981\u001b[0m             \u001b[0mcallbacks\u001b[0m\u001b[1;33m.\u001b[0m\u001b[0mon_predict_batch_begin\u001b[0m\u001b[1;33m(\u001b[0m\u001b[0mstep\u001b[0m\u001b[1;33m)\u001b[0m\u001b[1;33m\u001b[0m\u001b[1;33m\u001b[0m\u001b[0m\n\u001b[1;32m-> 1982\u001b[1;33m             \u001b[0mtmp_batch_outputs\u001b[0m \u001b[1;33m=\u001b[0m \u001b[0mself\u001b[0m\u001b[1;33m.\u001b[0m\u001b[0mpredict_function\u001b[0m\u001b[1;33m(\u001b[0m\u001b[0miterator\u001b[0m\u001b[1;33m)\u001b[0m\u001b[1;33m\u001b[0m\u001b[1;33m\u001b[0m\u001b[0m\n\u001b[0m\u001b[0;32m   1983\u001b[0m             \u001b[1;32mif\u001b[0m \u001b[0mdata_handler\u001b[0m\u001b[1;33m.\u001b[0m\u001b[0mshould_sync\u001b[0m\u001b[1;33m:\u001b[0m\u001b[1;33m\u001b[0m\u001b[1;33m\u001b[0m\u001b[0m\n\u001b[0;32m   1984\u001b[0m               \u001b[0mcontext\u001b[0m\u001b[1;33m.\u001b[0m\u001b[0masync_wait\u001b[0m\u001b[1;33m(\u001b[0m\u001b[1;33m)\u001b[0m\u001b[1;33m\u001b[0m\u001b[1;33m\u001b[0m\u001b[0m\n",
      "\u001b[1;32mc:\\users\\gabriele.ferrario\\appdata\\local\\programs\\python\\python39\\lib\\site-packages\\tensorflow\\python\\util\\traceback_utils.py\u001b[0m in \u001b[0;36merror_handler\u001b[1;34m(*args, **kwargs)\u001b[0m\n\u001b[0;32m    148\u001b[0m     \u001b[0mfiltered_tb\u001b[0m \u001b[1;33m=\u001b[0m \u001b[1;32mNone\u001b[0m\u001b[1;33m\u001b[0m\u001b[1;33m\u001b[0m\u001b[0m\n\u001b[0;32m    149\u001b[0m     \u001b[1;32mtry\u001b[0m\u001b[1;33m:\u001b[0m\u001b[1;33m\u001b[0m\u001b[1;33m\u001b[0m\u001b[0m\n\u001b[1;32m--> 150\u001b[1;33m       \u001b[1;32mreturn\u001b[0m \u001b[0mfn\u001b[0m\u001b[1;33m(\u001b[0m\u001b[1;33m*\u001b[0m\u001b[0margs\u001b[0m\u001b[1;33m,\u001b[0m \u001b[1;33m**\u001b[0m\u001b[0mkwargs\u001b[0m\u001b[1;33m)\u001b[0m\u001b[1;33m\u001b[0m\u001b[1;33m\u001b[0m\u001b[0m\n\u001b[0m\u001b[0;32m    151\u001b[0m     \u001b[1;32mexcept\u001b[0m \u001b[0mException\u001b[0m \u001b[1;32mas\u001b[0m \u001b[0me\u001b[0m\u001b[1;33m:\u001b[0m\u001b[1;33m\u001b[0m\u001b[1;33m\u001b[0m\u001b[0m\n\u001b[0;32m    152\u001b[0m       \u001b[0mfiltered_tb\u001b[0m \u001b[1;33m=\u001b[0m \u001b[0m_process_traceback_frames\u001b[0m\u001b[1;33m(\u001b[0m\u001b[0me\u001b[0m\u001b[1;33m.\u001b[0m\u001b[0m__traceback__\u001b[0m\u001b[1;33m)\u001b[0m\u001b[1;33m\u001b[0m\u001b[1;33m\u001b[0m\u001b[0m\n",
      "\u001b[1;32mc:\\users\\gabriele.ferrario\\appdata\\local\\programs\\python\\python39\\lib\\site-packages\\tensorflow\\python\\eager\\def_function.py\u001b[0m in \u001b[0;36m__call__\u001b[1;34m(self, *args, **kwds)\u001b[0m\n\u001b[0;32m    913\u001b[0m \u001b[1;33m\u001b[0m\u001b[0m\n\u001b[0;32m    914\u001b[0m       \u001b[1;32mwith\u001b[0m \u001b[0mOptionalXlaContext\u001b[0m\u001b[1;33m(\u001b[0m\u001b[0mself\u001b[0m\u001b[1;33m.\u001b[0m\u001b[0m_jit_compile\u001b[0m\u001b[1;33m)\u001b[0m\u001b[1;33m:\u001b[0m\u001b[1;33m\u001b[0m\u001b[1;33m\u001b[0m\u001b[0m\n\u001b[1;32m--> 915\u001b[1;33m         \u001b[0mresult\u001b[0m \u001b[1;33m=\u001b[0m \u001b[0mself\u001b[0m\u001b[1;33m.\u001b[0m\u001b[0m_call\u001b[0m\u001b[1;33m(\u001b[0m\u001b[1;33m*\u001b[0m\u001b[0margs\u001b[0m\u001b[1;33m,\u001b[0m \u001b[1;33m**\u001b[0m\u001b[0mkwds\u001b[0m\u001b[1;33m)\u001b[0m\u001b[1;33m\u001b[0m\u001b[1;33m\u001b[0m\u001b[0m\n\u001b[0m\u001b[0;32m    916\u001b[0m \u001b[1;33m\u001b[0m\u001b[0m\n\u001b[0;32m    917\u001b[0m       \u001b[0mnew_tracing_count\u001b[0m \u001b[1;33m=\u001b[0m \u001b[0mself\u001b[0m\u001b[1;33m.\u001b[0m\u001b[0mexperimental_get_tracing_count\u001b[0m\u001b[1;33m(\u001b[0m\u001b[1;33m)\u001b[0m\u001b[1;33m\u001b[0m\u001b[1;33m\u001b[0m\u001b[0m\n",
      "\u001b[1;32mc:\\users\\gabriele.ferrario\\appdata\\local\\programs\\python\\python39\\lib\\site-packages\\tensorflow\\python\\eager\\def_function.py\u001b[0m in \u001b[0;36m_call\u001b[1;34m(self, *args, **kwds)\u001b[0m\n\u001b[0;32m    952\u001b[0m       \u001b[1;31m# In this case we have not created variables on the first call. So we can\u001b[0m\u001b[1;33m\u001b[0m\u001b[1;33m\u001b[0m\u001b[1;33m\u001b[0m\u001b[0m\n\u001b[0;32m    953\u001b[0m       \u001b[1;31m# run the first trace but we should fail if variables are created.\u001b[0m\u001b[1;33m\u001b[0m\u001b[1;33m\u001b[0m\u001b[1;33m\u001b[0m\u001b[0m\n\u001b[1;32m--> 954\u001b[1;33m       \u001b[0mresults\u001b[0m \u001b[1;33m=\u001b[0m \u001b[0mself\u001b[0m\u001b[1;33m.\u001b[0m\u001b[0m_stateful_fn\u001b[0m\u001b[1;33m(\u001b[0m\u001b[1;33m*\u001b[0m\u001b[0margs\u001b[0m\u001b[1;33m,\u001b[0m \u001b[1;33m**\u001b[0m\u001b[0mkwds\u001b[0m\u001b[1;33m)\u001b[0m\u001b[1;33m\u001b[0m\u001b[1;33m\u001b[0m\u001b[0m\n\u001b[0m\u001b[0;32m    955\u001b[0m       \u001b[1;32mif\u001b[0m \u001b[0mself\u001b[0m\u001b[1;33m.\u001b[0m\u001b[0m_created_variables\u001b[0m \u001b[1;32mand\u001b[0m \u001b[1;32mnot\u001b[0m \u001b[0mALLOW_DYNAMIC_VARIABLE_CREATION\u001b[0m\u001b[1;33m:\u001b[0m\u001b[1;33m\u001b[0m\u001b[1;33m\u001b[0m\u001b[0m\n\u001b[0;32m    956\u001b[0m         raise ValueError(\"Creating variables on a non-first call to a function\"\n",
      "\u001b[1;32mc:\\users\\gabriele.ferrario\\appdata\\local\\programs\\python\\python39\\lib\\site-packages\\tensorflow\\python\\eager\\function.py\u001b[0m in \u001b[0;36m__call__\u001b[1;34m(self, *args, **kwargs)\u001b[0m\n\u001b[0;32m   2954\u001b[0m       (graph_function,\n\u001b[0;32m   2955\u001b[0m        filtered_flat_args) = self._maybe_define_function(args, kwargs)\n\u001b[1;32m-> 2956\u001b[1;33m     return graph_function._call_flat(\n\u001b[0m\u001b[0;32m   2957\u001b[0m         filtered_flat_args, captured_inputs=graph_function.captured_inputs)  # pylint: disable=protected-access\n\u001b[0;32m   2958\u001b[0m \u001b[1;33m\u001b[0m\u001b[0m\n",
      "\u001b[1;32mc:\\users\\gabriele.ferrario\\appdata\\local\\programs\\python\\python39\\lib\\site-packages\\tensorflow\\python\\eager\\function.py\u001b[0m in \u001b[0;36m_call_flat\u001b[1;34m(self, args, captured_inputs, cancellation_manager)\u001b[0m\n\u001b[0;32m   1851\u001b[0m         and executing_eagerly):\n\u001b[0;32m   1852\u001b[0m       \u001b[1;31m# No tape is watching; skip to running the function.\u001b[0m\u001b[1;33m\u001b[0m\u001b[1;33m\u001b[0m\u001b[1;33m\u001b[0m\u001b[0m\n\u001b[1;32m-> 1853\u001b[1;33m       return self._build_call_outputs(self._inference_function.call(\n\u001b[0m\u001b[0;32m   1854\u001b[0m           ctx, args, cancellation_manager=cancellation_manager))\n\u001b[0;32m   1855\u001b[0m     forward_backward = self._select_forward_and_backward_functions(\n",
      "\u001b[1;32mc:\\users\\gabriele.ferrario\\appdata\\local\\programs\\python\\python39\\lib\\site-packages\\tensorflow\\python\\eager\\function.py\u001b[0m in \u001b[0;36mcall\u001b[1;34m(self, ctx, args, cancellation_manager)\u001b[0m\n\u001b[0;32m    497\u001b[0m       \u001b[1;32mwith\u001b[0m \u001b[0m_InterpolateFunctionError\u001b[0m\u001b[1;33m(\u001b[0m\u001b[0mself\u001b[0m\u001b[1;33m)\u001b[0m\u001b[1;33m:\u001b[0m\u001b[1;33m\u001b[0m\u001b[1;33m\u001b[0m\u001b[0m\n\u001b[0;32m    498\u001b[0m         \u001b[1;32mif\u001b[0m \u001b[0mcancellation_manager\u001b[0m \u001b[1;32mis\u001b[0m \u001b[1;32mNone\u001b[0m\u001b[1;33m:\u001b[0m\u001b[1;33m\u001b[0m\u001b[1;33m\u001b[0m\u001b[0m\n\u001b[1;32m--> 499\u001b[1;33m           outputs = execute.execute(\n\u001b[0m\u001b[0;32m    500\u001b[0m               \u001b[0mstr\u001b[0m\u001b[1;33m(\u001b[0m\u001b[0mself\u001b[0m\u001b[1;33m.\u001b[0m\u001b[0msignature\u001b[0m\u001b[1;33m.\u001b[0m\u001b[0mname\u001b[0m\u001b[1;33m)\u001b[0m\u001b[1;33m,\u001b[0m\u001b[1;33m\u001b[0m\u001b[1;33m\u001b[0m\u001b[0m\n\u001b[0;32m    501\u001b[0m               \u001b[0mnum_outputs\u001b[0m\u001b[1;33m=\u001b[0m\u001b[0mself\u001b[0m\u001b[1;33m.\u001b[0m\u001b[0m_num_outputs\u001b[0m\u001b[1;33m,\u001b[0m\u001b[1;33m\u001b[0m\u001b[1;33m\u001b[0m\u001b[0m\n",
      "\u001b[1;32mc:\\users\\gabriele.ferrario\\appdata\\local\\programs\\python\\python39\\lib\\site-packages\\tensorflow\\python\\eager\\execute.py\u001b[0m in \u001b[0;36mquick_execute\u001b[1;34m(op_name, num_outputs, inputs, attrs, ctx, name)\u001b[0m\n\u001b[0;32m     52\u001b[0m   \u001b[1;32mtry\u001b[0m\u001b[1;33m:\u001b[0m\u001b[1;33m\u001b[0m\u001b[1;33m\u001b[0m\u001b[0m\n\u001b[0;32m     53\u001b[0m     \u001b[0mctx\u001b[0m\u001b[1;33m.\u001b[0m\u001b[0mensure_initialized\u001b[0m\u001b[1;33m(\u001b[0m\u001b[1;33m)\u001b[0m\u001b[1;33m\u001b[0m\u001b[1;33m\u001b[0m\u001b[0m\n\u001b[1;32m---> 54\u001b[1;33m     tensors = pywrap_tfe.TFE_Py_Execute(ctx._handle, device_name, op_name,\n\u001b[0m\u001b[0;32m     55\u001b[0m                                         inputs, attrs, num_outputs)\n\u001b[0;32m     56\u001b[0m   \u001b[1;32mexcept\u001b[0m \u001b[0mcore\u001b[0m\u001b[1;33m.\u001b[0m\u001b[0m_NotOkStatusException\u001b[0m \u001b[1;32mas\u001b[0m \u001b[0me\u001b[0m\u001b[1;33m:\u001b[0m\u001b[1;33m\u001b[0m\u001b[1;33m\u001b[0m\u001b[0m\n",
      "\u001b[1;31mKeyboardInterrupt\u001b[0m: "
     ]
    }
   ],
   "source": [
    "tot_similarity_test2 = 0\n",
    "count_sim_test2 = 0\n",
    "for i in tqdm(range(len(full_segmentation[:100]))):\n",
    "    img = str(full_detection.iloc[0][\"id\"])+\".jpg\"\n",
    "    im_cv2 = cv2.imread(\"../datasets/flickr30k_images/train/\"+img)\n",
    "\n",
    "    for row_dect in tqdm(full_detection.iloc[i][\"label\"]):\n",
    "        x,y,w,h = tuple(row_dect[\"rect\"])\n",
    "\n",
    "        ROI = im_cv2[int(y):int(h), int(x):int(w)]\n",
    "        if ROI.shape[0]*ROI.shape[1] > 0:\n",
    "            ROI_resized = cv2.resize(np.float32(ROI), (224, 224), interpolation = cv2.INTER_LINEAR)\n",
    "            img_data = image.img_to_array(ROI_resized)\n",
    "            img_data = np.expand_dims(img_data, axis=0)\n",
    "            img_data = preprocess_input(img_data)\n",
    "            feature = resnet.predict(img_data)\n",
    "            feature = feature.flatten()\n",
    "            row[\"feature_test\"] = feature"
   ]
  },
  {
   "cell_type": "code",
   "execution_count": 32,
   "id": "5572cdfc",
   "metadata": {},
   "outputs": [
    {
     "name": "stderr",
     "output_type": "stream",
     "text": [
      "100%|████████████████████████████████████████████████████████████████████████████████████████████████████████████████████████████████████| 100/100 [00:05<00:00, 18.55it/s]\n"
     ]
    }
   ],
   "source": [
    "tot_similarity_test2 = 0\n",
    "count_sim_test2 = 0\n",
    "tot_c = 0\n",
    "for i in tqdm(range(len(full_segmentation[:100]))):\n",
    "    img = str(full_detection.iloc[0][\"id\"])+\".jpg\"\n",
    "    im_cv2 = cv2.imread(\"../datasets/flickr30k_images/train/\"+img)\n",
    "\n",
    "    for row_seg in full_segmentation.iloc[i][\"label\"]:\n",
    "        for row_dect in full_detection.iloc[i][\"label\"]:\n",
    "            if 1 - spatial.distance.cosine(row_seg[\"rect\"], row_dect[\"rect\"]) > 0.998:\n",
    "                x,y,w,h = tuple(row_dect[\"rect\"])\n",
    "\n",
    "                ROI = im_cv2[int(y):int(h), int(x):int(w)]\n",
    "                if ROI.shape[0]*ROI.shape[1] > 0:\n",
    "                    #ROI_resized = cv2.resize(np.float32(ROI), (224, 224), interpolation = cv2.INTER_LINEAR)\n",
    "                    #img_data = image.img_to_array(ROI_resized)\n",
    "                    #img_data = np.expand_dims(img_data, axis=0)\n",
    "                    #img_data = preprocess_input(img_data)\n",
    "                    #feature = resnet.predict(img_data)\n",
    "                    #feature = feature.flatten()\n",
    "                    #tot_similarity_test2 += 1 - spatial.distance.cosine(row_seg[\"feature\"][:2048], feature)\n",
    "                    count_sim_test2 += 1\n",
    "                tot_c += 1"
   ]
  },
  {
   "cell_type": "code",
   "execution_count": 81,
   "id": "bc993923",
   "metadata": {},
   "outputs": [
    {
     "name": "stderr",
     "output_type": "stream",
     "text": [
      "100%|████████████████████████████████████████████████████████████████████████████████████████████████████████████████████████████████████| 100/100 [00:02<00:00, 35.15it/s]\n"
     ]
    }
   ],
   "source": [
    "tot_similarity_test2 = 0\n",
    "count_sim_test2 = 0\n",
    "tot_c = 0\n",
    "full_not_present = []\n",
    "for i in tqdm(range(len(full_detection))):    \n",
    "    not_present = []\n",
    "    for row_dect in full_detection.iloc[i][\"label\"]:\n",
    "        check = False\n",
    "        for row_seg in full_segmentation.iloc[i][\"label\"]:\n",
    "            if 1 - spatial.distance.cosine(row_seg[\"rect\"], row_dect[\"rect\"]) > 0.985:\n",
    "                check = True\n",
    "                break\n",
    "        if not check:\n",
    "            not_present.append(row_dect)\n",
    "    full_not_present.append(not_present)"
   ]
  },
  {
   "cell_type": "code",
   "execution_count": 50,
   "id": "8842a8b0",
   "metadata": {},
   "outputs": [
    {
     "data": {
      "text/plain": [
       "37"
      ]
     },
     "execution_count": 50,
     "metadata": {},
     "output_type": "execute_result"
    }
   ],
   "source": [
    "len(full_detection.iloc[0][\"label\"])"
   ]
  },
  {
   "cell_type": "code",
   "execution_count": 84,
   "id": "7ecd8ca4",
   "metadata": {
    "scrolled": true
   },
   "outputs": [
    {
     "data": {
      "text/plain": [
       "[{'class': 'Belt buckle',\n",
       "  'conf': 0.5350186228752136,\n",
       "  'rect': [217.0223846435547,\n",
       "   234.0861053466797,\n",
       "   223.67523193359375,\n",
       "   240.3889923095703],\n",
       "  'feature': array([2.956 , 0.    , 0.    , ..., 0.4808, 0.0126, 0.02  ], dtype=float32),\n",
       "  'bbox_id': 0},\n",
       " {'class': 'Tree',\n",
       "  'conf': 0.8952938318252563,\n",
       "  'rect': [0, 0, 332, 421],\n",
       "  'feature': array([5.4538, 4.0191, 0.    , ..., 0.842 , 0.842 , 0.997 ], dtype=float32),\n",
       "  'bbox_id': 1},\n",
       " {'class': 'Sky',\n",
       "  'conf': 0.9932218790054321,\n",
       "  'rect': [175, 0, 300, 57],\n",
       "  'feature': array([ 3.0832, 22.0566,  1.2089, ...,  0.114 ,  0.114 ,  0.3754],\n",
       "        dtype=float32),\n",
       "  'bbox_id': 2},\n",
       " {'class': 'Person',\n",
       "  'conf': 0.9997443556785583,\n",
       "  'rect': [162, 112, 257, 365],\n",
       "  'feature': array([0.735 , 1.7667, 5.8864, ..., 0.73  , 0.506 , 0.2853], dtype=float32),\n",
       "  'bbox_id': 3},\n",
       " {'class': 'Person',\n",
       "  'conf': 0.996145486831665,\n",
       "  'rect': [165, 123, 214, 333],\n",
       "  'feature': array([1.9702, 6.9486, 0.4648, ..., 0.666 , 0.42  , 0.1471], dtype=float32),\n",
       "  'bbox_id': 4},\n",
       " {'class': 'Grass',\n",
       "  'conf': 0.9679450988769531,\n",
       "  'rect': [0, 365, 332, 499],\n",
       "  'feature': array([0.3997, 8.8439, 7.3527, ..., 0.998 , 0.268 , 0.997 ], dtype=float32),\n",
       "  'bbox_id': 5},\n",
       " {'class': 'Dirt',\n",
       "  'conf': 0.9469869136810303,\n",
       "  'rect': [139, 301, 332, 412],\n",
       "  'feature': array([ 2.5159, 26.9286,  5.788 , ...,  0.824 ,  0.222 ,  0.5796],\n",
       "        dtype=float32),\n",
       "  'bbox_id': 6}]"
      ]
     },
     "execution_count": 84,
     "metadata": {},
     "output_type": "execute_result"
    }
   ],
   "source": [
    "full_segmentation.iloc[0][\"label\"]"
   ]
  },
  {
   "cell_type": "code",
   "execution_count": 82,
   "id": "2c4b461d",
   "metadata": {},
   "outputs": [
    {
     "data": {
      "text/plain": [
       "18"
      ]
     },
     "execution_count": 82,
     "metadata": {},
     "output_type": "execute_result"
    }
   ],
   "source": [
    "len(full_not_present[0])"
   ]
  },
  {
   "cell_type": "code",
   "execution_count": 83,
   "id": "29cf176c",
   "metadata": {},
   "outputs": [
    {
     "data": {
      "text/plain": [
       "[{'class': 'Bush',\n",
       "  'conf': 0.8409668207168579,\n",
       "  'rect': [0.0, 216.70770263671875, 151.86502075195312, 387.5498046875],\n",
       "  'feature': array([0.0293, 1.6005, 0.    , ..., 0.7751, 0.3417, 0.4561], dtype=float32),\n",
       "  'bbox_id': 0,\n",
       "  'feature_estratte': array([5.3435, 0.    , 0.    , ..., 0.5898, 0.3866, 0.3831], dtype=float32)},\n",
       " {'class': 'Shirt',\n",
       "  'conf': 0.8219393491744995,\n",
       "  'rect': [206.0119171142578,\n",
       "   146.23992919921875,\n",
       "   257.36871337890625,\n",
       "   242.8354034423828],\n",
       "  'feature': array([0.0042, 0.    , 0.    , ..., 0.4857, 0.1932, 0.1542], dtype=float32),\n",
       "  'bbox_id': 2,\n",
       "  'feature_estratte': array([ 2.5183, 10.739 ,  1.0527, ...,  2.6162,  7.1781,  4.8053],\n",
       "        dtype=float32)},\n",
       " {'class': 'Hair',\n",
       "  'conf': 0.7583618760108948,\n",
       "  'rect': [197.89041137695312,\n",
       "   111.39276123046875,\n",
       "   236.45010375976562,\n",
       "   145.28573608398438],\n",
       "  'feature': array([0.074 , 0.    , 0.    , ..., 0.2906, 0.0678, 0.1158], dtype=float32),\n",
       "  'bbox_id': 5,\n",
       "  'feature_estratte': array([15.2238,  5.9507,  4.1297, ...,  2.5159,  1.3195,  2.8202],\n",
       "        dtype=float32)},\n",
       " {'class': 'Bush',\n",
       "  'conf': 0.6685299277305603,\n",
       "  'rect': [259.5850830078125,\n",
       "   212.35826110839844,\n",
       "   332.44500732421875,\n",
       "   349.40606689453125],\n",
       "  'feature': array([1.9411, 3.1399, 0.    , ..., 0.6988, 0.2741, 0.2188], dtype=float32),\n",
       "  'bbox_id': 8,\n",
       "  'feature_estratte': array([1.251 , 0.    , 2.4905, ..., 0.    , 3.2546, 4.3821], dtype=float32)},\n",
       " {'class': 'Can',\n",
       "  'conf': 0.513809084892273,\n",
       "  'rect': [152.66952514648438,\n",
       "   313.8071594238281,\n",
       "   161.44960021972656,\n",
       "   331.7379150390625],\n",
       "  'feature': array([1.1426, 0.    , 0.    , ..., 0.6635, 0.0359, 0.0264], dtype=float32),\n",
       "  'bbox_id': 16},\n",
       " {'class': 'Head',\n",
       "  'conf': 0.4631790518760681,\n",
       "  'rect': [196.42262268066406,\n",
       "   112.27932739257812,\n",
       "   235.4471893310547,\n",
       "   156.87283325195312],\n",
       "  'feature': array([0.0682, 0.    , 0.    , ..., 0.3137, 0.0892, 0.1172], dtype=float32),\n",
       "  'bbox_id': 18},\n",
       " {'class': 'Hair',\n",
       "  'conf': 0.4297909736633301,\n",
       "  'rect': [180.9910125732422,\n",
       "   122.28606414794922,\n",
       "   203.3503875732422,\n",
       "   158.57138061523438],\n",
       "  'feature': array([0.0315, 0.    , 0.    , ..., 0.3171, 0.0726, 0.0671], dtype=float32),\n",
       "  'bbox_id': 19},\n",
       " {'class': 'Shoe',\n",
       "  'conf': 0.42121729254722595,\n",
       "  'rect': [167.74868774414062,\n",
       "   314.35504150390625,\n",
       "   196.90078735351562,\n",
       "   328.8705749511719],\n",
       "  'feature': array([3.4059, 0.    , 0.0847, ..., 0.6577, 0.029 , 0.0875], dtype=float32),\n",
       "  'bbox_id': 20},\n",
       " {'class': 'Tree',\n",
       "  'conf': 0.39776843786239624,\n",
       "  'rect': [234.2777862548828,\n",
       "   11.29153823852539,\n",
       "   332.44500732421875,\n",
       "   325.1054382324219],\n",
       "  'feature': array([0.2351, 0.1789, 0.    , ..., 0.6502, 0.6276, 0.2948], dtype=float32),\n",
       "  'bbox_id': 21},\n",
       " {'class': 'Shoe',\n",
       "  'conf': 0.39539650082588196,\n",
       "  'rect': [213.4191436767578,\n",
       "   343.7758483886719,\n",
       "   236.96139526367188,\n",
       "   356.37445068359375],\n",
       "  'feature': array([0.9011, 0.    , 0.    , ..., 0.7127, 0.0252, 0.0707], dtype=float32),\n",
       "  'bbox_id': 22},\n",
       " {'class': 'Shadow',\n",
       "  'conf': 0.36270594596862793,\n",
       "  'rect': [145.54055786132812,\n",
       "   340.91851806640625,\n",
       "   215.3068389892578,\n",
       "   366.3031311035156],\n",
       "  'feature': array([21.1777,  0.    ,  0.    , ...,  0.7326,  0.0508,  0.2095],\n",
       "        dtype=float32),\n",
       "  'bbox_id': 25},\n",
       " {'class': 'Arm',\n",
       "  'conf': 0.35652968287467957,\n",
       "  'rect': [167.90826416015625,\n",
       "   161.5697784423828,\n",
       "   255.6490478515625,\n",
       "   219.17872619628906],\n",
       "  'feature': array([1.9611, 0.    , 0.    , ..., 0.4384, 0.1152, 0.2635], dtype=float32),\n",
       "  'bbox_id': 26},\n",
       " {'class': 'Bush',\n",
       "  'conf': 0.2935190200805664,\n",
       "  'rect': [227.04649353027344, 0.0, 331.4367370605469, 252.98655700683594],\n",
       "  'feature': array([0.    , 0.0805, 0.    , ..., 0.506 , 0.506 , 0.3135], dtype=float32),\n",
       "  'bbox_id': 27},\n",
       " {'class': 'Shoe',\n",
       "  'conf': 0.2771088182926178,\n",
       "  'rect': [192.21168518066406,\n",
       "   319.7844543457031,\n",
       "   224.26280212402344,\n",
       "   347.6910095214844],\n",
       "  'feature': array([3.4713, 0.    , 0.0633, ..., 0.6954, 0.0558, 0.0962], dtype=float32),\n",
       "  'bbox_id': 28},\n",
       " {'class': 'Cover',\n",
       "  'conf': 0.22222904860973358,\n",
       "  'rect': [257.8214416503906,\n",
       "   427.10980224609375,\n",
       "   322.0675964355469,\n",
       "   464.5697326660156],\n",
       "  'feature': array([0.0473, 0.    , 0.    , ..., 0.9291, 0.0749, 0.1929], dtype=float32),\n",
       "  'bbox_id': 32},\n",
       " {'class': 'Rock',\n",
       "  'conf': 0.21444524824619293,\n",
       "  'rect': [213.27825927734375,\n",
       "   375.5159606933594,\n",
       "   280.2037048339844,\n",
       "   403.5498352050781],\n",
       "  'feature': array([0.6598, 0.    , 0.    , ..., 0.8071, 0.0561, 0.201 ], dtype=float32),\n",
       "  'bbox_id': 34},\n",
       " {'class': 'Tshirt',\n",
       "  'conf': 0.20642384886741638,\n",
       "  'rect': [184.83221435546875,\n",
       "   146.67568969726562,\n",
       "   256.769775390625,\n",
       "   235.5723876953125],\n",
       "  'feature': array([0.5534, 0.    , 0.    , ..., 0.4711, 0.1778, 0.216 ], dtype=float32),\n",
       "  'bbox_id': 35},\n",
       " {'class': 'House',\n",
       "  'conf': 0.20340241491794586,\n",
       "  'rect': [99.38433074951172,\n",
       "   65.45481872558594,\n",
       "   280.44390869140625,\n",
       "   428.5339660644531],\n",
       "  'feature': array([2.9375, 1.4254, 0.    , ..., 0.8571, 0.7262, 0.5437], dtype=float32),\n",
       "  'bbox_id': 36}]"
      ]
     },
     "execution_count": 83,
     "metadata": {},
     "output_type": "execute_result"
    }
   ],
   "source": [
    "full_not_present[0]"
   ]
  },
  {
   "cell_type": "code",
   "execution_count": 37,
   "id": "b99a5cc3",
   "metadata": {},
   "outputs": [
    {
     "data": {
      "text/html": [
       "<div>\n",
       "<style scoped>\n",
       "    .dataframe tbody tr th:only-of-type {\n",
       "        vertical-align: middle;\n",
       "    }\n",
       "\n",
       "    .dataframe tbody tr th {\n",
       "        vertical-align: top;\n",
       "    }\n",
       "\n",
       "    .dataframe thead th {\n",
       "        text-align: right;\n",
       "    }\n",
       "</style>\n",
       "<table border=\"1\" class=\"dataframe\">\n",
       "  <thead>\n",
       "    <tr style=\"text-align: right;\">\n",
       "      <th></th>\n",
       "      <th>id</th>\n",
       "      <th>features</th>\n",
       "      <th>label</th>\n",
       "    </tr>\n",
       "  </thead>\n",
       "  <tbody>\n",
       "    <tr>\n",
       "      <th>0</th>\n",
       "      <td>1000092795</td>\n",
       "      <td>{'features': 'FUTwPG3ezD8AAAAAAAAAAKR5DEAAAAAA...</td>\n",
       "      <td>[{'class': 'Bush', 'conf': 0.8409668207168579,...</td>\n",
       "    </tr>\n",
       "    <tr>\n",
       "      <th>1</th>\n",
       "      <td>10002456</td>\n",
       "      <td>{'features': 'AAAAAGPqez4AAAAACHhsPigtHz/J+MI/...</td>\n",
       "      <td>[{'class': 'Sky', 'conf': 0.7663399577140808, ...</td>\n",
       "    </tr>\n",
       "    <tr>\n",
       "      <th>2</th>\n",
       "      <td>1000268201</td>\n",
       "      <td>{'features': 'RcyMPgAAAAAAAAAAIrObQAAAAAAAAAAA...</td>\n",
       "      <td>[{'class': 'Dress', 'conf': 0.9922232031822205...</td>\n",
       "    </tr>\n",
       "    <tr>\n",
       "      <th>3</th>\n",
       "      <td>1000344755</td>\n",
       "      <td>{'features': 'R/6JPkusXj/A7KA/AAAAAAAAAAAAAAAA...</td>\n",
       "      <td>[{'class': 'Man', 'conf': 0.9483818411827087, ...</td>\n",
       "    </tr>\n",
       "    <tr>\n",
       "      <th>4</th>\n",
       "      <td>1000366164</td>\n",
       "      <td>{'features': 'AAAAAAAAAAAAAAAAAAAAABVWmz0AAAAA...</td>\n",
       "      <td>[{'class': 'Glasses', 'conf': 0.96930736303329...</td>\n",
       "    </tr>\n",
       "    <tr>\n",
       "      <th>...</th>\n",
       "      <td>...</td>\n",
       "      <td>...</td>\n",
       "      <td>...</td>\n",
       "    </tr>\n",
       "    <tr>\n",
       "      <th>28995</th>\n",
       "      <td>997338199</td>\n",
       "      <td>{'features': 's9yMPgAAAAAAAAAAWzh9P5uqOEAAAAAA...</td>\n",
       "      <td>[{'class': 'Hair', 'conf': 0.7632176876068115,...</td>\n",
       "    </tr>\n",
       "    <tr>\n",
       "      <th>28996</th>\n",
       "      <td>997722733</td>\n",
       "      <td>{'features': 'N7IGQElTrj0AAAAAxUgmPkTlSD8AAAAA...</td>\n",
       "      <td>[{'class': 'Man', 'conf': 0.9461695551872253, ...</td>\n",
       "    </tr>\n",
       "    <tr>\n",
       "      <th>28997</th>\n",
       "      <td>997876722</td>\n",
       "      <td>{'features': 'AAAAAF9gpD8AAAAAubgjPQAAAAAAAAAA...</td>\n",
       "      <td>[{'class': 'Tomato', 'conf': 0.910000860691070...</td>\n",
       "    </tr>\n",
       "    <tr>\n",
       "      <th>28998</th>\n",
       "      <td>99804383</td>\n",
       "      <td>{'features': 'iGkyPi+yeT0AAAAAMgceQHxPhDwAAAAA...</td>\n",
       "      <td>[{'class': 'Shirt', 'conf': 0.9361402988433838...</td>\n",
       "    </tr>\n",
       "    <tr>\n",
       "      <th>28999</th>\n",
       "      <td>998845445</td>\n",
       "      <td>{'features': 'Cb6/PQAAAAAAAAAAAAAAAHNGfDsAAAAA...</td>\n",
       "      <td>[{'class': 'Boat', 'conf': 0.9751038551330566,...</td>\n",
       "    </tr>\n",
       "  </tbody>\n",
       "</table>\n",
       "<p>29000 rows × 3 columns</p>\n",
       "</div>"
      ],
      "text/plain": [
       "               id                                           features  \\\n",
       "0      1000092795  {'features': 'FUTwPG3ezD8AAAAAAAAAAKR5DEAAAAAA...   \n",
       "1        10002456  {'features': 'AAAAAGPqez4AAAAACHhsPigtHz/J+MI/...   \n",
       "2      1000268201  {'features': 'RcyMPgAAAAAAAAAAIrObQAAAAAAAAAAA...   \n",
       "3      1000344755  {'features': 'R/6JPkusXj/A7KA/AAAAAAAAAAAAAAAA...   \n",
       "4      1000366164  {'features': 'AAAAAAAAAAAAAAAAAAAAABVWmz0AAAAA...   \n",
       "...           ...                                                ...   \n",
       "28995   997338199  {'features': 's9yMPgAAAAAAAAAAWzh9P5uqOEAAAAAA...   \n",
       "28996   997722733  {'features': 'N7IGQElTrj0AAAAAxUgmPkTlSD8AAAAA...   \n",
       "28997   997876722  {'features': 'AAAAAF9gpD8AAAAAubgjPQAAAAAAAAAA...   \n",
       "28998    99804383  {'features': 'iGkyPi+yeT0AAAAAMgceQHxPhDwAAAAA...   \n",
       "28999   998845445  {'features': 'Cb6/PQAAAAAAAAAAAAAAAHNGfDsAAAAA...   \n",
       "\n",
       "                                                   label  \n",
       "0      [{'class': 'Bush', 'conf': 0.8409668207168579,...  \n",
       "1      [{'class': 'Sky', 'conf': 0.7663399577140808, ...  \n",
       "2      [{'class': 'Dress', 'conf': 0.9922232031822205...  \n",
       "3      [{'class': 'Man', 'conf': 0.9483818411827087, ...  \n",
       "4      [{'class': 'Glasses', 'conf': 0.96930736303329...  \n",
       "...                                                  ...  \n",
       "28995  [{'class': 'Hair', 'conf': 0.7632176876068115,...  \n",
       "28996  [{'class': 'Man', 'conf': 0.9461695551872253, ...  \n",
       "28997  [{'class': 'Tomato', 'conf': 0.910000860691070...  \n",
       "28998  [{'class': 'Shirt', 'conf': 0.9361402988433838...  \n",
       "28999  [{'class': 'Boat', 'conf': 0.9751038551330566,...  \n",
       "\n",
       "[29000 rows x 3 columns]"
      ]
     },
     "execution_count": 37,
     "metadata": {},
     "output_type": "execute_result"
    }
   ],
   "source": [
    "full_detection"
   ]
  },
  {
   "cell_type": "code",
   "execution_count": 35,
   "id": "2b2b552b",
   "metadata": {},
   "outputs": [
    {
     "data": {
      "text/plain": [
       "[{'class': 'Belt buckle',\n",
       "  'conf': 0.5350186228752136,\n",
       "  'rect': [217.0223846435547,\n",
       "   234.0861053466797,\n",
       "   223.67523193359375,\n",
       "   240.3889923095703],\n",
       "  'feature': array([2.956 , 0.    , 0.    , ..., 0.4808, 0.0126, 0.02  ], dtype=float32),\n",
       "  'bbox_id': 0},\n",
       " {'class': 'Tree',\n",
       "  'conf': 0.8952938318252563,\n",
       "  'rect': [0, 0, 332, 421],\n",
       "  'feature': array([5.4538, 4.0191, 0.    , ..., 0.842 , 0.842 , 0.997 ], dtype=float32),\n",
       "  'bbox_id': 1},\n",
       " {'class': 'Sky',\n",
       "  'conf': 0.9932218790054321,\n",
       "  'rect': [175, 0, 300, 57],\n",
       "  'feature': array([ 3.0832, 22.0566,  1.2089, ...,  0.114 ,  0.114 ,  0.3754],\n",
       "        dtype=float32),\n",
       "  'bbox_id': 2},\n",
       " {'class': 'Person',\n",
       "  'conf': 0.9997443556785583,\n",
       "  'rect': [162, 112, 257, 365],\n",
       "  'feature': array([0.735 , 1.7667, 5.8864, ..., 0.73  , 0.506 , 0.2853], dtype=float32),\n",
       "  'bbox_id': 3},\n",
       " {'class': 'Person',\n",
       "  'conf': 0.996145486831665,\n",
       "  'rect': [165, 123, 214, 333],\n",
       "  'feature': array([1.9702, 6.9486, 0.4648, ..., 0.666 , 0.42  , 0.1471], dtype=float32),\n",
       "  'bbox_id': 4},\n",
       " {'class': 'Grass',\n",
       "  'conf': 0.9679450988769531,\n",
       "  'rect': [0, 365, 332, 499],\n",
       "  'feature': array([0.3997, 8.8439, 7.3527, ..., 0.998 , 0.268 , 0.997 ], dtype=float32),\n",
       "  'bbox_id': 5},\n",
       " {'class': 'Dirt',\n",
       "  'conf': 0.9469869136810303,\n",
       "  'rect': [139, 301, 332, 412],\n",
       "  'feature': array([ 2.5159, 26.9286,  5.788 , ...,  0.824 ,  0.222 ,  0.5796],\n",
       "        dtype=float32),\n",
       "  'bbox_id': 6}]"
      ]
     },
     "execution_count": 35,
     "metadata": {},
     "output_type": "execute_result"
    }
   ],
   "source": [
    "full_segmentation.iloc[0][\"label\"]"
   ]
  },
  {
   "cell_type": "code",
   "execution_count": 26,
   "id": "528bbb8e",
   "metadata": {},
   "outputs": [
    {
     "data": {
      "text/plain": [
       "0"
      ]
     },
     "execution_count": 26,
     "metadata": {},
     "output_type": "execute_result"
    }
   ],
   "source": [
    "tot_similarity_test2"
   ]
  },
  {
   "cell_type": "code",
   "execution_count": 33,
   "id": "e943c7f6",
   "metadata": {},
   "outputs": [
    {
     "data": {
      "text/plain": [
       "1594"
      ]
     },
     "execution_count": 33,
     "metadata": {},
     "output_type": "execute_result"
    }
   ],
   "source": [
    "count_sim_test2"
   ]
  },
  {
   "cell_type": "code",
   "execution_count": 34,
   "id": "745f9fe6",
   "metadata": {},
   "outputs": [
    {
     "data": {
      "text/plain": [
       "1594"
      ]
     },
     "execution_count": 34,
     "metadata": {},
     "output_type": "execute_result"
    }
   ],
   "source": [
    "tot_c"
   ]
  },
  {
   "cell_type": "code",
   "execution_count": null,
   "id": "f2e3ee28",
   "metadata": {},
   "outputs": [],
   "source": [
    "tot_similarity_test2 / count_sim_test2"
   ]
  },
  {
   "cell_type": "code",
   "execution_count": null,
   "id": "f7dfa520",
   "metadata": {},
   "outputs": [],
   "source": []
  },
  {
   "cell_type": "code",
   "execution_count": null,
   "id": "80c62741",
   "metadata": {},
   "outputs": [],
   "source": [
    "ROI_resized = cv2.resize(np.float32(ROI), (224, 224), interpolation = cv2.INTER_LINEAR)\n",
    "img_data = image.img_to_array(ROI_resized)\n",
    "img_data = np.expand_dims(img_data, axis=0)\n",
    "img_data = preprocess_input(img_data)\n",
    "feature = resnet.predict(img_data)\n",
    "feature = feature.flatten()\n",
    "len(feature)"
   ]
  },
  {
   "cell_type": "code",
   "execution_count": 100,
   "id": "b43d3022",
   "metadata": {},
   "outputs": [
    {
     "data": {
      "text/plain": [
       "0.320299357175827"
      ]
     },
     "execution_count": 100,
     "metadata": {},
     "output_type": "execute_result"
    }
   ],
   "source": [
    "1 - spatial.distance.cosine(full_detection.iloc[0][\"label\"][3][\"feature\"][:2048], feature) # segmentation"
   ]
  },
  {
   "cell_type": "code",
   "execution_count": 96,
   "id": "943ff111",
   "metadata": {},
   "outputs": [
    {
     "data": {
      "text/plain": [
       "0.3323040008544922"
      ]
     },
     "execution_count": 96,
     "metadata": {},
     "output_type": "execute_result"
    }
   ],
   "source": [
    "1 - spatial.distance.cosine(full_detection.iloc[0][\"label\"][3][\"feature\"][:2048], feature) # detection"
   ]
  }
 ],
 "metadata": {
  "kernelspec": {
   "display_name": "Python 3 (ipykernel)",
   "language": "python",
   "name": "python3"
  },
  "language_info": {
   "codemirror_mode": {
    "name": "ipython",
    "version": 3
   },
   "file_extension": ".py",
   "mimetype": "text/x-python",
   "name": "python",
   "nbconvert_exporter": "python",
   "pygments_lexer": "ipython3",
   "version": "3.9.4"
  }
 },
 "nbformat": 4,
 "nbformat_minor": 5
}
