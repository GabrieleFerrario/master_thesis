{
 "cells": [
  {
   "cell_type": "code",
   "execution_count": 1,
   "id": "e7c94438",
   "metadata": {},
   "outputs": [],
   "source": [
    "import pandas as pd\n",
    "import ast\n",
    "import json\n",
    "import base64\n",
    "import numpy as np\n",
    "import os\n",
    "import cv2, random\n",
    "np.set_printoptions(suppress=True, precision=4)\n",
    "from scipy import spatial\n",
    "import numpy as np\n",
    "import yaml\n",
    "import os.path as op\n",
    "from tqdm import tqdm\n",
    "import nltk\n",
    "from nltk.corpus import wordnet\n",
    "tqdm.pandas()"
   ]
  },
  {
   "cell_type": "markdown",
   "id": "eb0f35ac",
   "metadata": {},
   "source": [
    "### Features Detection"
   ]
  },
  {
   "cell_type": "code",
   "execution_count": 26,
   "id": "26fd27c5",
   "metadata": {},
   "outputs": [],
   "source": [
    "sg_tsv = './training_detection/train.feature.tsv'\n",
    "df_feature_detection = pd.read_csv(sg_tsv,sep='\\t',header = None, converters={1:json.loads}, skiprows = 20000, nrows = 10000)\n",
    "df_feature_detection = df_feature_detection.rename(columns={0: \"id\", 1: \"features\"})"
   ]
  },
  {
   "cell_type": "code",
   "execution_count": 27,
   "id": "a9ed5c11",
   "metadata": {},
   "outputs": [],
   "source": [
    "sg_tsv = './training_detection/train.label.tsv'\n",
    "df_label_detection = pd.read_csv(sg_tsv,sep='\\t',header = None, converters={1:json.loads}, skiprows = 20000, nrows = 10000)\n",
    "df_label_detection=df_label_detection.rename(columns={0: \"id\", 1: \"label\"})\n",
    "#df_label_detection"
   ]
  },
  {
   "cell_type": "code",
   "execution_count": 28,
   "id": "1db4a670",
   "metadata": {},
   "outputs": [
    {
     "data": {
      "text/plain": [
       "True"
      ]
     },
     "execution_count": 28,
     "metadata": {},
     "output_type": "execute_result"
    }
   ],
   "source": [
    "np.all(df_label_detection[\"id\"].values == df_feature_detection[\"id\"].values)"
   ]
  },
  {
   "cell_type": "code",
   "execution_count": 29,
   "id": "78a8d2ac",
   "metadata": {},
   "outputs": [
    {
     "data": {
      "text/html": [
       "<div>\n",
       "<style scoped>\n",
       "    .dataframe tbody tr th:only-of-type {\n",
       "        vertical-align: middle;\n",
       "    }\n",
       "\n",
       "    .dataframe tbody tr th {\n",
       "        vertical-align: top;\n",
       "    }\n",
       "\n",
       "    .dataframe thead th {\n",
       "        text-align: right;\n",
       "    }\n",
       "</style>\n",
       "<table border=\"1\" class=\"dataframe\">\n",
       "  <thead>\n",
       "    <tr style=\"text-align: right;\">\n",
       "      <th></th>\n",
       "      <th>id</th>\n",
       "      <th>features</th>\n",
       "      <th>label</th>\n",
       "    </tr>\n",
       "  </thead>\n",
       "  <tbody>\n",
       "    <tr>\n",
       "      <th>0</th>\n",
       "      <td>4679648220</td>\n",
       "      <td>{'features': 'AAAAAAAAAAAAAAAA8JoNP85JNT4AAAAA...</td>\n",
       "      <td>[{'class': 'Belt', 'conf': 0.9678944945335388,...</td>\n",
       "    </tr>\n",
       "    <tr>\n",
       "      <th>1</th>\n",
       "      <td>4679736464</td>\n",
       "      <td>{'features': 'AAAAAAAAAAAAAAAAhkdEPwAAAABIoKs+...</td>\n",
       "      <td>[{'class': 'Face', 'conf': 0.923794686794281, ...</td>\n",
       "    </tr>\n",
       "    <tr>\n",
       "      <th>2</th>\n",
       "      <td>4679761535</td>\n",
       "      <td>{'features': 'WYDnPwAAAAAAAAAAsZG9QHhGVz0AAAAA...</td>\n",
       "      <td>[{'class': 'Dress', 'conf': 0.9395199418067932...</td>\n",
       "    </tr>\n",
       "    <tr>\n",
       "      <th>3</th>\n",
       "      <td>4679771579</td>\n",
       "      <td>{'features': 'AAAAAFNwhDwAAAAAjzkOQQAAAAB5x4Q/...</td>\n",
       "      <td>[{'class': 'Train', 'conf': 0.9594755172729492...</td>\n",
       "    </tr>\n",
       "    <tr>\n",
       "      <th>4</th>\n",
       "      <td>4679881654</td>\n",
       "      <td>{'features': 'AAAAAAAAAAAAAAAACVxNPQAAAAB6Y/w9...</td>\n",
       "      <td>[{'class': 'Belt', 'conf': 0.9516404867172241,...</td>\n",
       "    </tr>\n",
       "    <tr>\n",
       "      <th>...</th>\n",
       "      <td>...</td>\n",
       "      <td>...</td>\n",
       "      <td>...</td>\n",
       "    </tr>\n",
       "    <tr>\n",
       "      <th>8995</th>\n",
       "      <td>997338199</td>\n",
       "      <td>{'features': 's9yMPgAAAAAAAAAAWzh9P5uqOEAAAAAA...</td>\n",
       "      <td>[{'class': 'Hair', 'conf': 0.7632176876068115,...</td>\n",
       "    </tr>\n",
       "    <tr>\n",
       "      <th>8996</th>\n",
       "      <td>997722733</td>\n",
       "      <td>{'features': 'N7IGQElTrj0AAAAAxUgmPkTlSD8AAAAA...</td>\n",
       "      <td>[{'class': 'Man', 'conf': 0.9461695551872253, ...</td>\n",
       "    </tr>\n",
       "    <tr>\n",
       "      <th>8997</th>\n",
       "      <td>997876722</td>\n",
       "      <td>{'features': 'AAAAAF9gpD8AAAAAubgjPQAAAAAAAAAA...</td>\n",
       "      <td>[{'class': 'Tomato', 'conf': 0.910000860691070...</td>\n",
       "    </tr>\n",
       "    <tr>\n",
       "      <th>8998</th>\n",
       "      <td>99804383</td>\n",
       "      <td>{'features': 'iGkyPi+yeT0AAAAAMgceQHxPhDwAAAAA...</td>\n",
       "      <td>[{'class': 'Shirt', 'conf': 0.9361402988433838...</td>\n",
       "    </tr>\n",
       "    <tr>\n",
       "      <th>8999</th>\n",
       "      <td>998845445</td>\n",
       "      <td>{'features': 'Cb6/PQAAAAAAAAAAAAAAAHNGfDsAAAAA...</td>\n",
       "      <td>[{'class': 'Boat', 'conf': 0.9751038551330566,...</td>\n",
       "    </tr>\n",
       "  </tbody>\n",
       "</table>\n",
       "<p>9000 rows × 3 columns</p>\n",
       "</div>"
      ],
      "text/plain": [
       "              id                                           features  \\\n",
       "0     4679648220  {'features': 'AAAAAAAAAAAAAAAA8JoNP85JNT4AAAAA...   \n",
       "1     4679736464  {'features': 'AAAAAAAAAAAAAAAAhkdEPwAAAABIoKs+...   \n",
       "2     4679761535  {'features': 'WYDnPwAAAAAAAAAAsZG9QHhGVz0AAAAA...   \n",
       "3     4679771579  {'features': 'AAAAAFNwhDwAAAAAjzkOQQAAAAB5x4Q/...   \n",
       "4     4679881654  {'features': 'AAAAAAAAAAAAAAAACVxNPQAAAAB6Y/w9...   \n",
       "...          ...                                                ...   \n",
       "8995   997338199  {'features': 's9yMPgAAAAAAAAAAWzh9P5uqOEAAAAAA...   \n",
       "8996   997722733  {'features': 'N7IGQElTrj0AAAAAxUgmPkTlSD8AAAAA...   \n",
       "8997   997876722  {'features': 'AAAAAF9gpD8AAAAAubgjPQAAAAAAAAAA...   \n",
       "8998    99804383  {'features': 'iGkyPi+yeT0AAAAAMgceQHxPhDwAAAAA...   \n",
       "8999   998845445  {'features': 'Cb6/PQAAAAAAAAAAAAAAAHNGfDsAAAAA...   \n",
       "\n",
       "                                                  label  \n",
       "0     [{'class': 'Belt', 'conf': 0.9678944945335388,...  \n",
       "1     [{'class': 'Face', 'conf': 0.923794686794281, ...  \n",
       "2     [{'class': 'Dress', 'conf': 0.9395199418067932...  \n",
       "3     [{'class': 'Train', 'conf': 0.9594755172729492...  \n",
       "4     [{'class': 'Belt', 'conf': 0.9516404867172241,...  \n",
       "...                                                 ...  \n",
       "8995  [{'class': 'Hair', 'conf': 0.7632176876068115,...  \n",
       "8996  [{'class': 'Man', 'conf': 0.9461695551872253, ...  \n",
       "8997  [{'class': 'Tomato', 'conf': 0.910000860691070...  \n",
       "8998  [{'class': 'Shirt', 'conf': 0.9361402988433838...  \n",
       "8999  [{'class': 'Boat', 'conf': 0.9751038551330566,...  \n",
       "\n",
       "[9000 rows x 3 columns]"
      ]
     },
     "execution_count": 29,
     "metadata": {},
     "output_type": "execute_result"
    }
   ],
   "source": [
    "full_detection = pd.merge(df_feature_detection, df_label_detection, on=\"id\")\n",
    "full_detection"
   ]
  },
  {
   "cell_type": "code",
   "execution_count": 30,
   "id": "e42c5f28",
   "metadata": {},
   "outputs": [
    {
     "name": "stderr",
     "output_type": "stream",
     "text": [
      "9000it [01:10, 127.52it/s]\n"
     ]
    }
   ],
   "source": [
    "from tqdm import tqdm\n",
    "bbox_id = 0\n",
    "for index, row in tqdm(full_detection.iterrows()):\n",
    "    list_features = np.split(np.frombuffer(base64.b64decode(row[\"features\"][\"features\"]), np.float32), row[\"features\"][\"num_boxes\"])\n",
    "    for i in range(row[\"features\"][\"num_boxes\"]):\n",
    "        row[\"label\"][i][\"feature\"] = list_features[i]\n",
    "        row[\"label\"][i][\"bbox_id\"] = bbox_id\n",
    "        bbox_id+=1"
   ]
  },
  {
   "cell_type": "markdown",
   "id": "3df2c686",
   "metadata": {},
   "source": [
    "### Features Segmentation"
   ]
  },
  {
   "cell_type": "code",
   "execution_count": 31,
   "id": "ae51d49d",
   "metadata": {},
   "outputs": [],
   "source": [
    "sg_tsv = './features_test1/training/train.feature.tsv'\n",
    "df_feature_segmentation = pd.read_csv(sg_tsv,sep='\\t',header = None, converters={1:json.loads}, skiprows = 20000, nrows = 10000)\n",
    "df_feature_segmentation = df_feature_segmentation.rename(columns={0: \"id\", 1: \"features\"})"
   ]
  },
  {
   "cell_type": "code",
   "execution_count": 32,
   "id": "5644dcd5",
   "metadata": {},
   "outputs": [],
   "source": [
    "sg_tsv = './features_test1/training/train.label.tsv'\n",
    "df_label_segmentation = pd.read_csv(sg_tsv,sep='\\t',header = None, converters={1:json.loads}, skiprows = 20000, nrows = 10000)\n",
    "df_label_segmentation = df_label_segmentation.rename(columns={0: \"id\", 1: \"label\"})\n",
    "#df_label_segmentation"
   ]
  },
  {
   "cell_type": "code",
   "execution_count": 33,
   "id": "73ab12d3",
   "metadata": {},
   "outputs": [
    {
     "data": {
      "text/plain": [
       "True"
      ]
     },
     "execution_count": 33,
     "metadata": {},
     "output_type": "execute_result"
    }
   ],
   "source": [
    "np.all(df_feature_segmentation[\"id\"].values == df_label_segmentation[\"id\"].values)"
   ]
  },
  {
   "cell_type": "code",
   "execution_count": 34,
   "id": "458326cc",
   "metadata": {},
   "outputs": [
    {
     "data": {
      "text/html": [
       "<div>\n",
       "<style scoped>\n",
       "    .dataframe tbody tr th:only-of-type {\n",
       "        vertical-align: middle;\n",
       "    }\n",
       "\n",
       "    .dataframe tbody tr th {\n",
       "        vertical-align: top;\n",
       "    }\n",
       "\n",
       "    .dataframe thead th {\n",
       "        text-align: right;\n",
       "    }\n",
       "</style>\n",
       "<table border=\"1\" class=\"dataframe\">\n",
       "  <thead>\n",
       "    <tr style=\"text-align: right;\">\n",
       "      <th></th>\n",
       "      <th>id</th>\n",
       "      <th>features</th>\n",
       "      <th>label</th>\n",
       "    </tr>\n",
       "  </thead>\n",
       "  <tbody>\n",
       "    <tr>\n",
       "      <th>0</th>\n",
       "      <td>4679648220</td>\n",
       "      <td>{'features': 'V9OhP+JB4UCWO41Ban4SQRZjtEAAAAAA...</td>\n",
       "      <td>[{'class': 'Bicycle', 'conf': 0.97119373083114...</td>\n",
       "    </tr>\n",
       "    <tr>\n",
       "      <th>1</th>\n",
       "      <td>4679736464</td>\n",
       "      <td>{'features': '4jMaQbnrkEHZc3JAmLC7P0mkbkEAAAAA...</td>\n",
       "      <td>[{'class': 'Life jacket', 'conf': 0.9988144636...</td>\n",
       "    </tr>\n",
       "    <tr>\n",
       "      <th>2</th>\n",
       "      <td>4679761535</td>\n",
       "      <td>{'features': 'wA33QL8ifkHEDVRAQXEOQRc/UkB0TSFA...</td>\n",
       "      <td>[{'class': 'Dress', 'conf': 0.975189208984375,...</td>\n",
       "    </tr>\n",
       "    <tr>\n",
       "      <th>3</th>\n",
       "      <td>4679771579</td>\n",
       "      <td>{'features': 'A3zNQMSSyEBsZfU+n5+yQChyskBOZgw/...</td>\n",
       "      <td>[{'class': 'Skirt', 'conf': 0.9394164085388184...</td>\n",
       "    </tr>\n",
       "    <tr>\n",
       "      <th>4</th>\n",
       "      <td>4679881654</td>\n",
       "      <td>{'features': 'NvofQf5EQUBYbn9B3oalQIritD8Naes/...</td>\n",
       "      <td>[{'class': 'Flag', 'conf': 0.8809290528297424,...</td>\n",
       "    </tr>\n",
       "    <tr>\n",
       "      <th>...</th>\n",
       "      <td>...</td>\n",
       "      <td>...</td>\n",
       "      <td>...</td>\n",
       "    </tr>\n",
       "    <tr>\n",
       "      <th>8995</th>\n",
       "      <td>997338199</td>\n",
       "      <td>{'features': 'aPgEQQAAAAAAAAAAJX5TQAAAAADvJSY+...</td>\n",
       "      <td>[{'class': 'Curtain', 'conf': 0.80887413024902...</td>\n",
       "    </tr>\n",
       "    <tr>\n",
       "      <th>8996</th>\n",
       "      <td>997722733</td>\n",
       "      <td>{'features': '9pzPP7/XVUEAAAAAnGWUPuE1T0H3ks1A...</td>\n",
       "      <td>[{'class': 'Sandal', 'conf': 0.717478156089782...</td>\n",
       "    </tr>\n",
       "    <tr>\n",
       "      <th>8997</th>\n",
       "      <td>997876722</td>\n",
       "      <td>{'features': 'mPJwQAAAAAAAAAAAuo71PzYZgkAaSe5A...</td>\n",
       "      <td>[{'class': 'Apple', 'conf': 0.9743674397468567...</td>\n",
       "    </tr>\n",
       "    <tr>\n",
       "      <th>8998</th>\n",
       "      <td>99804383</td>\n",
       "      <td>{'features': 'SwyYQBGga0A6YDY/AAAAAJCAgj8fi/s/...</td>\n",
       "      <td>[{'class': 'Signboard', 'conf': 0.706024229526...</td>\n",
       "    </tr>\n",
       "    <tr>\n",
       "      <th>8999</th>\n",
       "      <td>998845445</td>\n",
       "      <td>{'features': 'QovFQE59yj8RE+A/AAAAANu9KEAxWotA...</td>\n",
       "      <td>[{'class': 'Ladder', 'conf': 0.995799362659454...</td>\n",
       "    </tr>\n",
       "  </tbody>\n",
       "</table>\n",
       "<p>9000 rows × 3 columns</p>\n",
       "</div>"
      ],
      "text/plain": [
       "              id                                           features  \\\n",
       "0     4679648220  {'features': 'V9OhP+JB4UCWO41Ban4SQRZjtEAAAAAA...   \n",
       "1     4679736464  {'features': '4jMaQbnrkEHZc3JAmLC7P0mkbkEAAAAA...   \n",
       "2     4679761535  {'features': 'wA33QL8ifkHEDVRAQXEOQRc/UkB0TSFA...   \n",
       "3     4679771579  {'features': 'A3zNQMSSyEBsZfU+n5+yQChyskBOZgw/...   \n",
       "4     4679881654  {'features': 'NvofQf5EQUBYbn9B3oalQIritD8Naes/...   \n",
       "...          ...                                                ...   \n",
       "8995   997338199  {'features': 'aPgEQQAAAAAAAAAAJX5TQAAAAADvJSY+...   \n",
       "8996   997722733  {'features': '9pzPP7/XVUEAAAAAnGWUPuE1T0H3ks1A...   \n",
       "8997   997876722  {'features': 'mPJwQAAAAAAAAAAAuo71PzYZgkAaSe5A...   \n",
       "8998    99804383  {'features': 'SwyYQBGga0A6YDY/AAAAAJCAgj8fi/s/...   \n",
       "8999   998845445  {'features': 'QovFQE59yj8RE+A/AAAAANu9KEAxWotA...   \n",
       "\n",
       "                                                  label  \n",
       "0     [{'class': 'Bicycle', 'conf': 0.97119373083114...  \n",
       "1     [{'class': 'Life jacket', 'conf': 0.9988144636...  \n",
       "2     [{'class': 'Dress', 'conf': 0.975189208984375,...  \n",
       "3     [{'class': 'Skirt', 'conf': 0.9394164085388184...  \n",
       "4     [{'class': 'Flag', 'conf': 0.8809290528297424,...  \n",
       "...                                                 ...  \n",
       "8995  [{'class': 'Curtain', 'conf': 0.80887413024902...  \n",
       "8996  [{'class': 'Sandal', 'conf': 0.717478156089782...  \n",
       "8997  [{'class': 'Apple', 'conf': 0.9743674397468567...  \n",
       "8998  [{'class': 'Signboard', 'conf': 0.706024229526...  \n",
       "8999  [{'class': 'Ladder', 'conf': 0.995799362659454...  \n",
       "\n",
       "[9000 rows x 3 columns]"
      ]
     },
     "execution_count": 34,
     "metadata": {},
     "output_type": "execute_result"
    }
   ],
   "source": [
    "full_segmentation = pd.merge(df_feature_segmentation, df_label_segmentation, on=\"id\")\n",
    "full_segmentation"
   ]
  },
  {
   "cell_type": "code",
   "execution_count": 35,
   "id": "e87891e4",
   "metadata": {},
   "outputs": [
    {
     "name": "stderr",
     "output_type": "stream",
     "text": [
      "9000it [00:29, 303.14it/s]\n"
     ]
    }
   ],
   "source": [
    "from tqdm import tqdm\n",
    "bbox_id = 0\n",
    "for index, row in tqdm(full_segmentation.iterrows()):\n",
    "    list_features = np.split(np.frombuffer(base64.b64decode(row[\"features\"][\"features\"]), np.float32), row[\"features\"][\"num_boxes\"])\n",
    "    for i in range(row[\"features\"][\"num_boxes\"]):\n",
    "        row[\"label\"][i][\"feature\"] = list_features[i]\n",
    "        row[\"label\"][i][\"bbox_id\"] = bbox_id\n",
    "        bbox_id+=1"
   ]
  },
  {
   "cell_type": "code",
   "execution_count": 36,
   "id": "81368883",
   "metadata": {},
   "outputs": [
    {
     "data": {
      "text/plain": [
       "True"
      ]
     },
     "execution_count": 36,
     "metadata": {},
     "output_type": "execute_result"
    }
   ],
   "source": [
    "np.all(full_segmentation[\"id\"].values == full_detection[\"id\"].values)"
   ]
  },
  {
   "cell_type": "code",
   "execution_count": 37,
   "id": "2f044597",
   "metadata": {},
   "outputs": [],
   "source": [
    "import en_core_web_md\n",
    "nlp = en_core_web_md.load()"
   ]
  },
  {
   "cell_type": "code",
   "execution_count": 38,
   "id": "b6f9c52e",
   "metadata": {},
   "outputs": [
    {
     "name": "stderr",
     "output_type": "stream",
     "text": [
      "222it [01:57,  2.22it/s]C:\\Users\\GABRIE~1.FER\\AppData\\Local\\Temp/ipykernel_10580/4069507114.py:42: UserWarning: [W008] Evaluating Token.similarity based on empty vectors.\n",
      "  similarity_seg_1 = token1.similarity(token2)\n",
      "C:\\Users\\GABRIE~1.FER\\AppData\\Local\\Temp/ipykernel_10580/4069507114.py:47: UserWarning: [W008] Evaluating Token.similarity based on empty vectors.\n",
      "  similarity_seg_2 = token1.similarity(token2)\n",
      "C:\\Users\\GABRIE~1.FER\\AppData\\Local\\Temp/ipykernel_10580/4069507114.py:51: UserWarning: [W008] Evaluating Token.similarity based on empty vectors.\n",
      "  similarity_seg_3 = token1.similarity(token2)\n",
      "9000it [44:02,  3.41it/s]\n"
     ]
    }
   ],
   "source": [
    "bbox_similarity = 0.997\n",
    "\n",
    "for index, row in tqdm(full_segmentation.iterrows()):\n",
    "    for elem in row[\"label\"]:\n",
    "        similar_region = {\"class\": \"\", \"score\": 0, \"feature\": [], \"conf\": 0}\n",
    "        similar_regions = {}\n",
    "        similar_regions_features = {}\n",
    "        similar_features = {\"class\": \"\", \"score\": 0, \"feature\": [], \"conf\": 0}\n",
    "        for elem2 in full_detection.iloc[index][\"label\"]:\n",
    "\n",
    "            if 1 - spatial.distance.cosine(elem[\"rect\"], elem2[\"rect\"]) > bbox_similarity:\n",
    "                #print(\"similar region class:\", elem2[\"class\"])\n",
    "                similarity = 1 - spatial.distance.cosine(elem[\"rect\"], elem2[\"rect\"])\n",
    "                sim_features = 1 - spatial.distance.cosine(elem[\"feature\"], elem2[\"feature\"])\n",
    "                if (sim_features > similar_features[\"score\"]): # 3\n",
    "                    similar_features[\"score\"] = sim_features\n",
    "                    similar_features[\"class\"] = elem2[\"class\"]\n",
    "                    similar_features[\"feature\"] = elem2[\"feature\"]\n",
    "                    similar_features[\"conf\"] = elem2[\"conf\"]\n",
    "                if (similarity > similar_region[\"score\"]): # 1\n",
    "                    similar_region[\"score\"] = similarity\n",
    "                    similar_region[\"class\"] = elem2[\"class\"]\n",
    "                    similar_region[\"feature\"] = elem2[\"feature\"]\n",
    "                    similar_region[\"conf\"] = elem2[\"conf\"]\n",
    "                if elem2[\"class\"] in similar_regions: # 2\n",
    "                    similar_regions[elem2[\"class\"]] += 1\n",
    "                    if similarity > similar_regions_features[elem2[\"class\"]][\"score\"]: \n",
    "                        similar_regions_features[elem2[\"class\"]] = {\"score\": similarity, \"feature\": elem2[\"feature\"], \"conf\": elem2[\"conf\"]}\n",
    "                else:\n",
    "                    similar_regions[elem2[\"class\"]] = 0\n",
    "                    similar_regions_features[elem2[\"class\"]] = {\"score\": similarity, \"feature\": elem2[\"feature\"], \"conf\": elem2[\"conf\"]}\n",
    "        if similar_region[\"class\"] != \"\":\n",
    "            #print(\"\\n======================================================================\")\n",
    "            final_class = elem[\"class\"]\n",
    "            elem[\"class\"] = elem[\"class\"].lower()\n",
    "            #print(\"Classe vecchia: \", elem[\"class\"])\n",
    "            classe = max(similar_regions, key=similar_regions.get)\n",
    "            #print(\"Classe nuova metodo 1: \", classe)\n",
    "            sim1 = 1 - spatial.distance.cosine(elem[\"feature\"], similar_regions_features[classe][\"feature\"])\n",
    "            tokens = nlp(elem[\"class\"].lower() + \" \" + classe.lower())\n",
    "            token1, token2 = tokens[0], tokens[1]\n",
    "            similarity_seg_1 = token1.similarity(token2)\n",
    "            #print(\"Classe nuova metodo 2: \", similar_region[\"class\"])\n",
    "            sim2 = 1 - spatial.distance.cosine(elem[\"feature\"], similar_region[\"feature\"])\n",
    "            tokens = nlp(elem[\"class\"].lower() + \" \" + similar_region[\"class\"].lower())\n",
    "            token1, token2 = tokens[0], tokens[1]\n",
    "            similarity_seg_2 = token1.similarity(token2)\n",
    "            #print(\"Classe nuova metodo 3: \", similar_features[\"class\"])\n",
    "            tokens = nlp(elem[\"class\"].lower() + \" \" + similar_features[\"class\"].lower())\n",
    "            token1, token2 = tokens[0], tokens[1]\n",
    "            similarity_seg_3 = token1.similarity(token2)\n",
    "\n",
    "            peso_feat = 0.6\n",
    "            peso_word = 0.3\n",
    "            peso_conf = 0.1\n",
    "\n",
    "            score_1_sim_feat = similarity_seg_1\n",
    "            score_1_sim_word = sim1\n",
    "            score_1_conf = similar_regions_features[classe][\"conf\"]\n",
    "            score_1_tot = (score_1_sim_feat*peso_feat + score_1_sim_word*peso_word + score_1_conf*peso_conf)\n",
    "\n",
    "            score_2_sim_feat = similarity_seg_2\n",
    "            score_2_sim_word = sim2\n",
    "            score_2_conf = similar_region[\"conf\"]\n",
    "            score_2_tot = (score_2_sim_feat*peso_feat + score_2_sim_word*peso_word + score_2_conf*peso_conf)\n",
    "\n",
    "            score_3_sim_feat = similarity_seg_3\n",
    "            score_3_sim_word = similar_features[\"score\"]\n",
    "            score_3_conf = similar_features[\"conf\"]\n",
    "            score_3_tot = (score_3_sim_feat*peso_feat + score_3_sim_word*peso_word + score_3_conf*peso_conf)\n",
    "\n",
    "            \n",
    "            if score_1_tot >= score_2_tot and score_1_tot >= score_3_tot:\n",
    "                final_class = classe\n",
    "            elif score_2_tot >= score_1_tot and score_2_tot >= score_3_tot:\n",
    "                final_class = similar_region[\"class\"]\n",
    "            elif score_2_tot >= score_1_tot and score_3_tot >= score_2_tot:\n",
    "                final_class = similar_features[\"class\"]\n",
    "            elem[\"class\"] = final_class\n",
    "            #print(\"classe finale: \", elem[\"class\"])\n",
    "            #print(\"======================================================================\\n\")\n",
    "            \n",
    "            \n",
    "            #img = str(full_detection.iloc[index][\"id\"])+\".jpg\"\n",
    "            #im_cv2 = cv2.imread(\"../datasets/flickr30k_images/validation/\"+img)\n",
    "            #x,y,w,h = tuple(elem[\"rect\"])\n",
    "            #ROI = im_cv2[int(y):int(h), int(x):int(w)]\n",
    "            #cv2.imshow(str(elem[\"class\"]),ROI)\n",
    "            #cv2.waitKey(0) \n",
    "            #cv2.destroyAllWindows()"
   ]
  },
  {
   "cell_type": "markdown",
   "id": "9cd2acc0",
   "metadata": {},
   "source": [
    "### Union"
   ]
  },
  {
   "cell_type": "code",
   "execution_count": 39,
   "id": "27ac5e65",
   "metadata": {},
   "outputs": [
    {
     "name": "stderr",
     "output_type": "stream",
     "text": [
      "100%|██████████████████████████████████████████████████████████████████████████████████████████████████████████████████████████████████| 9000/9000 [03:40<00:00, 40.78it/s]\n"
     ]
    }
   ],
   "source": [
    "full_not_present = []\n",
    "for i in tqdm(range(len(full_detection))):    \n",
    "    not_present = []\n",
    "    for row_dect in full_detection.iloc[i][\"label\"]:\n",
    "        check = False\n",
    "        for row_seg in full_segmentation.iloc[i][\"label\"]:\n",
    "            if 1 - spatial.distance.cosine(row_seg[\"rect\"], row_dect[\"rect\"]) > 0.985:\n",
    "                check = True\n",
    "                break\n",
    "        if not check:\n",
    "            not_present.append(row_dect)\n",
    "    full_not_present.append(not_present)"
   ]
  },
  {
   "cell_type": "code",
   "execution_count": 40,
   "id": "0b2f33d5",
   "metadata": {},
   "outputs": [],
   "source": [
    "for elem in full_detection[\"id\"].values == full_segmentation[\"id\"].values:\n",
    "    if not elem: \n",
    "        print(\"noooo\")"
   ]
  },
  {
   "cell_type": "code",
   "execution_count": 41,
   "id": "03199708",
   "metadata": {},
   "outputs": [],
   "source": [
    "full_segmentation[\"not_present\"] = full_not_present"
   ]
  },
  {
   "cell_type": "code",
   "execution_count": 42,
   "id": "06f7cb07",
   "metadata": {},
   "outputs": [
    {
     "data": {
      "text/html": [
       "<div>\n",
       "<style scoped>\n",
       "    .dataframe tbody tr th:only-of-type {\n",
       "        vertical-align: middle;\n",
       "    }\n",
       "\n",
       "    .dataframe tbody tr th {\n",
       "        vertical-align: top;\n",
       "    }\n",
       "\n",
       "    .dataframe thead th {\n",
       "        text-align: right;\n",
       "    }\n",
       "</style>\n",
       "<table border=\"1\" class=\"dataframe\">\n",
       "  <thead>\n",
       "    <tr style=\"text-align: right;\">\n",
       "      <th></th>\n",
       "      <th>id</th>\n",
       "      <th>features</th>\n",
       "      <th>label</th>\n",
       "      <th>not_present</th>\n",
       "      <th>union</th>\n",
       "    </tr>\n",
       "  </thead>\n",
       "  <tbody>\n",
       "    <tr>\n",
       "      <th>0</th>\n",
       "      <td>4679648220</td>\n",
       "      <td>{'features': 'V9OhP+JB4UCWO41Ban4SQRZjtEAAAAAA...</td>\n",
       "      <td>[{'class': 'Bicycle', 'conf': 0.97119373083114...</td>\n",
       "      <td>[{'class': 'Belt', 'conf': 0.9678944945335388,...</td>\n",
       "      <td>[{'class': 'Bicycle', 'conf': 0.97119373083114...</td>\n",
       "    </tr>\n",
       "    <tr>\n",
       "      <th>1</th>\n",
       "      <td>4679736464</td>\n",
       "      <td>{'features': '4jMaQbnrkEHZc3JAmLC7P0mkbkEAAAAA...</td>\n",
       "      <td>[{'class': 'Head', 'conf': 0.9988144636154175,...</td>\n",
       "      <td>[{'class': 'Water', 'conf': 0.6539292335510254...</td>\n",
       "      <td>[{'class': 'Head', 'conf': 0.9988144636154175,...</td>\n",
       "    </tr>\n",
       "    <tr>\n",
       "      <th>2</th>\n",
       "      <td>4679761535</td>\n",
       "      <td>{'features': 'wA33QL8ifkHEDVRAQXEOQRc/UkB0TSFA...</td>\n",
       "      <td>[{'class': 'Dress', 'conf': 0.975189208984375,...</td>\n",
       "      <td>[{'class': 'Shadow', 'conf': 0.884247660636901...</td>\n",
       "      <td>[{'class': 'Dress', 'conf': 0.975189208984375,...</td>\n",
       "    </tr>\n",
       "    <tr>\n",
       "      <th>3</th>\n",
       "      <td>4679771579</td>\n",
       "      <td>{'features': 'A3zNQMSSyEBsZfU+n5+yQChyskBOZgw/...</td>\n",
       "      <td>[{'class': 'Pant', 'conf': 0.9394164085388184,...</td>\n",
       "      <td>[{'class': 'Window', 'conf': 0.949151456356048...</td>\n",
       "      <td>[{'class': 'Pant', 'conf': 0.9394164085388184,...</td>\n",
       "    </tr>\n",
       "    <tr>\n",
       "      <th>4</th>\n",
       "      <td>4679881654</td>\n",
       "      <td>{'features': 'NvofQf5EQUBYbn9B3oalQIritD8Naes/...</td>\n",
       "      <td>[{'class': 'Belt', 'conf': 0.8809290528297424,...</td>\n",
       "      <td>[{'class': 'Tower', 'conf': 0.8458567261695862...</td>\n",
       "      <td>[{'class': 'Belt', 'conf': 0.8809290528297424,...</td>\n",
       "    </tr>\n",
       "    <tr>\n",
       "      <th>...</th>\n",
       "      <td>...</td>\n",
       "      <td>...</td>\n",
       "      <td>...</td>\n",
       "      <td>...</td>\n",
       "      <td>...</td>\n",
       "    </tr>\n",
       "    <tr>\n",
       "      <th>8995</th>\n",
       "      <td>997338199</td>\n",
       "      <td>{'features': 'aPgEQQAAAAAAAAAAJX5TQAAAAADvJSY+...</td>\n",
       "      <td>[{'class': 'Curtain', 'conf': 0.80887413024902...</td>\n",
       "      <td>[{'class': 'Wall', 'conf': 0.7054150104522705,...</td>\n",
       "      <td>[{'class': 'Curtain', 'conf': 0.80887413024902...</td>\n",
       "    </tr>\n",
       "    <tr>\n",
       "      <th>8996</th>\n",
       "      <td>997722733</td>\n",
       "      <td>{'features': '9pzPP7/XVUEAAAAAnGWUPuE1T0H3ks1A...</td>\n",
       "      <td>[{'class': 'Sandal', 'conf': 0.717478156089782...</td>\n",
       "      <td>[{'class': 'Hair', 'conf': 0.7762690186500549,...</td>\n",
       "      <td>[{'class': 'Sandal', 'conf': 0.717478156089782...</td>\n",
       "    </tr>\n",
       "    <tr>\n",
       "      <th>8997</th>\n",
       "      <td>997876722</td>\n",
       "      <td>{'features': 'mPJwQAAAAAAAAAAAuo71PzYZgkAaSe5A...</td>\n",
       "      <td>[{'class': 'Apple', 'conf': 0.9743674397468567...</td>\n",
       "      <td>[{'class': 'Pant', 'conf': 0.8092154264450073,...</td>\n",
       "      <td>[{'class': 'Apple', 'conf': 0.9743674397468567...</td>\n",
       "    </tr>\n",
       "    <tr>\n",
       "      <th>8998</th>\n",
       "      <td>99804383</td>\n",
       "      <td>{'features': 'SwyYQBGga0A6YDY/AAAAAJCAgj8fi/s/...</td>\n",
       "      <td>[{'class': 'Signboard', 'conf': 0.706024229526...</td>\n",
       "      <td>[{'class': 'Shirt', 'conf': 0.9361402988433838...</td>\n",
       "      <td>[{'class': 'Signboard', 'conf': 0.706024229526...</td>\n",
       "    </tr>\n",
       "    <tr>\n",
       "      <th>8999</th>\n",
       "      <td>998845445</td>\n",
       "      <td>{'features': 'QovFQE59yj8RE+A/AAAAANu9KEAxWotA...</td>\n",
       "      <td>[{'class': 'Ladder', 'conf': 0.995799362659454...</td>\n",
       "      <td>[{'class': 'Sky', 'conf': 0.8789816498756409, ...</td>\n",
       "      <td>[{'class': 'Ladder', 'conf': 0.995799362659454...</td>\n",
       "    </tr>\n",
       "  </tbody>\n",
       "</table>\n",
       "<p>9000 rows × 5 columns</p>\n",
       "</div>"
      ],
      "text/plain": [
       "              id                                           features  \\\n",
       "0     4679648220  {'features': 'V9OhP+JB4UCWO41Ban4SQRZjtEAAAAAA...   \n",
       "1     4679736464  {'features': '4jMaQbnrkEHZc3JAmLC7P0mkbkEAAAAA...   \n",
       "2     4679761535  {'features': 'wA33QL8ifkHEDVRAQXEOQRc/UkB0TSFA...   \n",
       "3     4679771579  {'features': 'A3zNQMSSyEBsZfU+n5+yQChyskBOZgw/...   \n",
       "4     4679881654  {'features': 'NvofQf5EQUBYbn9B3oalQIritD8Naes/...   \n",
       "...          ...                                                ...   \n",
       "8995   997338199  {'features': 'aPgEQQAAAAAAAAAAJX5TQAAAAADvJSY+...   \n",
       "8996   997722733  {'features': '9pzPP7/XVUEAAAAAnGWUPuE1T0H3ks1A...   \n",
       "8997   997876722  {'features': 'mPJwQAAAAAAAAAAAuo71PzYZgkAaSe5A...   \n",
       "8998    99804383  {'features': 'SwyYQBGga0A6YDY/AAAAAJCAgj8fi/s/...   \n",
       "8999   998845445  {'features': 'QovFQE59yj8RE+A/AAAAANu9KEAxWotA...   \n",
       "\n",
       "                                                  label  \\\n",
       "0     [{'class': 'Bicycle', 'conf': 0.97119373083114...   \n",
       "1     [{'class': 'Head', 'conf': 0.9988144636154175,...   \n",
       "2     [{'class': 'Dress', 'conf': 0.975189208984375,...   \n",
       "3     [{'class': 'Pant', 'conf': 0.9394164085388184,...   \n",
       "4     [{'class': 'Belt', 'conf': 0.8809290528297424,...   \n",
       "...                                                 ...   \n",
       "8995  [{'class': 'Curtain', 'conf': 0.80887413024902...   \n",
       "8996  [{'class': 'Sandal', 'conf': 0.717478156089782...   \n",
       "8997  [{'class': 'Apple', 'conf': 0.9743674397468567...   \n",
       "8998  [{'class': 'Signboard', 'conf': 0.706024229526...   \n",
       "8999  [{'class': 'Ladder', 'conf': 0.995799362659454...   \n",
       "\n",
       "                                            not_present  \\\n",
       "0     [{'class': 'Belt', 'conf': 0.9678944945335388,...   \n",
       "1     [{'class': 'Water', 'conf': 0.6539292335510254...   \n",
       "2     [{'class': 'Shadow', 'conf': 0.884247660636901...   \n",
       "3     [{'class': 'Window', 'conf': 0.949151456356048...   \n",
       "4     [{'class': 'Tower', 'conf': 0.8458567261695862...   \n",
       "...                                                 ...   \n",
       "8995  [{'class': 'Wall', 'conf': 0.7054150104522705,...   \n",
       "8996  [{'class': 'Hair', 'conf': 0.7762690186500549,...   \n",
       "8997  [{'class': 'Pant', 'conf': 0.8092154264450073,...   \n",
       "8998  [{'class': 'Shirt', 'conf': 0.9361402988433838...   \n",
       "8999  [{'class': 'Sky', 'conf': 0.8789816498756409, ...   \n",
       "\n",
       "                                                  union  \n",
       "0     [{'class': 'Bicycle', 'conf': 0.97119373083114...  \n",
       "1     [{'class': 'Head', 'conf': 0.9988144636154175,...  \n",
       "2     [{'class': 'Dress', 'conf': 0.975189208984375,...  \n",
       "3     [{'class': 'Pant', 'conf': 0.9394164085388184,...  \n",
       "4     [{'class': 'Belt', 'conf': 0.8809290528297424,...  \n",
       "...                                                 ...  \n",
       "8995  [{'class': 'Curtain', 'conf': 0.80887413024902...  \n",
       "8996  [{'class': 'Sandal', 'conf': 0.717478156089782...  \n",
       "8997  [{'class': 'Apple', 'conf': 0.9743674397468567...  \n",
       "8998  [{'class': 'Signboard', 'conf': 0.706024229526...  \n",
       "8999  [{'class': 'Ladder', 'conf': 0.995799362659454...  \n",
       "\n",
       "[9000 rows x 5 columns]"
      ]
     },
     "execution_count": 42,
     "metadata": {},
     "output_type": "execute_result"
    }
   ],
   "source": [
    "full_segmentation[\"union\"] = full_segmentation[\"label\"] + full_segmentation[\"not_present\"]\n",
    "full_segmentation"
   ]
  },
  {
   "cell_type": "code",
   "execution_count": 43,
   "id": "67da1b62",
   "metadata": {},
   "outputs": [
    {
     "name": "stderr",
     "output_type": "stream",
     "text": [
      "9000it [00:00, 10815.84it/s]\n"
     ]
    }
   ],
   "source": [
    "for index, row in tqdm(full_segmentation.iterrows()):\n",
    "    if(len(row[\"label\"]) + len(row[\"not_present\"]) != len(row[\"union\"])):\n",
    "        print(\"!!!!!!!!!!!!!!!\")"
   ]
  },
  {
   "cell_type": "code",
   "execution_count": 44,
   "id": "4cc4544f",
   "metadata": {},
   "outputs": [],
   "source": [
    "def generate_features(x):\n",
    "    idx, data, num_boxes = x[\"id\"],x[\"union\"],len(x[\"union\"])\n",
    "    features_arr = []\n",
    "    for i in range(num_boxes):\n",
    "        features = data[i]['feature']\n",
    "        features_arr.append(features.astype(np.float32))\n",
    "    \n",
    "    features = np.vstack(tuple(features_arr))\n",
    "    features = base64.b64encode(features).decode(\"utf-8\")\n",
    "    return {\"features\":features, \"num_boxes\":num_boxes}"
   ]
  },
  {
   "cell_type": "code",
   "execution_count": 45,
   "id": "fb10e9f4",
   "metadata": {},
   "outputs": [],
   "source": [
    "def generate_labels(x):\n",
    "    data = x[\"union\"]\n",
    "    res = [{\"class\":el['class'].capitalize(),\"conf\":el['conf'], \"rect\": el['rect']} for el in data] \n",
    "    return res"
   ]
  },
  {
   "cell_type": "code",
   "execution_count": 46,
   "id": "6698b178",
   "metadata": {},
   "outputs": [
    {
     "name": "stderr",
     "output_type": "stream",
     "text": [
      "100%|█████████████████████████████████████████████████████████████████████████████████████████████████████████████████████████████████| 9000/9000 [01:00<00:00, 149.82it/s]\n",
      "100%|█████████████████████████████████████████████████████████████████████████████████████████████████████████████████████████████████| 9000/9000 [00:41<00:00, 217.09it/s]\n",
      "100%|███████████████████████████████████████████████████████████████████████████████████████████████████████████████████████████████| 9000/9000 [00:00<00:00, 22055.78it/s]\n",
      "100%|████████████████████████████████████████████████████████████████████████████████████████████████████████████████████████████████| 9000/9000 [00:01<00:00, 5460.43it/s]\n"
     ]
    }
   ],
   "source": [
    "full_segmentation['feature_union'] = full_segmentation.progress_apply(generate_features,axis=1)\n",
    "full_segmentation['feature_union'] = full_segmentation['feature_union'].progress_apply(json.dumps)\n",
    "\n",
    "full_segmentation['label_union'] = full_segmentation.progress_apply(generate_labels,axis=1)\n",
    "full_segmentation['label_union'] = full_segmentation['label_union'].progress_apply(json.dumps)"
   ]
  },
  {
   "cell_type": "code",
   "execution_count": 47,
   "id": "4a4cf4a7",
   "metadata": {},
   "outputs": [],
   "source": [
    "from features_detection.maskrcnn_benchmark.structures.tsv_file_ops import tsv_reader, tsv_writer\n",
    "\n",
    "OUTPUT_DIR = './training_union_class/'\n",
    "LABEL_FILE = os.path.join(OUTPUT_DIR,'train3.label.tsv')\n",
    "FEATURE_FILE = os.path.join(OUTPUT_DIR,'train3.feature.tsv')\n",
    "if not os.path.exists(OUTPUT_DIR):\n",
    "    os.makedirs(OUTPUT_DIR)\n",
    "    print(f\"path to {OUTPUT_DIR} created\")"
   ]
  },
  {
   "cell_type": "code",
   "execution_count": 48,
   "id": "c879a9d1",
   "metadata": {},
   "outputs": [],
   "source": [
    "tsv_writer(full_segmentation[[\"id\", \"feature_union\"]].values.tolist(), FEATURE_FILE)"
   ]
  },
  {
   "cell_type": "code",
   "execution_count": 49,
   "id": "762d0117",
   "metadata": {},
   "outputs": [],
   "source": [
    "tsv_writer(full_segmentation[[\"id\", \"label_union\"]].values.tolist(),LABEL_FILE)"
   ]
  },
  {
   "cell_type": "markdown",
   "id": "55fdb20d",
   "metadata": {},
   "source": [
    "Union"
   ]
  },
  {
   "cell_type": "code",
   "execution_count": 26,
   "id": "ba833aaf",
   "metadata": {},
   "outputs": [],
   "source": [
    "sg_tsv = './training_union_class/train1.feature.tsv'\n",
    "df_feature1 = pd.read_csv(sg_tsv,sep='\\t',header = None, converters={1:json.loads})\n",
    "df_feature1 = df_feature1.rename(columns={0: \"id\", 1: \"features\"})"
   ]
  },
  {
   "cell_type": "code",
   "execution_count": 3,
   "id": "e7c50dfc",
   "metadata": {},
   "outputs": [],
   "source": [
    "sg_tsv = './training_union_class/train2.feature.tsv'\n",
    "df_feature2 = pd.read_csv(sg_tsv,sep='\\t',header = None, converters={1:json.loads})\n",
    "df_feature2 = df_feature2.rename(columns={0: \"id\", 1: \"features\"})"
   ]
  },
  {
   "cell_type": "code",
   "execution_count": 12,
   "id": "b0ea26d1",
   "metadata": {},
   "outputs": [],
   "source": [
    "sg_tsv = './training_union_class/train3.feature.tsv'\n",
    "df_feature3 = pd.read_csv(sg_tsv,sep='\\t',header = None, converters={1:json.loads})\n",
    "df_feature3 = df_feature3.rename(columns={0: \"id\", 1: \"features\"})"
   ]
  },
  {
   "cell_type": "code",
   "execution_count": 13,
   "id": "503e06d6",
   "metadata": {},
   "outputs": [
    {
     "data": {
      "text/html": [
       "<div>\n",
       "<style scoped>\n",
       "    .dataframe tbody tr th:only-of-type {\n",
       "        vertical-align: middle;\n",
       "    }\n",
       "\n",
       "    .dataframe tbody tr th {\n",
       "        vertical-align: top;\n",
       "    }\n",
       "\n",
       "    .dataframe thead th {\n",
       "        text-align: right;\n",
       "    }\n",
       "</style>\n",
       "<table border=\"1\" class=\"dataframe\">\n",
       "  <thead>\n",
       "    <tr style=\"text-align: right;\">\n",
       "      <th></th>\n",
       "      <th>id</th>\n",
       "      <th>features</th>\n",
       "    </tr>\n",
       "  </thead>\n",
       "  <tbody>\n",
       "    <tr>\n",
       "      <th>0</th>\n",
       "      <td>1000092795</td>\n",
       "      <td>{'features': 'ki89QAAAAAAAAAAAFvs8P3NUhz/ght1A...</td>\n",
       "    </tr>\n",
       "    <tr>\n",
       "      <th>1</th>\n",
       "      <td>10002456</td>\n",
       "      <td>{'features': 'Ta8CQRDNxD81+ZRAPhfGQOb8wkCgvb5A...</td>\n",
       "    </tr>\n",
       "    <tr>\n",
       "      <th>2</th>\n",
       "      <td>1000268201</td>\n",
       "      <td>{'features': 'fKqDQQAAAAA8P44/WHkaQfywkEAAAAAA...</td>\n",
       "    </tr>\n",
       "    <tr>\n",
       "      <th>3</th>\n",
       "      <td>1000344755</td>\n",
       "      <td>{'features': 'u24FQFOHokAAAAAACkI9QBn70T8kwudA...</td>\n",
       "    </tr>\n",
       "    <tr>\n",
       "      <th>4</th>\n",
       "      <td>1000366164</td>\n",
       "      <td>{'features': 'lJYiQV6dlT9WZDlAXJmOQL94t0AAshc8...</td>\n",
       "    </tr>\n",
       "    <tr>\n",
       "      <th>...</th>\n",
       "      <td>...</td>\n",
       "      <td>...</td>\n",
       "    </tr>\n",
       "    <tr>\n",
       "      <th>28995</th>\n",
       "      <td>997338199</td>\n",
       "      <td>{'features': 'aPgEQQAAAAAAAAAAJX5TQAAAAADvJSY+...</td>\n",
       "    </tr>\n",
       "    <tr>\n",
       "      <th>28996</th>\n",
       "      <td>997722733</td>\n",
       "      <td>{'features': '9pzPP7/XVUEAAAAAnGWUPuE1T0H3ks1A...</td>\n",
       "    </tr>\n",
       "    <tr>\n",
       "      <th>28997</th>\n",
       "      <td>997876722</td>\n",
       "      <td>{'features': 'mPJwQAAAAAAAAAAAuo71PzYZgkAaSe5A...</td>\n",
       "    </tr>\n",
       "    <tr>\n",
       "      <th>28998</th>\n",
       "      <td>99804383</td>\n",
       "      <td>{'features': 'SwyYQBGga0A6YDY/AAAAAJCAgj8fi/s/...</td>\n",
       "    </tr>\n",
       "    <tr>\n",
       "      <th>28999</th>\n",
       "      <td>998845445</td>\n",
       "      <td>{'features': 'QovFQE59yj8RE+A/AAAAANu9KEAxWotA...</td>\n",
       "    </tr>\n",
       "  </tbody>\n",
       "</table>\n",
       "<p>29000 rows × 2 columns</p>\n",
       "</div>"
      ],
      "text/plain": [
       "               id                                           features\n",
       "0      1000092795  {'features': 'ki89QAAAAAAAAAAAFvs8P3NUhz/ght1A...\n",
       "1        10002456  {'features': 'Ta8CQRDNxD81+ZRAPhfGQOb8wkCgvb5A...\n",
       "2      1000268201  {'features': 'fKqDQQAAAAA8P44/WHkaQfywkEAAAAAA...\n",
       "3      1000344755  {'features': 'u24FQFOHokAAAAAACkI9QBn70T8kwudA...\n",
       "4      1000366164  {'features': 'lJYiQV6dlT9WZDlAXJmOQL94t0AAshc8...\n",
       "...           ...                                                ...\n",
       "28995   997338199  {'features': 'aPgEQQAAAAAAAAAAJX5TQAAAAADvJSY+...\n",
       "28996   997722733  {'features': '9pzPP7/XVUEAAAAAnGWUPuE1T0H3ks1A...\n",
       "28997   997876722  {'features': 'mPJwQAAAAAAAAAAAuo71PzYZgkAaSe5A...\n",
       "28998    99804383  {'features': 'SwyYQBGga0A6YDY/AAAAAJCAgj8fi/s/...\n",
       "28999   998845445  {'features': 'QovFQE59yj8RE+A/AAAAANu9KEAxWotA...\n",
       "\n",
       "[29000 rows x 2 columns]"
      ]
     },
     "execution_count": 13,
     "metadata": {},
     "output_type": "execute_result"
    }
   ],
   "source": [
    "df_feature = pd.concat([df_feature1, df_feature2, df_feature3], ignore_index=True)\n",
    "df_feature"
   ]
  },
  {
   "cell_type": "code",
   "execution_count": 27,
   "id": "7bd535c5",
   "metadata": {},
   "outputs": [],
   "source": [
    "sg_tsv = './training_union_class/train1.label.tsv'\n",
    "df_label1 = pd.read_csv(sg_tsv,sep='\\t',header = None, converters={1:json.loads})\n",
    "df_label1 = df_label1.rename(columns={0: \"id\", 1: \"label\"})"
   ]
  },
  {
   "cell_type": "code",
   "execution_count": 6,
   "id": "368b1277",
   "metadata": {},
   "outputs": [],
   "source": [
    "sg_tsv = './training_union_class/train2.label.tsv'\n",
    "df_label2 = pd.read_csv(sg_tsv,sep='\\t',header = None, converters={1:json.loads})\n",
    "df_label2 = df_label2.rename(columns={0: \"id\", 1: \"label\"})"
   ]
  },
  {
   "cell_type": "code",
   "execution_count": 7,
   "id": "85331ef5",
   "metadata": {},
   "outputs": [],
   "source": [
    "sg_tsv = './training_union_class/train3.label.tsv'\n",
    "df_label3 = pd.read_csv(sg_tsv,sep='\\t',header = None, converters={1:json.loads})\n",
    "df_label3 = df_label3.rename(columns={0: \"id\", 1: \"label\"})"
   ]
  },
  {
   "cell_type": "code",
   "execution_count": 10,
   "id": "abc3baf6",
   "metadata": {},
   "outputs": [
    {
     "data": {
      "text/html": [
       "<div>\n",
       "<style scoped>\n",
       "    .dataframe tbody tr th:only-of-type {\n",
       "        vertical-align: middle;\n",
       "    }\n",
       "\n",
       "    .dataframe tbody tr th {\n",
       "        vertical-align: top;\n",
       "    }\n",
       "\n",
       "    .dataframe thead th {\n",
       "        text-align: right;\n",
       "    }\n",
       "</style>\n",
       "<table border=\"1\" class=\"dataframe\">\n",
       "  <thead>\n",
       "    <tr style=\"text-align: right;\">\n",
       "      <th></th>\n",
       "      <th>id</th>\n",
       "      <th>label</th>\n",
       "    </tr>\n",
       "  </thead>\n",
       "  <tbody>\n",
       "    <tr>\n",
       "      <th>0</th>\n",
       "      <td>1000092795</td>\n",
       "      <td>[{'class': 'Hand', 'conf': 0.5350186228752136,...</td>\n",
       "    </tr>\n",
       "    <tr>\n",
       "      <th>1</th>\n",
       "      <td>10002456</td>\n",
       "      <td>[{'class': 'Traffic light', 'conf': 0.51291126...</td>\n",
       "    </tr>\n",
       "    <tr>\n",
       "      <th>2</th>\n",
       "      <td>1000268201</td>\n",
       "      <td>[{'class': 'Dress', 'conf': 0.9662193059921265...</td>\n",
       "    </tr>\n",
       "    <tr>\n",
       "      <th>3</th>\n",
       "      <td>1000344755</td>\n",
       "      <td>[{'class': 'Hand', 'conf': 0.7075430750846863,...</td>\n",
       "    </tr>\n",
       "    <tr>\n",
       "      <th>4</th>\n",
       "      <td>1000366164</td>\n",
       "      <td>[{'class': 'Pot', 'conf': 0.8574621677398682, ...</td>\n",
       "    </tr>\n",
       "    <tr>\n",
       "      <th>...</th>\n",
       "      <td>...</td>\n",
       "      <td>...</td>\n",
       "    </tr>\n",
       "    <tr>\n",
       "      <th>28995</th>\n",
       "      <td>997338199</td>\n",
       "      <td>[{'class': 'Curtain', 'conf': 0.80887413024902...</td>\n",
       "    </tr>\n",
       "    <tr>\n",
       "      <th>28996</th>\n",
       "      <td>997722733</td>\n",
       "      <td>[{'class': 'Sandal', 'conf': 0.717478156089782...</td>\n",
       "    </tr>\n",
       "    <tr>\n",
       "      <th>28997</th>\n",
       "      <td>997876722</td>\n",
       "      <td>[{'class': 'Apple', 'conf': 0.9743674397468567...</td>\n",
       "    </tr>\n",
       "    <tr>\n",
       "      <th>28998</th>\n",
       "      <td>99804383</td>\n",
       "      <td>[{'class': 'Signboard', 'conf': 0.706024229526...</td>\n",
       "    </tr>\n",
       "    <tr>\n",
       "      <th>28999</th>\n",
       "      <td>998845445</td>\n",
       "      <td>[{'class': 'Ladder', 'conf': 0.995799362659454...</td>\n",
       "    </tr>\n",
       "  </tbody>\n",
       "</table>\n",
       "<p>29000 rows × 2 columns</p>\n",
       "</div>"
      ],
      "text/plain": [
       "               id                                              label\n",
       "0      1000092795  [{'class': 'Hand', 'conf': 0.5350186228752136,...\n",
       "1        10002456  [{'class': 'Traffic light', 'conf': 0.51291126...\n",
       "2      1000268201  [{'class': 'Dress', 'conf': 0.9662193059921265...\n",
       "3      1000344755  [{'class': 'Hand', 'conf': 0.7075430750846863,...\n",
       "4      1000366164  [{'class': 'Pot', 'conf': 0.8574621677398682, ...\n",
       "...           ...                                                ...\n",
       "28995   997338199  [{'class': 'Curtain', 'conf': 0.80887413024902...\n",
       "28996   997722733  [{'class': 'Sandal', 'conf': 0.717478156089782...\n",
       "28997   997876722  [{'class': 'Apple', 'conf': 0.9743674397468567...\n",
       "28998    99804383  [{'class': 'Signboard', 'conf': 0.706024229526...\n",
       "28999   998845445  [{'class': 'Ladder', 'conf': 0.995799362659454...\n",
       "\n",
       "[29000 rows x 2 columns]"
      ]
     },
     "execution_count": 10,
     "metadata": {},
     "output_type": "execute_result"
    }
   ],
   "source": [
    "df_label = pd.concat([df_label1, df_label2, df_label3], ignore_index=True)\n",
    "df_label"
   ]
  },
  {
   "cell_type": "code",
   "execution_count": 14,
   "id": "751ea76a",
   "metadata": {},
   "outputs": [
    {
     "data": {
      "text/plain": [
       "True"
      ]
     },
     "execution_count": 14,
     "metadata": {},
     "output_type": "execute_result"
    }
   ],
   "source": [
    "np.all(df_label[\"id\"].values == df_feature[\"id\"].values)"
   ]
  },
  {
   "cell_type": "code",
   "execution_count": 15,
   "id": "8c3e893d",
   "metadata": {},
   "outputs": [
    {
     "data": {
      "text/html": [
       "<div>\n",
       "<style scoped>\n",
       "    .dataframe tbody tr th:only-of-type {\n",
       "        vertical-align: middle;\n",
       "    }\n",
       "\n",
       "    .dataframe tbody tr th {\n",
       "        vertical-align: top;\n",
       "    }\n",
       "\n",
       "    .dataframe thead th {\n",
       "        text-align: right;\n",
       "    }\n",
       "</style>\n",
       "<table border=\"1\" class=\"dataframe\">\n",
       "  <thead>\n",
       "    <tr style=\"text-align: right;\">\n",
       "      <th></th>\n",
       "      <th>id</th>\n",
       "      <th>dim</th>\n",
       "    </tr>\n",
       "  </thead>\n",
       "  <tbody>\n",
       "    <tr>\n",
       "      <th>0</th>\n",
       "      <td>1000092795</td>\n",
       "      <td>[{'height': 500, 'width': 333}]</td>\n",
       "    </tr>\n",
       "    <tr>\n",
       "      <th>1</th>\n",
       "      <td>10002456</td>\n",
       "      <td>[{'height': 374, 'width': 500}]</td>\n",
       "    </tr>\n",
       "    <tr>\n",
       "      <th>2</th>\n",
       "      <td>1000268201</td>\n",
       "      <td>[{'height': 500, 'width': 375}]</td>\n",
       "    </tr>\n",
       "    <tr>\n",
       "      <th>3</th>\n",
       "      <td>1000344755</td>\n",
       "      <td>[{'height': 333, 'width': 500}]</td>\n",
       "    </tr>\n",
       "    <tr>\n",
       "      <th>4</th>\n",
       "      <td>1000366164</td>\n",
       "      <td>[{'height': 375, 'width': 500}]</td>\n",
       "    </tr>\n",
       "    <tr>\n",
       "      <th>...</th>\n",
       "      <td>...</td>\n",
       "      <td>...</td>\n",
       "    </tr>\n",
       "    <tr>\n",
       "      <th>28995</th>\n",
       "      <td>997338199</td>\n",
       "      <td>[{'height': 400, 'width': 500}]</td>\n",
       "    </tr>\n",
       "    <tr>\n",
       "      <th>28996</th>\n",
       "      <td>997722733</td>\n",
       "      <td>[{'height': 500, 'width': 333}]</td>\n",
       "    </tr>\n",
       "    <tr>\n",
       "      <th>28997</th>\n",
       "      <td>997876722</td>\n",
       "      <td>[{'height': 500, 'width': 333}]</td>\n",
       "    </tr>\n",
       "    <tr>\n",
       "      <th>28998</th>\n",
       "      <td>99804383</td>\n",
       "      <td>[{'height': 500, 'width': 375}]</td>\n",
       "    </tr>\n",
       "    <tr>\n",
       "      <th>28999</th>\n",
       "      <td>998845445</td>\n",
       "      <td>[{'height': 375, 'width': 500}]</td>\n",
       "    </tr>\n",
       "  </tbody>\n",
       "</table>\n",
       "<p>29000 rows × 2 columns</p>\n",
       "</div>"
      ],
      "text/plain": [
       "               id                              dim\n",
       "0      1000092795  [{'height': 500, 'width': 333}]\n",
       "1        10002456  [{'height': 374, 'width': 500}]\n",
       "2      1000268201  [{'height': 500, 'width': 375}]\n",
       "3      1000344755  [{'height': 333, 'width': 500}]\n",
       "4      1000366164  [{'height': 375, 'width': 500}]\n",
       "...           ...                              ...\n",
       "28995   997338199  [{'height': 400, 'width': 500}]\n",
       "28996   997722733  [{'height': 500, 'width': 333}]\n",
       "28997   997876722  [{'height': 500, 'width': 333}]\n",
       "28998    99804383  [{'height': 500, 'width': 375}]\n",
       "28999   998845445  [{'height': 375, 'width': 500}]\n",
       "\n",
       "[29000 rows x 2 columns]"
      ]
     },
     "execution_count": 15,
     "metadata": {},
     "output_type": "execute_result"
    }
   ],
   "source": [
    "sg_tsv = './training_union_class/train.hw.tsv'\n",
    "df_hw = pd.read_csv(sg_tsv,sep='\\t',header = None, converters={1:json.loads})\n",
    "df_hw = df_hw.rename(columns={0: \"id\", 1: \"dim\"})\n",
    "df_hw"
   ]
  },
  {
   "cell_type": "code",
   "execution_count": 17,
   "id": "b4cc2d12",
   "metadata": {},
   "outputs": [
    {
     "data": {
      "text/plain": [
       "True"
      ]
     },
     "execution_count": 17,
     "metadata": {},
     "output_type": "execute_result"
    }
   ],
   "source": [
    "np.all(df_hw[\"id\"].values == df_feature[\"id\"].values)"
   ]
  },
  {
   "cell_type": "code",
   "execution_count": 18,
   "id": "374b4688",
   "metadata": {},
   "outputs": [
    {
     "data": {
      "text/plain": [
       "True"
      ]
     },
     "execution_count": 18,
     "metadata": {},
     "output_type": "execute_result"
    }
   ],
   "source": [
    "np.all(df_hw[\"id\"].values == df_label[\"id\"].values)"
   ]
  },
  {
   "cell_type": "code",
   "execution_count": 19,
   "id": "e1ff562d",
   "metadata": {},
   "outputs": [],
   "source": [
    "from features_detection.maskrcnn_benchmark.structures.tsv_file_ops import tsv_reader, tsv_writer\n",
    "\n",
    "OUTPUT_DIR = './training_union_class/'\n",
    "LABEL_FILE = os.path.join(OUTPUT_DIR,'train.label.tsv')\n",
    "FEATURE_FILE = os.path.join(OUTPUT_DIR,'train.feature.tsv')\n",
    "if not os.path.exists(OUTPUT_DIR):\n",
    "    os.makedirs(OUTPUT_DIR)\n",
    "    print(f\"path to {OUTPUT_DIR} created\")"
   ]
  },
  {
   "cell_type": "code",
   "execution_count": 21,
   "id": "968549f5",
   "metadata": {},
   "outputs": [
    {
     "name": "stderr",
     "output_type": "stream",
     "text": [
      "100%|███████████████████████████████████████████████████████████████████████████| 29000/29000 [04:39<00:00, 103.73it/s]\n"
     ]
    }
   ],
   "source": [
    "df_feature['features'] = df_feature['features'].progress_apply(json.dumps)"
   ]
  },
  {
   "cell_type": "code",
   "execution_count": 20,
   "id": "32701526",
   "metadata": {},
   "outputs": [
    {
     "name": "stderr",
     "output_type": "stream",
     "text": [
      "100%|██████████████████████████████████████████████████████████████████████████| 29000/29000 [00:06<00:00, 4528.42it/s]\n"
     ]
    }
   ],
   "source": [
    "df_label['label'] = df_label['label'].progress_apply(json.dumps)"
   ]
  },
  {
   "cell_type": "code",
   "execution_count": 22,
   "id": "71deb31d",
   "metadata": {},
   "outputs": [],
   "source": [
    "tsv_writer(df_feature[[\"id\", \"features\"]].values.tolist(), FEATURE_FILE)"
   ]
  },
  {
   "cell_type": "code",
   "execution_count": 23,
   "id": "e9d4141d",
   "metadata": {},
   "outputs": [],
   "source": [
    "tsv_writer(df_label[[\"id\", \"label\"]].values.tolist(), LABEL_FILE)"
   ]
  }
 ],
 "metadata": {
  "kernelspec": {
   "display_name": "Python 3 (ipykernel)",
   "language": "python",
   "name": "python3"
  },
  "language_info": {
   "codemirror_mode": {
    "name": "ipython",
    "version": 3
   },
   "file_extension": ".py",
   "mimetype": "text/x-python",
   "name": "python",
   "nbconvert_exporter": "python",
   "pygments_lexer": "ipython3",
   "version": "3.9.4"
  }
 },
 "nbformat": 4,
 "nbformat_minor": 5
}
